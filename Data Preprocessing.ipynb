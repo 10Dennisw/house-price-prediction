{
 "cells": [
  {
   "cell_type": "markdown",
   "metadata": {},
   "source": [
    "# Data Preprocessing"
   ]
  },
  {
   "cell_type": "code",
   "execution_count": 130,
   "metadata": {},
   "outputs": [],
   "source": [
    "import pandas as pd"
   ]
  },
  {
   "cell_type": "code",
   "execution_count": 131,
   "metadata": {},
   "outputs": [],
   "source": [
    "# loading the data into a dataframe\n",
    "path = \"https://raw.githubusercontent.com/10Dennisw/house-price-prediction/main/datasets/HousingPrices-Amsterdam-August-2021.csv\"\n",
    "df = pd.read_csv(path)"
   ]
  },
  {
   "cell_type": "code",
   "execution_count": 132,
   "metadata": {},
   "outputs": [
    {
     "data": {
      "text/html": [
       "<div>\n",
       "<style scoped>\n",
       "    .dataframe tbody tr th:only-of-type {\n",
       "        vertical-align: middle;\n",
       "    }\n",
       "\n",
       "    .dataframe tbody tr th {\n",
       "        vertical-align: top;\n",
       "    }\n",
       "\n",
       "    .dataframe thead th {\n",
       "        text-align: right;\n",
       "    }\n",
       "</style>\n",
       "<table border=\"1\" class=\"dataframe\">\n",
       "  <thead>\n",
       "    <tr style=\"text-align: right;\">\n",
       "      <th></th>\n",
       "      <th>Address</th>\n",
       "      <th>Zip</th>\n",
       "      <th>Price</th>\n",
       "      <th>Area</th>\n",
       "      <th>Room</th>\n",
       "      <th>Lon</th>\n",
       "      <th>Lat</th>\n",
       "    </tr>\n",
       "  </thead>\n",
       "  <tbody>\n",
       "    <tr>\n",
       "      <th>0</th>\n",
       "      <td>Blasiusstraat 8 2, Amsterdam</td>\n",
       "      <td>1091 CR</td>\n",
       "      <td>685000.0</td>\n",
       "      <td>64</td>\n",
       "      <td>3</td>\n",
       "      <td>4.907736</td>\n",
       "      <td>52.356157</td>\n",
       "    </tr>\n",
       "    <tr>\n",
       "      <th>1</th>\n",
       "      <td>Kromme Leimuidenstraat 13 H, Amsterdam</td>\n",
       "      <td>1059 EL</td>\n",
       "      <td>475000.0</td>\n",
       "      <td>60</td>\n",
       "      <td>3</td>\n",
       "      <td>4.850476</td>\n",
       "      <td>52.348586</td>\n",
       "    </tr>\n",
       "    <tr>\n",
       "      <th>2</th>\n",
       "      <td>Zaaiersweg 11 A, Amsterdam</td>\n",
       "      <td>1097 SM</td>\n",
       "      <td>850000.0</td>\n",
       "      <td>109</td>\n",
       "      <td>4</td>\n",
       "      <td>4.944774</td>\n",
       "      <td>52.343782</td>\n",
       "    </tr>\n",
       "    <tr>\n",
       "      <th>3</th>\n",
       "      <td>Tenerifestraat 40, Amsterdam</td>\n",
       "      <td>1060 TH</td>\n",
       "      <td>580000.0</td>\n",
       "      <td>128</td>\n",
       "      <td>6</td>\n",
       "      <td>4.789928</td>\n",
       "      <td>52.343712</td>\n",
       "    </tr>\n",
       "    <tr>\n",
       "      <th>4</th>\n",
       "      <td>Winterjanpad 21, Amsterdam</td>\n",
       "      <td>1036 KN</td>\n",
       "      <td>720000.0</td>\n",
       "      <td>138</td>\n",
       "      <td>5</td>\n",
       "      <td>4.902503</td>\n",
       "      <td>52.410538</td>\n",
       "    </tr>\n",
       "    <tr>\n",
       "      <th>...</th>\n",
       "      <td>...</td>\n",
       "      <td>...</td>\n",
       "      <td>...</td>\n",
       "      <td>...</td>\n",
       "      <td>...</td>\n",
       "      <td>...</td>\n",
       "      <td>...</td>\n",
       "    </tr>\n",
       "    <tr>\n",
       "      <th>919</th>\n",
       "      <td>Ringdijk, Amsterdam</td>\n",
       "      <td>1097 AE</td>\n",
       "      <td>750000.0</td>\n",
       "      <td>117</td>\n",
       "      <td>1</td>\n",
       "      <td>4.927757</td>\n",
       "      <td>52.354173</td>\n",
       "    </tr>\n",
       "    <tr>\n",
       "      <th>920</th>\n",
       "      <td>Kleine Beerstraat 31, Amsterdam</td>\n",
       "      <td>1033 CP</td>\n",
       "      <td>350000.0</td>\n",
       "      <td>72</td>\n",
       "      <td>3</td>\n",
       "      <td>4.890612</td>\n",
       "      <td>52.414587</td>\n",
       "    </tr>\n",
       "    <tr>\n",
       "      <th>921</th>\n",
       "      <td>Stuyvesantstraat 33 II, Amsterdam</td>\n",
       "      <td>1058 AK</td>\n",
       "      <td>350000.0</td>\n",
       "      <td>51</td>\n",
       "      <td>3</td>\n",
       "      <td>4.856935</td>\n",
       "      <td>52.363256</td>\n",
       "    </tr>\n",
       "    <tr>\n",
       "      <th>922</th>\n",
       "      <td>John Blankensteinstraat 51, Amsterdam</td>\n",
       "      <td>1095 MB</td>\n",
       "      <td>599000.0</td>\n",
       "      <td>113</td>\n",
       "      <td>4</td>\n",
       "      <td>4.965731</td>\n",
       "      <td>52.375268</td>\n",
       "    </tr>\n",
       "    <tr>\n",
       "      <th>923</th>\n",
       "      <td>S. F. van Ossstraat 334, Amsterdam</td>\n",
       "      <td>1068 JS</td>\n",
       "      <td>300000.0</td>\n",
       "      <td>79</td>\n",
       "      <td>4</td>\n",
       "      <td>4.810678</td>\n",
       "      <td>52.355493</td>\n",
       "    </tr>\n",
       "  </tbody>\n",
       "</table>\n",
       "<p>924 rows × 7 columns</p>\n",
       "</div>"
      ],
      "text/plain": [
       "                                    Address      Zip     Price  Area  Room  \\\n",
       "0              Blasiusstraat 8 2, Amsterdam  1091 CR  685000.0    64     3   \n",
       "1    Kromme Leimuidenstraat 13 H, Amsterdam  1059 EL  475000.0    60     3   \n",
       "2                Zaaiersweg 11 A, Amsterdam  1097 SM  850000.0   109     4   \n",
       "3              Tenerifestraat 40, Amsterdam  1060 TH  580000.0   128     6   \n",
       "4                Winterjanpad 21, Amsterdam  1036 KN  720000.0   138     5   \n",
       "..                                      ...      ...       ...   ...   ...   \n",
       "919                     Ringdijk, Amsterdam  1097 AE  750000.0   117     1   \n",
       "920         Kleine Beerstraat 31, Amsterdam  1033 CP  350000.0    72     3   \n",
       "921       Stuyvesantstraat 33 II, Amsterdam  1058 AK  350000.0    51     3   \n",
       "922   John Blankensteinstraat 51, Amsterdam  1095 MB  599000.0   113     4   \n",
       "923      S. F. van Ossstraat 334, Amsterdam  1068 JS  300000.0    79     4   \n",
       "\n",
       "          Lon        Lat  \n",
       "0    4.907736  52.356157  \n",
       "1    4.850476  52.348586  \n",
       "2    4.944774  52.343782  \n",
       "3    4.789928  52.343712  \n",
       "4    4.902503  52.410538  \n",
       "..        ...        ...  \n",
       "919  4.927757  52.354173  \n",
       "920  4.890612  52.414587  \n",
       "921  4.856935  52.363256  \n",
       "922  4.965731  52.375268  \n",
       "923  4.810678  52.355493  \n",
       "\n",
       "[924 rows x 7 columns]"
      ]
     },
     "execution_count": 132,
     "metadata": {},
     "output_type": "execute_result"
    }
   ],
   "source": [
    "df.drop('Unnamed: 0', axis=1, inplace=True) # dropping initial column which contains \n",
    "df"
   ]
  },
  {
   "cell_type": "code",
   "execution_count": 133,
   "metadata": {},
   "outputs": [
    {
     "data": {
      "text/plain": [
       "(924, 7)"
      ]
     },
     "execution_count": 133,
     "metadata": {},
     "output_type": "execute_result"
    }
   ],
   "source": [
    "df.shape"
   ]
  },
  {
   "cell_type": "markdown",
   "metadata": {},
   "source": [
    "### Data Cleaning"
   ]
  },
  {
   "cell_type": "code",
   "execution_count": 134,
   "metadata": {},
   "outputs": [
    {
     "data": {
      "text/html": [
       "<div>\n",
       "<style scoped>\n",
       "    .dataframe tbody tr th:only-of-type {\n",
       "        vertical-align: middle;\n",
       "    }\n",
       "\n",
       "    .dataframe tbody tr th {\n",
       "        vertical-align: top;\n",
       "    }\n",
       "\n",
       "    .dataframe thead th {\n",
       "        text-align: right;\n",
       "    }\n",
       "</style>\n",
       "<table border=\"1\" class=\"dataframe\">\n",
       "  <thead>\n",
       "    <tr style=\"text-align: right;\">\n",
       "      <th></th>\n",
       "      <th>Address</th>\n",
       "      <th>Zip</th>\n",
       "      <th>Price</th>\n",
       "      <th>Area</th>\n",
       "      <th>Room</th>\n",
       "      <th>Lon</th>\n",
       "      <th>Lat</th>\n",
       "    </tr>\n",
       "  </thead>\n",
       "  <tbody>\n",
       "    <tr>\n",
       "      <th>909</th>\n",
       "      <td>Quashibastraat, Amsterdam</td>\n",
       "      <td>1087 VS</td>\n",
       "      <td>348738.0</td>\n",
       "      <td>79</td>\n",
       "      <td>4</td>\n",
       "      <td>5.016555</td>\n",
       "      <td>52.350513</td>\n",
       "    </tr>\n",
       "  </tbody>\n",
       "</table>\n",
       "</div>"
      ],
      "text/plain": [
       "                       Address      Zip     Price  Area  Room       Lon  \\\n",
       "909  Quashibastraat, Amsterdam  1087 VS  348738.0    79     4  5.016555   \n",
       "\n",
       "           Lat  \n",
       "909  52.350513  "
      ]
     },
     "execution_count": 134,
     "metadata": {},
     "output_type": "execute_result"
    }
   ],
   "source": [
    "# checking for duplicates\n",
    "duplicates = df.duplicated()\n",
    "df[duplicates]"
   ]
  },
  {
   "cell_type": "code",
   "execution_count": 135,
   "metadata": {},
   "outputs": [
    {
     "data": {
      "text/html": [
       "<div>\n",
       "<style scoped>\n",
       "    .dataframe tbody tr th:only-of-type {\n",
       "        vertical-align: middle;\n",
       "    }\n",
       "\n",
       "    .dataframe tbody tr th {\n",
       "        vertical-align: top;\n",
       "    }\n",
       "\n",
       "    .dataframe thead th {\n",
       "        text-align: right;\n",
       "    }\n",
       "</style>\n",
       "<table border=\"1\" class=\"dataframe\">\n",
       "  <thead>\n",
       "    <tr style=\"text-align: right;\">\n",
       "      <th></th>\n",
       "      <th>Address</th>\n",
       "      <th>Zip</th>\n",
       "      <th>Price</th>\n",
       "      <th>Area</th>\n",
       "      <th>Room</th>\n",
       "      <th>Lon</th>\n",
       "      <th>Lat</th>\n",
       "    </tr>\n",
       "  </thead>\n",
       "  <tbody>\n",
       "    <tr>\n",
       "      <th>908</th>\n",
       "      <td>Quashibastraat, Amsterdam</td>\n",
       "      <td>1087 VS</td>\n",
       "      <td>348738.0</td>\n",
       "      <td>79</td>\n",
       "      <td>4</td>\n",
       "      <td>5.016555</td>\n",
       "      <td>52.350513</td>\n",
       "    </tr>\n",
       "    <tr>\n",
       "      <th>909</th>\n",
       "      <td>Quashibastraat, Amsterdam</td>\n",
       "      <td>1087 VS</td>\n",
       "      <td>348738.0</td>\n",
       "      <td>79</td>\n",
       "      <td>4</td>\n",
       "      <td>5.016555</td>\n",
       "      <td>52.350513</td>\n",
       "    </tr>\n",
       "  </tbody>\n",
       "</table>\n",
       "</div>"
      ],
      "text/plain": [
       "                       Address      Zip     Price  Area  Room       Lon  \\\n",
       "908  Quashibastraat, Amsterdam  1087 VS  348738.0    79     4  5.016555   \n",
       "909  Quashibastraat, Amsterdam  1087 VS  348738.0    79     4  5.016555   \n",
       "\n",
       "           Lat  \n",
       "908  52.350513  \n",
       "909  52.350513  "
      ]
     },
     "execution_count": 135,
     "metadata": {},
     "output_type": "execute_result"
    }
   ],
   "source": [
    "df.loc[df['Address'] == \"Quashibastraat, Amsterdam\"] # printing the row for a further look"
   ]
  },
  {
   "cell_type": "code",
   "execution_count": 136,
   "metadata": {},
   "outputs": [],
   "source": [
    "df = df.drop_duplicates(keep='last') # keep last occurance of the duplicate rows"
   ]
  },
  {
   "cell_type": "code",
   "execution_count": 137,
   "metadata": {},
   "outputs": [
    {
     "data": {
      "text/plain": [
       "Address    0\n",
       "Zip        0\n",
       "Price      4\n",
       "Area       0\n",
       "Room       0\n",
       "Lon        0\n",
       "Lat        0\n",
       "dtype: int64"
      ]
     },
     "execution_count": 137,
     "metadata": {},
     "output_type": "execute_result"
    }
   ],
   "source": [
    "df.isnull().sum() # looking for missing values"
   ]
  },
  {
   "cell_type": "code",
   "execution_count": 138,
   "metadata": {},
   "outputs": [
    {
     "data": {
      "text/html": [
       "<div>\n",
       "<style scoped>\n",
       "    .dataframe tbody tr th:only-of-type {\n",
       "        vertical-align: middle;\n",
       "    }\n",
       "\n",
       "    .dataframe tbody tr th {\n",
       "        vertical-align: top;\n",
       "    }\n",
       "\n",
       "    .dataframe thead th {\n",
       "        text-align: right;\n",
       "    }\n",
       "</style>\n",
       "<table border=\"1\" class=\"dataframe\">\n",
       "  <thead>\n",
       "    <tr style=\"text-align: right;\">\n",
       "      <th></th>\n",
       "      <th>Address</th>\n",
       "      <th>Zip</th>\n",
       "      <th>Price</th>\n",
       "      <th>Area</th>\n",
       "      <th>Room</th>\n",
       "      <th>Lon</th>\n",
       "      <th>Lat</th>\n",
       "    </tr>\n",
       "  </thead>\n",
       "  <tbody>\n",
       "    <tr>\n",
       "      <th>73</th>\n",
       "      <td>Falckstraat 47 A, Amsterdam</td>\n",
       "      <td>1017 VV</td>\n",
       "      <td>NaN</td>\n",
       "      <td>147</td>\n",
       "      <td>3</td>\n",
       "      <td>4.897454</td>\n",
       "      <td>52.360707</td>\n",
       "    </tr>\n",
       "    <tr>\n",
       "      <th>321</th>\n",
       "      <td>Haarlemmerweg 705, Amsterdam</td>\n",
       "      <td>1067 HP</td>\n",
       "      <td>NaN</td>\n",
       "      <td>366</td>\n",
       "      <td>12</td>\n",
       "      <td>4.787874</td>\n",
       "      <td>52.383877</td>\n",
       "    </tr>\n",
       "    <tr>\n",
       "      <th>610</th>\n",
       "      <td>Zeeburgerkade 760, Amsterdam</td>\n",
       "      <td>1019 HT</td>\n",
       "      <td>NaN</td>\n",
       "      <td>107</td>\n",
       "      <td>3</td>\n",
       "      <td>4.945022</td>\n",
       "      <td>52.369244</td>\n",
       "    </tr>\n",
       "    <tr>\n",
       "      <th>727</th>\n",
       "      <td>Suikerplein 16, Amsterdam</td>\n",
       "      <td>1013 CK</td>\n",
       "      <td>NaN</td>\n",
       "      <td>81</td>\n",
       "      <td>3</td>\n",
       "      <td>4.880976</td>\n",
       "      <td>52.389623</td>\n",
       "    </tr>\n",
       "  </tbody>\n",
       "</table>\n",
       "</div>"
      ],
      "text/plain": [
       "                          Address      Zip  Price  Area  Room       Lon  \\\n",
       "73    Falckstraat 47 A, Amsterdam  1017 VV    NaN   147     3  4.897454   \n",
       "321  Haarlemmerweg 705, Amsterdam  1067 HP    NaN   366    12  4.787874   \n",
       "610  Zeeburgerkade 760, Amsterdam  1019 HT    NaN   107     3  4.945022   \n",
       "727     Suikerplein 16, Amsterdam  1013 CK    NaN    81     3  4.880976   \n",
       "\n",
       "           Lat  \n",
       "73   52.360707  \n",
       "321  52.383877  \n",
       "610  52.369244  \n",
       "727  52.389623  "
      ]
     },
     "execution_count": 138,
     "metadata": {},
     "output_type": "execute_result"
    }
   ],
   "source": [
    "df[df.isnull().any(axis=1)] # printing the rows with missing values"
   ]
  },
  {
   "cell_type": "code",
   "execution_count": 139,
   "metadata": {},
   "outputs": [],
   "source": [
    "df = df.dropna() # dropping missing values"
   ]
  },
  {
   "cell_type": "code",
   "execution_count": 140,
   "metadata": {},
   "outputs": [
    {
     "data": {
      "text/plain": [
       "Address     object\n",
       "Zip         object\n",
       "Price      float64\n",
       "Area         int64\n",
       "Room         int64\n",
       "Lon        float64\n",
       "Lat        float64\n",
       "dtype: object"
      ]
     },
     "execution_count": 140,
     "metadata": {},
     "output_type": "execute_result"
    }
   ],
   "source": [
    "df.dtypes # checking datatypes"
   ]
  },
  {
   "cell_type": "code",
   "execution_count": 141,
   "metadata": {},
   "outputs": [
    {
     "data": {
      "text/html": [
       "<div>\n",
       "<style scoped>\n",
       "    .dataframe tbody tr th:only-of-type {\n",
       "        vertical-align: middle;\n",
       "    }\n",
       "\n",
       "    .dataframe tbody tr th {\n",
       "        vertical-align: top;\n",
       "    }\n",
       "\n",
       "    .dataframe thead th {\n",
       "        text-align: right;\n",
       "    }\n",
       "</style>\n",
       "<table border=\"1\" class=\"dataframe\">\n",
       "  <thead>\n",
       "    <tr style=\"text-align: right;\">\n",
       "      <th></th>\n",
       "      <th>Address</th>\n",
       "      <th>Zip</th>\n",
       "      <th>Price</th>\n",
       "      <th>Area</th>\n",
       "      <th>Room</th>\n",
       "      <th>Lon</th>\n",
       "      <th>Lat</th>\n",
       "      <th>Area Code</th>\n",
       "    </tr>\n",
       "  </thead>\n",
       "  <tbody>\n",
       "    <tr>\n",
       "      <th>0</th>\n",
       "      <td>Blasiusstraat 8 2, Amsterdam</td>\n",
       "      <td>1091 CR</td>\n",
       "      <td>685000.0</td>\n",
       "      <td>64</td>\n",
       "      <td>3</td>\n",
       "      <td>4.907736</td>\n",
       "      <td>52.356157</td>\n",
       "      <td>1091</td>\n",
       "    </tr>\n",
       "    <tr>\n",
       "      <th>1</th>\n",
       "      <td>Kromme Leimuidenstraat 13 H, Amsterdam</td>\n",
       "      <td>1059 EL</td>\n",
       "      <td>475000.0</td>\n",
       "      <td>60</td>\n",
       "      <td>3</td>\n",
       "      <td>4.850476</td>\n",
       "      <td>52.348586</td>\n",
       "      <td>1059</td>\n",
       "    </tr>\n",
       "    <tr>\n",
       "      <th>2</th>\n",
       "      <td>Zaaiersweg 11 A, Amsterdam</td>\n",
       "      <td>1097 SM</td>\n",
       "      <td>850000.0</td>\n",
       "      <td>109</td>\n",
       "      <td>4</td>\n",
       "      <td>4.944774</td>\n",
       "      <td>52.343782</td>\n",
       "      <td>1097</td>\n",
       "    </tr>\n",
       "    <tr>\n",
       "      <th>3</th>\n",
       "      <td>Tenerifestraat 40, Amsterdam</td>\n",
       "      <td>1060 TH</td>\n",
       "      <td>580000.0</td>\n",
       "      <td>128</td>\n",
       "      <td>6</td>\n",
       "      <td>4.789928</td>\n",
       "      <td>52.343712</td>\n",
       "      <td>1060</td>\n",
       "    </tr>\n",
       "    <tr>\n",
       "      <th>4</th>\n",
       "      <td>Winterjanpad 21, Amsterdam</td>\n",
       "      <td>1036 KN</td>\n",
       "      <td>720000.0</td>\n",
       "      <td>138</td>\n",
       "      <td>5</td>\n",
       "      <td>4.902503</td>\n",
       "      <td>52.410538</td>\n",
       "      <td>1036</td>\n",
       "    </tr>\n",
       "    <tr>\n",
       "      <th>...</th>\n",
       "      <td>...</td>\n",
       "      <td>...</td>\n",
       "      <td>...</td>\n",
       "      <td>...</td>\n",
       "      <td>...</td>\n",
       "      <td>...</td>\n",
       "      <td>...</td>\n",
       "      <td>...</td>\n",
       "    </tr>\n",
       "    <tr>\n",
       "      <th>919</th>\n",
       "      <td>Ringdijk, Amsterdam</td>\n",
       "      <td>1097 AE</td>\n",
       "      <td>750000.0</td>\n",
       "      <td>117</td>\n",
       "      <td>1</td>\n",
       "      <td>4.927757</td>\n",
       "      <td>52.354173</td>\n",
       "      <td>1097</td>\n",
       "    </tr>\n",
       "    <tr>\n",
       "      <th>920</th>\n",
       "      <td>Kleine Beerstraat 31, Amsterdam</td>\n",
       "      <td>1033 CP</td>\n",
       "      <td>350000.0</td>\n",
       "      <td>72</td>\n",
       "      <td>3</td>\n",
       "      <td>4.890612</td>\n",
       "      <td>52.414587</td>\n",
       "      <td>1033</td>\n",
       "    </tr>\n",
       "    <tr>\n",
       "      <th>921</th>\n",
       "      <td>Stuyvesantstraat 33 II, Amsterdam</td>\n",
       "      <td>1058 AK</td>\n",
       "      <td>350000.0</td>\n",
       "      <td>51</td>\n",
       "      <td>3</td>\n",
       "      <td>4.856935</td>\n",
       "      <td>52.363256</td>\n",
       "      <td>1058</td>\n",
       "    </tr>\n",
       "    <tr>\n",
       "      <th>922</th>\n",
       "      <td>John Blankensteinstraat 51, Amsterdam</td>\n",
       "      <td>1095 MB</td>\n",
       "      <td>599000.0</td>\n",
       "      <td>113</td>\n",
       "      <td>4</td>\n",
       "      <td>4.965731</td>\n",
       "      <td>52.375268</td>\n",
       "      <td>1095</td>\n",
       "    </tr>\n",
       "    <tr>\n",
       "      <th>923</th>\n",
       "      <td>S. F. van Ossstraat 334, Amsterdam</td>\n",
       "      <td>1068 JS</td>\n",
       "      <td>300000.0</td>\n",
       "      <td>79</td>\n",
       "      <td>4</td>\n",
       "      <td>4.810678</td>\n",
       "      <td>52.355493</td>\n",
       "      <td>1068</td>\n",
       "    </tr>\n",
       "  </tbody>\n",
       "</table>\n",
       "<p>919 rows × 8 columns</p>\n",
       "</div>"
      ],
      "text/plain": [
       "                                    Address      Zip     Price  Area  Room  \\\n",
       "0              Blasiusstraat 8 2, Amsterdam  1091 CR  685000.0    64     3   \n",
       "1    Kromme Leimuidenstraat 13 H, Amsterdam  1059 EL  475000.0    60     3   \n",
       "2                Zaaiersweg 11 A, Amsterdam  1097 SM  850000.0   109     4   \n",
       "3              Tenerifestraat 40, Amsterdam  1060 TH  580000.0   128     6   \n",
       "4                Winterjanpad 21, Amsterdam  1036 KN  720000.0   138     5   \n",
       "..                                      ...      ...       ...   ...   ...   \n",
       "919                     Ringdijk, Amsterdam  1097 AE  750000.0   117     1   \n",
       "920         Kleine Beerstraat 31, Amsterdam  1033 CP  350000.0    72     3   \n",
       "921       Stuyvesantstraat 33 II, Amsterdam  1058 AK  350000.0    51     3   \n",
       "922   John Blankensteinstraat 51, Amsterdam  1095 MB  599000.0   113     4   \n",
       "923      S. F. van Ossstraat 334, Amsterdam  1068 JS  300000.0    79     4   \n",
       "\n",
       "          Lon        Lat  Area Code  \n",
       "0    4.907736  52.356157       1091  \n",
       "1    4.850476  52.348586       1059  \n",
       "2    4.944774  52.343782       1097  \n",
       "3    4.789928  52.343712       1060  \n",
       "4    4.902503  52.410538       1036  \n",
       "..        ...        ...        ...  \n",
       "919  4.927757  52.354173       1097  \n",
       "920  4.890612  52.414587       1033  \n",
       "921  4.856935  52.363256       1058  \n",
       "922  4.965731  52.375268       1095  \n",
       "923  4.810678  52.355493       1068  \n",
       "\n",
       "[919 rows x 8 columns]"
      ]
     },
     "execution_count": 141,
     "metadata": {},
     "output_type": "execute_result"
    }
   ],
   "source": [
    "df['Area Code'] = df['Zip'].astype(str).str[:4] #splitting the Zip the create an area code\n",
    "df['Area Code'] = df['Area Code'].astype(int)\n",
    "df"
   ]
  },
  {
   "cell_type": "code",
   "execution_count": 142,
   "metadata": {},
   "outputs": [
    {
     "name": "stdout",
     "output_type": "stream",
     "text": [
      "--> The median times an area code appears is: 12.5\n"
     ]
    },
    {
     "data": {
      "text/plain": [
       "Area Code\n",
       "1017    31\n",
       "1055    29\n",
       "1068    26\n",
       "1053    26\n",
       "1018    25\n",
       "        ..\n",
       "1023     4\n",
       "1108     3\n",
       "1028     2\n",
       "1109     2\n",
       "1022     1\n",
       "Name: count, Length: 70, dtype: int64"
      ]
     },
     "execution_count": 142,
     "metadata": {},
     "output_type": "execute_result"
    }
   ],
   "source": [
    "# seeing how many times each area code appears in the df\n",
    "counts = df['Area Code'].value_counts() \n",
    "print(f\"--> The median times an area code appears is: {counts.median()}\") # printing median times\n",
    "counts"
   ]
  },
  {
   "cell_type": "markdown",
   "metadata": {},
   "source": [
    "### Feature Engineering"
   ]
  },
  {
   "cell_type": "code",
   "execution_count": 143,
   "metadata": {},
   "outputs": [
    {
     "data": {
      "text/html": [
       "<div>\n",
       "<style scoped>\n",
       "    .dataframe tbody tr th:only-of-type {\n",
       "        vertical-align: middle;\n",
       "    }\n",
       "\n",
       "    .dataframe tbody tr th {\n",
       "        vertical-align: top;\n",
       "    }\n",
       "\n",
       "    .dataframe thead th {\n",
       "        text-align: right;\n",
       "    }\n",
       "</style>\n",
       "<table border=\"1\" class=\"dataframe\">\n",
       "  <thead>\n",
       "    <tr style=\"text-align: right;\">\n",
       "      <th></th>\n",
       "      <th>lower_limit</th>\n",
       "      <th>upper_limit</th>\n",
       "      <th>district_name</th>\n",
       "    </tr>\n",
       "  </thead>\n",
       "  <tbody>\n",
       "    <tr>\n",
       "      <th>0</th>\n",
       "      <td>1011</td>\n",
       "      <td>1019</td>\n",
       "      <td>Centrum</td>\n",
       "    </tr>\n",
       "    <tr>\n",
       "      <th>1</th>\n",
       "      <td>1020</td>\n",
       "      <td>1039</td>\n",
       "      <td>Noord</td>\n",
       "    </tr>\n",
       "    <tr>\n",
       "      <th>2</th>\n",
       "      <td>1040</td>\n",
       "      <td>1049</td>\n",
       "      <td>Westpoort</td>\n",
       "    </tr>\n",
       "    <tr>\n",
       "      <th>3</th>\n",
       "      <td>1050</td>\n",
       "      <td>1059</td>\n",
       "      <td>West</td>\n",
       "    </tr>\n",
       "    <tr>\n",
       "      <th>4</th>\n",
       "      <td>1060</td>\n",
       "      <td>1069</td>\n",
       "      <td>Nieuw West</td>\n",
       "    </tr>\n",
       "    <tr>\n",
       "      <th>5</th>\n",
       "      <td>1070</td>\n",
       "      <td>1083</td>\n",
       "      <td>Zuid</td>\n",
       "    </tr>\n",
       "    <tr>\n",
       "      <th>6</th>\n",
       "      <td>1086</td>\n",
       "      <td>1099</td>\n",
       "      <td>Oost</td>\n",
       "    </tr>\n",
       "    <tr>\n",
       "      <th>7</th>\n",
       "      <td>1100</td>\n",
       "      <td>1109</td>\n",
       "      <td>Zuidoost</td>\n",
       "    </tr>\n",
       "  </tbody>\n",
       "</table>\n",
       "</div>"
      ],
      "text/plain": [
       "   lower_limit  upper_limit district_name\n",
       "0         1011         1019       Centrum\n",
       "1         1020         1039         Noord\n",
       "2         1040         1049     Westpoort\n",
       "3         1050         1059          West\n",
       "4         1060         1069    Nieuw West\n",
       "5         1070         1083          Zuid\n",
       "6         1086         1099          Oost\n",
       "7         1100         1109      Zuidoost"
      ]
     },
     "execution_count": 143,
     "metadata": {},
     "output_type": "execute_result"
    }
   ],
   "source": [
    "# definining the boroughs of amsterdam with the area codes \n",
    "boroughs_df = pd.DataFrame([\n",
    "    [1011, 1019, \"Centrum\"], [1020, 1039, \"Noord\"], [1040, 1049, \"Westpoort\"], \n",
    "    [1050, 1059, \"West\"], [1060, 1069, \"Nieuw West\"], [1070, 1083, \"Zuid\"], \n",
    "    [1086, 1099, \"Oost\"], [1100, 1109, \"Zuidoost\"]],\n",
    "    columns = ['lower_limit', 'upper_limit', 'district_name']) \n",
    "\n",
    "boroughs_df"
   ]
  },
  {
   "cell_type": "code",
   "execution_count": 144,
   "metadata": {},
   "outputs": [
    {
     "data": {
      "text/html": [
       "<div>\n",
       "<style scoped>\n",
       "    .dataframe tbody tr th:only-of-type {\n",
       "        vertical-align: middle;\n",
       "    }\n",
       "\n",
       "    .dataframe tbody tr th {\n",
       "        vertical-align: top;\n",
       "    }\n",
       "\n",
       "    .dataframe thead th {\n",
       "        text-align: right;\n",
       "    }\n",
       "</style>\n",
       "<table border=\"1\" class=\"dataframe\">\n",
       "  <thead>\n",
       "    <tr style=\"text-align: right;\">\n",
       "      <th></th>\n",
       "      <th>Address</th>\n",
       "      <th>Zip</th>\n",
       "      <th>Price</th>\n",
       "      <th>Area</th>\n",
       "      <th>Room</th>\n",
       "      <th>Lon</th>\n",
       "      <th>Lat</th>\n",
       "      <th>Area Code</th>\n",
       "      <th>Borough</th>\n",
       "    </tr>\n",
       "  </thead>\n",
       "  <tbody>\n",
       "    <tr>\n",
       "      <th>0</th>\n",
       "      <td>Blasiusstraat 8 2, Amsterdam</td>\n",
       "      <td>1091 CR</td>\n",
       "      <td>685000.0</td>\n",
       "      <td>64</td>\n",
       "      <td>3</td>\n",
       "      <td>4.907736</td>\n",
       "      <td>52.356157</td>\n",
       "      <td>1091</td>\n",
       "      <td>Oost</td>\n",
       "    </tr>\n",
       "    <tr>\n",
       "      <th>1</th>\n",
       "      <td>Kromme Leimuidenstraat 13 H, Amsterdam</td>\n",
       "      <td>1059 EL</td>\n",
       "      <td>475000.0</td>\n",
       "      <td>60</td>\n",
       "      <td>3</td>\n",
       "      <td>4.850476</td>\n",
       "      <td>52.348586</td>\n",
       "      <td>1059</td>\n",
       "      <td>West</td>\n",
       "    </tr>\n",
       "    <tr>\n",
       "      <th>2</th>\n",
       "      <td>Zaaiersweg 11 A, Amsterdam</td>\n",
       "      <td>1097 SM</td>\n",
       "      <td>850000.0</td>\n",
       "      <td>109</td>\n",
       "      <td>4</td>\n",
       "      <td>4.944774</td>\n",
       "      <td>52.343782</td>\n",
       "      <td>1097</td>\n",
       "      <td>Oost</td>\n",
       "    </tr>\n",
       "    <tr>\n",
       "      <th>3</th>\n",
       "      <td>Tenerifestraat 40, Amsterdam</td>\n",
       "      <td>1060 TH</td>\n",
       "      <td>580000.0</td>\n",
       "      <td>128</td>\n",
       "      <td>6</td>\n",
       "      <td>4.789928</td>\n",
       "      <td>52.343712</td>\n",
       "      <td>1060</td>\n",
       "      <td>Nieuw West</td>\n",
       "    </tr>\n",
       "    <tr>\n",
       "      <th>4</th>\n",
       "      <td>Winterjanpad 21, Amsterdam</td>\n",
       "      <td>1036 KN</td>\n",
       "      <td>720000.0</td>\n",
       "      <td>138</td>\n",
       "      <td>5</td>\n",
       "      <td>4.902503</td>\n",
       "      <td>52.410538</td>\n",
       "      <td>1036</td>\n",
       "      <td>Noord</td>\n",
       "    </tr>\n",
       "    <tr>\n",
       "      <th>...</th>\n",
       "      <td>...</td>\n",
       "      <td>...</td>\n",
       "      <td>...</td>\n",
       "      <td>...</td>\n",
       "      <td>...</td>\n",
       "      <td>...</td>\n",
       "      <td>...</td>\n",
       "      <td>...</td>\n",
       "      <td>...</td>\n",
       "    </tr>\n",
       "    <tr>\n",
       "      <th>919</th>\n",
       "      <td>Ringdijk, Amsterdam</td>\n",
       "      <td>1097 AE</td>\n",
       "      <td>750000.0</td>\n",
       "      <td>117</td>\n",
       "      <td>1</td>\n",
       "      <td>4.927757</td>\n",
       "      <td>52.354173</td>\n",
       "      <td>1097</td>\n",
       "      <td>Oost</td>\n",
       "    </tr>\n",
       "    <tr>\n",
       "      <th>920</th>\n",
       "      <td>Kleine Beerstraat 31, Amsterdam</td>\n",
       "      <td>1033 CP</td>\n",
       "      <td>350000.0</td>\n",
       "      <td>72</td>\n",
       "      <td>3</td>\n",
       "      <td>4.890612</td>\n",
       "      <td>52.414587</td>\n",
       "      <td>1033</td>\n",
       "      <td>Noord</td>\n",
       "    </tr>\n",
       "    <tr>\n",
       "      <th>921</th>\n",
       "      <td>Stuyvesantstraat 33 II, Amsterdam</td>\n",
       "      <td>1058 AK</td>\n",
       "      <td>350000.0</td>\n",
       "      <td>51</td>\n",
       "      <td>3</td>\n",
       "      <td>4.856935</td>\n",
       "      <td>52.363256</td>\n",
       "      <td>1058</td>\n",
       "      <td>West</td>\n",
       "    </tr>\n",
       "    <tr>\n",
       "      <th>922</th>\n",
       "      <td>John Blankensteinstraat 51, Amsterdam</td>\n",
       "      <td>1095 MB</td>\n",
       "      <td>599000.0</td>\n",
       "      <td>113</td>\n",
       "      <td>4</td>\n",
       "      <td>4.965731</td>\n",
       "      <td>52.375268</td>\n",
       "      <td>1095</td>\n",
       "      <td>Oost</td>\n",
       "    </tr>\n",
       "    <tr>\n",
       "      <th>923</th>\n",
       "      <td>S. F. van Ossstraat 334, Amsterdam</td>\n",
       "      <td>1068 JS</td>\n",
       "      <td>300000.0</td>\n",
       "      <td>79</td>\n",
       "      <td>4</td>\n",
       "      <td>4.810678</td>\n",
       "      <td>52.355493</td>\n",
       "      <td>1068</td>\n",
       "      <td>Nieuw West</td>\n",
       "    </tr>\n",
       "  </tbody>\n",
       "</table>\n",
       "<p>919 rows × 9 columns</p>\n",
       "</div>"
      ],
      "text/plain": [
       "                                    Address      Zip     Price  Area  Room  \\\n",
       "0              Blasiusstraat 8 2, Amsterdam  1091 CR  685000.0    64     3   \n",
       "1    Kromme Leimuidenstraat 13 H, Amsterdam  1059 EL  475000.0    60     3   \n",
       "2                Zaaiersweg 11 A, Amsterdam  1097 SM  850000.0   109     4   \n",
       "3              Tenerifestraat 40, Amsterdam  1060 TH  580000.0   128     6   \n",
       "4                Winterjanpad 21, Amsterdam  1036 KN  720000.0   138     5   \n",
       "..                                      ...      ...       ...   ...   ...   \n",
       "919                     Ringdijk, Amsterdam  1097 AE  750000.0   117     1   \n",
       "920         Kleine Beerstraat 31, Amsterdam  1033 CP  350000.0    72     3   \n",
       "921       Stuyvesantstraat 33 II, Amsterdam  1058 AK  350000.0    51     3   \n",
       "922   John Blankensteinstraat 51, Amsterdam  1095 MB  599000.0   113     4   \n",
       "923      S. F. van Ossstraat 334, Amsterdam  1068 JS  300000.0    79     4   \n",
       "\n",
       "          Lon        Lat  Area Code     Borough  \n",
       "0    4.907736  52.356157       1091        Oost  \n",
       "1    4.850476  52.348586       1059        West  \n",
       "2    4.944774  52.343782       1097        Oost  \n",
       "3    4.789928  52.343712       1060  Nieuw West  \n",
       "4    4.902503  52.410538       1036       Noord  \n",
       "..        ...        ...        ...         ...  \n",
       "919  4.927757  52.354173       1097        Oost  \n",
       "920  4.890612  52.414587       1033       Noord  \n",
       "921  4.856935  52.363256       1058        West  \n",
       "922  4.965731  52.375268       1095        Oost  \n",
       "923  4.810678  52.355493       1068  Nieuw West  \n",
       "\n",
       "[919 rows x 9 columns]"
      ]
     },
     "execution_count": 144,
     "metadata": {},
     "output_type": "execute_result"
    }
   ],
   "source": [
    "# creating a new column for the borough through apply and lambda method\n",
    "df['Borough'] = df['Area Code'].apply(lambda x: boroughs_df.loc[\n",
    "    (boroughs_df['lower_limit'] <= x) & (boroughs_df['upper_limit'] >= x), \n",
    "    'district_name'].values[0]\n",
    "    )\n",
    "df"
   ]
  },
  {
   "cell_type": "markdown",
   "metadata": {},
   "source": [
    "### Exploratory Data Analysis"
   ]
  },
  {
   "cell_type": "code",
   "execution_count": 145,
   "metadata": {},
   "outputs": [],
   "source": [
    "import matplotlib.pyplot as plt"
   ]
  },
  {
   "cell_type": "code",
   "execution_count": 146,
   "metadata": {},
   "outputs": [],
   "source": [
    "total_outlier_list = []"
   ]
  },
  {
   "cell_type": "code",
   "execution_count": 147,
   "metadata": {},
   "outputs": [],
   "source": [
    "def plotting_boxplot_and_histogram(df, col_name):\n",
    "    # Adjust the size of the entire figure\n",
    "    plt.figure(figsize=(12, 5))  # Example size: 10 inches by 5 inches\n",
    "\n",
    "    # Plot 1: Boxplot\n",
    "    plt.subplot(1, 2, 1) \n",
    "    df.boxplot(column=[col_name])\n",
    "    plt.title('Boxplot of Variable ' + col_name)\n",
    "\n",
    "    # Plot 2: Histogram\n",
    "    plt.subplot(1, 2, 2) \n",
    "    plt.hist(df[col_name], bins=20, edgecolor='black', alpha=0.7)\n",
    "    plt.title('Histogram of Variable ' + col_name)\n",
    "    plt.xlabel('Value')\n",
    "    plt.ylabel('Frequency')\n",
    "\n",
    "    # Display the plots\n",
    "    plt.show()"
   ]
  },
  {
   "cell_type": "code",
   "execution_count": 148,
   "metadata": {},
   "outputs": [],
   "source": [
    "def finding_outliers(df, column_name):\n",
    "    Q1 = df[column_name].quantile(0.25)\n",
    "    Q3 = df[column_name].quantile(0.75)\n",
    "    IQR = Q3 - Q1\n",
    "    upper_whisker = Q3 + 1.5 * IQR\n",
    "    lower_whisker = Q1 - 1.5 * IQR\n",
    "\n",
    "    # Identifying the outliers, which are above or below the IQR\n",
    "    outliers = df[(df[column_name] > upper_whisker) | (df[column_name] < lower_whisker)]\n",
    "    \n",
    "    # Counting points\n",
    "    points_above = outliers[column_name][outliers[column_name] > upper_whisker].count()\n",
    "    points_below = outliers[column_name][outliers[column_name] < lower_whisker].count()\n",
    "    \n",
    "    points_above = df[column_name][df[column_name] > upper_whisker].count()\n",
    "    points_below = df[column_name][df[column_name] < lower_whisker].count()\n",
    "    print(f\"The number of points above: {points_above}\")\n",
    "    print(f\"The number of points below: {points_below}\")\n",
    "    print(f\"--> Total Number of Outliers: {points_above + points_below}\")\n",
    "\n",
    "    outlier_indices = outliers.index # saving the indices\n",
    "    return outlier_indices"
   ]
  },
  {
   "cell_type": "code",
   "execution_count": 149,
   "metadata": {},
   "outputs": [
    {
     "data": {
      "image/png": "[encoded data removed]",
      "text/plain": [
       "<Figure size 1200x500 with 2 Axes>"
      ]
     },
     "metadata": {},
     "output_type": "display_data"
    }
   ],
   "source": [
    "plotting_boxplot_and_histogram(df, 'Price')"
   ]
  },
  {
   "cell_type": "code",
   "execution_count": 150,
   "metadata": {},
   "outputs": [
    {
     "name": "stdout",
     "output_type": "stream",
     "text": [
      "The number of points above: 71\n",
      "The number of points below: 0\n",
      "--> Total Number of Outliers: 71\n"
     ]
    }
   ],
   "source": [
    "outlier_indices = finding_outliers(df, 'Price')\n",
    "outlier_indices_list = outlier_indices.tolist()\n",
    "\n",
    "total_outlier_list.extend(outlier_indices_list)"
   ]
  },
  {
   "cell_type": "code",
   "execution_count": 151,
   "metadata": {},
   "outputs": [
    {
     "data": {
      "image/png": "[encoded data removed]",
      "text/plain": [
       "<Figure size 1200x500 with 2 Axes>"
      ]
     },
     "metadata": {},
     "output_type": "display_data"
    }
   ],
   "source": [
    "plotting_boxplot_and_histogram(df, 'Area')"
   ]
  },
  {
   "cell_type": "code",
   "execution_count": 152,
   "metadata": {},
   "outputs": [
    {
     "name": "stdout",
     "output_type": "stream",
     "text": [
      "The number of points above: 46\n",
      "The number of points below: 0\n",
      "--> Total Number of Outliers: 46\n"
     ]
    }
   ],
   "source": [
    "outlier_indices = finding_outliers(df, 'Area')\n",
    "outlier_area_list = outlier_indices.tolist()\n",
    "\n",
    "# adding only new indices to the outlier list\n",
    "for i in outlier_area_list:\n",
    "    if i in total_outlier_list:\n",
    "        pass\n",
    "    else:\n",
    "        total_outlier_list.append(i)"
   ]
  },
  {
   "cell_type": "code",
   "execution_count": 153,
   "metadata": {},
   "outputs": [
    {
     "data": {
      "image/png": "[encoded data removed]",
      "text/plain": [
       "<Figure size 1200x500 with 2 Axes>"
      ]
     },
     "metadata": {},
     "output_type": "display_data"
    }
   ],
   "source": [
    "plotting_boxplot_and_histogram(df, 'Room')"
   ]
  },
  {
   "cell_type": "code",
   "execution_count": 154,
   "metadata": {},
   "outputs": [
    {
     "name": "stdout",
     "output_type": "stream",
     "text": [
      "The number of points above: 84\n",
      "The number of points below: 17\n",
      "--> Total Number of Outliers: 101\n"
     ]
    }
   ],
   "source": [
    "outlier_indices = finding_outliers(df, 'Room')\n",
    "outlier_area_list = outlier_indices.tolist()\n",
    "\n",
    "# adding only new indices to the outlier list\n",
    "for i in outlier_area_list:\n",
    "    if i in total_outlier_list:\n",
    "        pass\n",
    "    else:\n",
    "        total_outlier_list.append(i)"
   ]
  },
  {
   "cell_type": "code",
   "execution_count": 155,
   "metadata": {},
   "outputs": [
    {
     "name": "stdout",
     "output_type": "stream",
     "text": [
      "The total number of outliers found is 140\n"
     ]
    }
   ],
   "source": [
    "print(f\"The total number of outliers found is {len(total_outlier_list)}\")"
   ]
  },
  {
   "cell_type": "markdown",
   "metadata": {},
   "source": [
    "### Feature Transformation"
   ]
  },
  {
   "cell_type": "code",
   "execution_count": 156,
   "metadata": {},
   "outputs": [],
   "source": [
    "import numpy as np"
   ]
  },
  {
   "cell_type": "code",
   "execution_count": 157,
   "metadata": {},
   "outputs": [],
   "source": [
    "total_outlier_list = []"
   ]
  },
  {
   "cell_type": "code",
   "execution_count": 158,
   "metadata": {},
   "outputs": [
    {
     "data": {
      "image/png": "[encoded data removed]",
      "text/plain": [
       "<Figure size 1200x500 with 2 Axes>"
      ]
     },
     "metadata": {},
     "output_type": "display_data"
    }
   ],
   "source": [
    "df['Price (log)'] = np.log(df['Price'])\n",
    "plotting_boxplot_and_histogram(df, 'Price (log)')"
   ]
  },
  {
   "cell_type": "code",
   "execution_count": 159,
   "metadata": {},
   "outputs": [
    {
     "data": {
      "image/png": "[encoded data removed]",
      "text/plain": [
       "<Figure size 1200x500 with 2 Axes>"
      ]
     },
     "metadata": {},
     "output_type": "display_data"
    }
   ],
   "source": [
    "df['Area (log)'] = np.log(df['Area'])\n",
    "plotting_boxplot_and_histogram(df, 'Area (log)')"
   ]
  },
  {
   "cell_type": "markdown",
   "metadata": {},
   "source": [
    "### Correlation Analysis"
   ]
  },
  {
   "cell_type": "code",
   "execution_count": 160,
   "metadata": {},
   "outputs": [],
   "source": [
    "import seaborn as sns"
   ]
  },
  {
   "cell_type": "code",
   "execution_count": 161,
   "metadata": {},
   "outputs": [
    {
     "data": {
      "image/png": "[encoded data removed]",
      "text/plain": [
       "<Figure size 1200x800 with 2 Axes>"
      ]
     },
     "metadata": {},
     "output_type": "display_data"
    }
   ],
   "source": [
    "selected_columns_df = df[['Price','Area','Room']]\n",
    "\n",
    "# Calculate the correlation matrix\n",
    "corr = selected_columns_df.corr()\n",
    "\n",
    "# Plot the heatmap of the correlation matrix\n",
    "plt.figure(figsize=(12, 8))\n",
    "sns.heatmap(corr, annot=True, cmap='YlGnBu', linewidths=.5, vmin=-1, vmax=1)\n",
    "plt.title('Correlation Heatmap')\n",
    "plt.show()"
   ]
  },
  {
   "cell_type": "markdown",
   "metadata": {},
   "source": [
    "### Visualisation"
   ]
  },
  {
   "cell_type": "code",
   "execution_count": 162,
   "metadata": {},
   "outputs": [],
   "source": [
    "import plotly.express as px"
   ]
  },
  {
   "cell_type": "code",
   "execution_count": 163,
   "metadata": {},
   "outputs": [
    {
     "data": {
      "application/vnd.plotly.v1+json": {
       "config": {
        "plotlyServerURL": "https://plot.ly"
       },
       "data": [
        {
         "hovertemplate": "Price=%{marker.color}<br>Lat=%{lat}<br>Lon=%{lon}<extra></extra>",
         "lat": [
          52.356157,
          52.348586,
          52.343782,
          52.343712,
          52.410538,
          52.382228,
          52.410585,
          52.371041,
          52.363471,
          52.353111,
          52.351244,
          52.377442,
          52.356446,
          52.366928,
          52.356532,
          52.408311,
          52.36209,
          52.372068,
          52.317294,
          52.392426,
          52.374742,
          52.351082,
          52.362011,
          52.361355,
          52.408269,
          52.423543,
          52.332103,
          52.373735,
          52.358631,
          52.351732,
          52.346366,
          52.385346,
          52.344643,
          52.361571,
          52.365372,
          52.330963,
          52.352717,
          52.359929,
          52.368922,
          52.373016,
          52.371899,
          52.369627,
          52.300656,
          52.363609,
          52.36344,
          52.373198,
          52.362693,
          52.314,
          52.364372,
          52.392858,
          52.363887,
          52.356914,
          52.388468,
          52.363383,
          52.406915,
          52.352448,
          52.42145,
          52.367261,
          52.379483,
          52.366168,
          52.393956,
          52.376873,
          52.36355,
          52.347518,
          52.359026,
          52.395846,
          52.381715,
          52.372762,
          52.342942,
          52.364949,
          52.2923239,
          52.412066,
          52.379711,
          52.379133,
          52.394478,
          52.349498,
          52.292948,
          52.37314,
          52.365457,
          52.366082,
          52.360545,
          52.390376,
          52.382746,
          52.368555,
          52.380834,
          52.384661,
          52.369202,
          52.366984,
          52.370073,
          52.364821,
          52.348138,
          52.372127,
          52.352385,
          52.390874,
          52.343986,
          52.343328,
          52.352317,
          52.379837,
          52.382031,
          52.356043,
          52.353658,
          52.377377,
          52.358798,
          52.325544,
          52.373597,
          52.384604,
          52.363158,
          52.365273,
          52.347296,
          52.351734,
          52.362969,
          52.35007,
          52.294198,
          52.386198,
          52.373509,
          52.301346,
          52.356903,
          52.371484,
          52.355404,
          52.399252,
          52.369014,
          52.291803,
          52.373257,
          52.376809,
          52.338283,
          52.394832,
          52.374978,
          52.352165,
          52.369475,
          52.395417,
          52.373199,
          52.365466,
          52.377742,
          52.35337,
          52.366405,
          52.347368,
          52.373122,
          52.362946,
          52.383684,
          52.346011,
          52.295032,
          52.349164,
          52.374321,
          52.348587,
          52.365141,
          52.365,
          52.309773,
          52.324797,
          52.380775,
          52.368556,
          52.35227,
          52.359451,
          52.3958,
          52.382635,
          52.373001,
          52.389087,
          52.360937,
          52.324201,
          52.378363,
          52.37844,
          52.366621,
          52.362949,
          52.413734,
          52.317512,
          52.350556,
          52.396536,
          52.349265,
          52.356709,
          52.362692,
          52.363646,
          52.333206,
          52.336348,
          52.377871,
          52.370706,
          52.318782,
          52.384197,
          52.325762,
          52.341846,
          52.373106,
          52.419532,
          52.409986,
          52.323885,
          52.356081,
          52.358943,
          52.379072,
          52.393821,
          52.378,
          52.358857,
          52.334488,
          52.38503,
          52.359998,
          52.364187,
          52.348806,
          52.35602,
          52.365078,
          52.308383,
          52.352124,
          52.367182,
          52.366451,
          52.379546,
          52.360824,
          52.38514,
          52.378843,
          52.370557,
          52.365003,
          52.365524,
          52.375059,
          52.344183,
          52.345566,
          52.362891,
          52.379474,
          52.37806,
          52.354535,
          52.357443,
          52.378625,
          52.333097,
          52.358204,
          52.366395,
          52.363042,
          52.375994,
          52.367418,
          52.367915,
          52.388122,
          52.379828,
          52.371272,
          52.367946,
          52.33033,
          52.347398,
          52.357987,
          52.376041,
          52.375756,
          52.382654,
          52.350755,
          52.382635,
          52.371683,
          52.338795,
          52.372907,
          52.376281,
          52.362038,
          52.35459,
          52.347348,
          52.35602,
          52.410672,
          52.343402,
          52.343737,
          52.380642,
          52.344914,
          52.344914,
          52.376105,
          52.349453,
          52.379219,
          52.374016,
          52.353256,
          52.366729,
          52.400948,
          52.3574,
          52.41355,
          52.380834,
          52.367449,
          52.375342,
          52.364132,
          52.355065,
          52.35502,
          52.349528,
          52.361333,
          52.374705,
          52.420465,
          52.306326,
          52.380663,
          52.3686532505277,
          52.348087,
          52.374085,
          52.343623,
          52.3686532505277,
          52.321174,
          52.352366,
          52.343893,
          52.360906,
          52.349904,
          52.366965,
          52.368029,
          52.376191,
          52.361226,
          52.374421,
          52.381092,
          52.41986,
          52.358943,
          52.373727,
          52.358928,
          52.3496214,
          52.335851,
          52.359763,
          52.400905,
          52.363883,
          52.355179,
          52.347409,
          52.309724,
          52.369804,
          52.393577,
          52.375387,
          52.385321,
          52.365326,
          52.349279,
          52.373343,
          52.371039,
          52.409584,
          52.409584,
          52.412038,
          52.347558,
          52.354406,
          52.370289,
          52.370289,
          52.361323,
          52.418864,
          52.364626,
          52.368746,
          52.365084,
          52.361947,
          52.361929,
          52.410672,
          52.380679,
          52.317822,
          52.379524,
          52.375551,
          52.345051,
          52.361672,
          52.349215,
          52.338652,
          52.381514,
          52.36658,
          52.320409,
          52.296421,
          52.375532,
          52.321743,
          52.363292,
          52.327841,
          52.384794,
          52.354825,
          52.355788,
          52.346145,
          52.373119,
          52.353645,
          52.360284,
          52.394101,
          52.394178,
          52.370666,
          52.350007,
          52.37278,
          52.325081,
          52.358255,
          52.362146,
          52.353376,
          52.37701,
          52.331919,
          52.293948,
          52.379574,
          52.382434,
          52.349876,
          52.319741,
          52.393955,
          52.376658,
          52.362822,
          52.324231,
          52.366766,
          52.35303,
          52.349698,
          52.367037,
          52.352502,
          52.375562,
          52.366428,
          52.372221,
          52.348468,
          52.393227,
          52.292974,
          52.380045,
          52.419916,
          52.383676,
          52.362164,
          52.406722,
          52.36173,
          52.354123,
          52.299114,
          52.346664,
          52.386904,
          52.351371,
          52.347318,
          52.358348,
          52.376658,
          52.389872,
          52.366735,
          52.320364,
          52.351789,
          52.3492,
          52.331729,
          52.366908,
          52.339554,
          52.377329,
          52.383093,
          52.323983,
          52.384683,
          52.361641,
          52.294299,
          52.354197,
          52.370868,
          52.316165,
          52.357393,
          52.395677,
          52.388788,
          52.373751,
          52.376576,
          52.324304,
          52.359788,
          52.370995,
          52.388529,
          52.320576,
          52.369015,
          52.377174,
          52.318673,
          52.394567,
          52.410584,
          52.29785,
          52.407695,
          52.378402,
          52.353704,
          52.388684,
          52.326171,
          52.369659,
          52.383109,
          52.370661,
          52.344742,
          52.371498,
          52.389025,
          52.364335,
          52.381319,
          52.381995,
          52.388005,
          52.413849,
          52.366234,
          52.384105,
          52.347368,
          52.373057,
          52.354123,
          52.368574,
          52.394352,
          52.36264,
          52.364911,
          52.2976,
          52.364224,
          52.372996,
          52.383021,
          52.326205,
          52.383526,
          52.315883,
          52.375584,
          52.36373,
          52.345886,
          52.401616,
          52.319485,
          52.365333,
          52.361956,
          52.317544,
          52.299293,
          52.379548,
          52.382138,
          52.375341,
          52.325783,
          52.319589,
          52.320816,
          52.392914,
          52.358293,
          52.353937,
          52.344263,
          52.360041,
          52.353214,
          52.399212,
          52.363717,
          52.347517,
          52.375408,
          52.394145,
          52.345315,
          52.394073,
          52.391546,
          52.353136,
          52.355442,
          52.371556,
          52.377961,
          52.365552,
          52.367652,
          52.379633,
          52.386865,
          52.403808,
          52.305543,
          52.350909,
          52.362205,
          52.38178,
          52.372671,
          52.353861,
          52.355844,
          52.368343,
          52.380052,
          52.354418,
          52.316742,
          52.358618,
          52.371338,
          52.370007,
          52.294189,
          52.377933,
          52.369611,
          52.386342,
          52.364743,
          52.382253,
          52.364934,
          52.372608,
          52.383556,
          52.384121,
          52.378644,
          52.350961,
          52.347656,
          52.37786,
          52.365813,
          52.363772,
          52.316374,
          52.355854,
          52.359277,
          52.377347,
          52.291519,
          52.403049,
          52.372951,
          52.29383,
          52.384356,
          52.361963,
          52.384121,
          52.355143,
          52.342435,
          52.364636,
          52.380215,
          52.324179,
          52.297841,
          52.324953,
          52.367502,
          52.368943,
          52.351935,
          52.374093,
          52.358042,
          52.399557,
          52.370304,
          52.348505,
          52.364761,
          52.316702,
          52.2923239,
          52.372929,
          52.377317,
          52.363758,
          52.37431,
          52.361321,
          52.325525,
          52.369339,
          52.396263,
          52.349933,
          52.375474,
          52.345822,
          52.363713,
          52.363691,
          52.369651,
          52.402266,
          52.417569,
          52.338759,
          52.365663,
          52.35683,
          52.351528,
          52.364806,
          52.363904,
          52.359424,
          52.360578,
          52.37986,
          52.345979,
          52.384166,
          52.321871,
          52.363363,
          52.383963,
          52.358206,
          52.382249,
          52.350198,
          52.357424,
          52.318698,
          52.313749,
          52.325097,
          52.317064,
          52.295757,
          52.366236,
          52.358696,
          52.363274,
          52.373492,
          52.35637,
          52.363328,
          52.325473,
          52.344454,
          52.405783,
          52.355143,
          52.382381,
          52.360243,
          52.393215,
          52.355153,
          52.376909,
          52.371793,
          52.299712,
          52.402968,
          52.372067,
          52.38318,
          52.385387,
          52.358917,
          52.423805,
          52.383656,
          52.361331,
          52.407476,
          52.371197,
          52.351422,
          52.384355,
          52.375563,
          52.367757,
          52.387403,
          52.350225,
          52.400571,
          52.359955,
          52.376552,
          52.356392,
          52.374739,
          52.33822,
          52.33822,
          52.369038,
          52.37755,
          52.35282,
          52.346094,
          52.317292,
          52.377961,
          52.372955,
          52.378753,
          52.356215,
          52.408945,
          52.343221,
          52.366755,
          52.364353,
          52.355807,
          52.349678,
          52.364679,
          52.405579,
          52.342112,
          52.328459,
          52.371077,
          52.35753,
          52.355712,
          52.353554,
          52.393622,
          52.40313,
          52.294244,
          52.380808,
          52.367739,
          52.377422,
          52.401519,
          52.37746,
          52.369689,
          52.367118,
          52.378843,
          52.353303,
          52.34615,
          52.344264,
          52.361653,
          52.398984,
          52.354762,
          52.349954,
          52.377799,
          52.363042,
          52.377544,
          52.352324,
          52.360699,
          52.334686,
          52.381479,
          52.361159,
          52.341296,
          52.372067,
          52.358996,
          52.311632,
          52.353408,
          52.361768,
          52.356419,
          52.330956,
          52.373127,
          52.355605,
          52.380687,
          52.393449,
          52.365121,
          52.317674,
          52.357269,
          52.36504,
          52.36596,
          52.354008,
          52.397321,
          52.350226,
          52.296957,
          52.359176,
          52.361947,
          52.352811,
          52.347889,
          52.406292,
          52.352379,
          52.360697,
          52.349856,
          52.359244,
          52.380747,
          52.365991,
          52.34221,
          52.357323,
          52.305296,
          52.321871,
          52.39832,
          52.364831,
          52.381911,
          52.332238,
          52.361606,
          52.384118,
          52.350596,
          52.360923,
          52.354845,
          52.363634,
          52.370359,
          52.373395,
          52.348859,
          52.358834,
          52.380458,
          52.363743,
          52.378707,
          52.362788,
          52.409314,
          52.37491,
          52.377783,
          52.363679,
          52.392217,
          52.365393,
          52.366858,
          52.394487,
          52.392365,
          52.357419,
          52.35165,
          52.363527,
          52.363614,
          52.352451,
          52.371205,
          52.370632,
          52.342664,
          52.358995,
          52.358329,
          52.348636,
          52.354616,
          52.347341,
          52.3628,
          52.342458,
          52.349139,
          52.353346,
          52.316855,
          52.354968,
          52.40997,
          52.393266,
          52.366972,
          52.385525,
          52.381864,
          52.38257,
          52.327585,
          52.373012,
          52.350604,
          52.332273,
          52.374337,
          52.372907,
          52.372907,
          52.378567,
          52.358917,
          52.351033,
          52.376702,
          52.355933,
          52.401727,
          52.352814,
          52.365536,
          52.356414,
          52.400138,
          52.347686,
          52.350823,
          52.3679823,
          52.409609,
          52.352847,
          52.347558,
          52.347558,
          52.343016,
          52.359856,
          52.365365,
          52.376916,
          52.354922,
          52.321172,
          52.305075,
          52.348999,
          52.383847,
          52.325695,
          52.378055,
          52.368955,
          52.364802,
          52.373918,
          52.346978,
          52.356512,
          52.397672,
          52.365104,
          52.347806,
          52.373268,
          52.310514,
          52.417382,
          52.373106,
          52.363763,
          52.405451,
          52.356428,
          52.367607,
          52.340644,
          52.368144,
          52.352385,
          52.39437,
          52.378255,
          52.352385,
          52.352385,
          52.419502,
          52.356702,
          52.352238,
          52.31741,
          52.361813,
          52.347545,
          52.351449,
          52.370557,
          52.348895,
          52.354874,
          52.372964,
          52.380133,
          52.37338,
          52.376848,
          52.403385,
          52.309662,
          52.352776,
          52.379296,
          52.41492,
          52.372454,
          52.378747,
          52.360892,
          52.361418,
          52.368503,
          52.423619,
          52.325253,
          52.371373,
          52.357437,
          52.362028,
          52.322384,
          52.380829,
          52.399475,
          52.394724,
          52.393538,
          52.356012,
          52.345104,
          52.36954,
          52.352919,
          52.374854,
          52.353976,
          52.361977,
          52.360049,
          52.376065,
          52.373868,
          52.341373,
          52.353775,
          52.349996,
          52.373345,
          52.347835,
          52.37572,
          52.354369,
          52.377871,
          52.324322,
          52.351656,
          52.370303,
          52.38063,
          52.3679823,
          52.376819,
          52.40928,
          52.359283,
          52.354375,
          52.379007,
          52.379863,
          52.368027,
          52.396527,
          52.291672,
          52.378934,
          52.395229,
          52.379951,
          52.3686532505277,
          52.381025,
          52.383918,
          52.362176,
          52.353584,
          52.370823,
          52.372583,
          52.344595,
          52.357145,
          52.388128,
          52.37536,
          52.3505131,
          52.351894,
          52.356342,
          52.380639,
          52.343878,
          52.38816,
          52.379072,
          52.368961,
          52.374848,
          52.354173,
          52.354173,
          52.414587,
          52.363256,
          52.375268,
          52.355493
         ],
         "legendgroup": "",
         "lon": [
          4.907736,
          4.850476,
          4.944774,
          4.789928,
          4.902503,
          4.875024,
          4.896536,
          4.871555,
          4.854671,
          4.897142,
          4.851985,
          4.942972,
          4.908173,
          4.897782,
          4.909361,
          4.900926,
          4.85452,
          4.829644,
          4.949572,
          4.872555,
          4.88583,
          4.891161,
          4.837666,
          4.945438,
          4.921574,
          4.88516,
          4.887858,
          4.862875,
          4.820848,
          4.889539,
          4.900342,
          4.887444,
          4.86109,
          4.875471,
          4.865792,
          4.883566,
          4.899509,
          4.85856,
          4.921855,
          4.93704,
          4.854277,
          4.874257,
          4.987296,
          4.907585,
          4.924306,
          4.847389,
          4.942841,
          4.981149,
          4.83186,
          4.948371,
          4.837764,
          4.815101,
          4.877698,
          4.892374,
          4.91913,
          4.855875,
          4.891858,
          4.89952,
          4.851777,
          4.944196,
          4.951093,
          4.86106,
          4.85633,
          4.889851,
          4.859628,
          4.959199,
          4.848563,
          4.969203,
          4.922788,
          4.933378,
          4.9688878,
          4.885364,
          4.850643,
          4.800745,
          4.936896,
          4.888332,
          4.993551,
          4.87065,
          4.944032,
          4.853803,
          4.901713,
          4.876149,
          4.882743,
          4.924634,
          4.860857,
          4.880046,
          4.884982,
          4.920481,
          4.868057,
          4.837522,
          4.848779,
          4.896579,
          4.855832,
          4.879081,
          4.864958,
          4.868693,
          4.944251,
          4.819711,
          4.871178,
          4.926673,
          4.835487,
          4.886006,
          4.89862,
          4.976804,
          4.862201,
          4.867549,
          4.885902,
          4.882472,
          4.910224,
          4.848941,
          4.798199,
          4.841525,
          4.983191,
          4.917899,
          4.898311,
          4.970987,
          4.910003,
          4.936101,
          4.789682,
          4.95037,
          4.931839,
          4.968806,
          4.946186,
          4.875248,
          4.919919,
          4.877406,
          4.90487,
          4.91638,
          4.909207,
          4.947655,
          4.865612,
          4.868786,
          4.887412,
          4.7717,
          4.85167,
          4.875881,
          4.924895,
          4.84399,
          4.81787,
          4.802122,
          4.977496,
          4.873365,
          4.888199,
          4.889927,
          4.870523,
          4.862992,
          4.957403,
          4.885793,
          4.789341,
          4.878779,
          4.824867,
          4.80651,
          4.959052,
          4.873624,
          4.968819,
          4.961381,
          4.896542,
          4.870427,
          4.834901,
          4.893043,
          4.89965,
          4.904917,
          4.88439,
          4.972596,
          5.016505,
          4.93924,
          4.778978,
          4.826759,
          4.807068,
          4.807703,
          4.904363,
          4.872151,
          4.879612,
          4.88987,
          4.979002,
          4.846858,
          4.857216,
          4.868754,
          4.89429,
          4.893261,
          4.964853,
          4.886918,
          4.938738,
          4.897473,
          4.83852,
          4.950977,
          4.809689,
          4.9064,
          4.799931,
          4.874462,
          4.84313,
          4.862224,
          4.867645,
          4.885645,
          4.887378,
          4.976098,
          4.798695,
          4.891701,
          4.835845,
          4.886034,
          4.88242,
          4.891955,
          4.891161,
          4.857567,
          4.8887,
          4.90885,
          4.90132,
          4.788762,
          4.790343,
          4.962333,
          4.858163,
          4.644819,
          4.882903,
          4.807977,
          4.803337,
          4.901539,
          4.854662,
          4.882122,
          4.886109,
          4.888459,
          4.917931,
          4.861607,
          4.920126,
          4.893924,
          4.906839,
          4.887596,
          4.872336,
          4.862129,
          4.920472,
          4.877725,
          4.883278,
          4.873726,
          4.912109,
          4.88447,
          4.890089,
          4.943696,
          4.907085,
          4.907627,
          4.880571,
          4.790457,
          4.875455,
          4.885645,
          4.967897,
          4.858845,
          4.802093,
          4.890977,
          4.807805,
          4.807805,
          4.887092,
          5.009767,
          4.789083,
          4.873591,
          4.865847,
          4.897432,
          4.90048,
          4.858004,
          5.029122,
          4.860857,
          4.892522,
          4.890591,
          4.915246,
          4.887183,
          4.887183,
          4.862413,
          4.979483,
          4.903526,
          4.89278,
          4.976454,
          4.852468,
          4.90981909560303,
          4.786024,
          4.906059,
          4.797164,
          4.90981909560303,
          4.943931,
          4.857608,
          4.826718,
          4.936223,
          4.869966,
          4.896842,
          4.888094,
          4.943456,
          4.881814,
          4.879978,
          4.887619,
          4.881542,
          4.897473,
          4.905372,
          4.876144,
          4.7836987,
          4.872859,
          4.876117,
          4.937065,
          4.902826,
          4.89935,
          4.891921,
          4.95868,
          4.905853,
          4.886388,
          4.893709,
          4.905695,
          4.859626,
          4.902864,
          4.897256,
          4.887869,
          4.960756,
          4.960756,
          4.97083,
          4.876231,
          4.832087,
          4.910725,
          4.910725,
          4.825673,
          4.898884,
          4.884579,
          4.881097,
          4.895233,
          4.895121,
          4.895224,
          4.967897,
          4.80256,
          4.956167,
          4.923315,
          4.877436,
          4.817309,
          4.868596,
          4.776234,
          4.794478,
          4.965813,
          4.952089,
          4.945909,
          4.976237,
          4.889816,
          4.961952,
          4.918831,
          4.859128,
          4.892914,
          4.997979,
          4.928173,
          4.861234,
          4.878139,
          4.906809,
          4.853623,
          4.878356,
          4.878463,
          4.913448,
          4.795934,
          4.880816,
          4.947171,
          4.925675,
          4.872275,
          4.827036,
          4.839165,
          4.886519,
          4.991578,
          4.874335,
          4.881073,
          4.788052,
          4.945309,
          4.881116,
          4.877315,
          4.866454,
          4.977675,
          4.872222,
          4.849307,
          4.940682,
          4.85225,
          4.884848,
          4.867459,
          4.872989,
          4.8479,
          4.795401,
          4.954434,
          4.990488,
          4.860817,
          4.901357,
          4.812509,
          4.945592,
          4.910084,
          4.944758,
          4.904866,
          4.98042,
          4.875155,
          4.900901,
          4.846172,
          4.87459,
          4.902853,
          4.837463,
          4.891367,
          4.872597,
          4.981355,
          4.888159,
          4.888188,
          4.87989,
          4.875949,
          4.941752,
          4.852493,
          4.871342,
          4.945355,
          4.849011,
          4.809676,
          4.98366,
          4.892242,
          4.850735,
          4.986145,
          4.80824,
          4.917034,
          4.887419,
          4.895989,
          4.881551,
          4.974337,
          4.85128,
          4.937516,
          4.8814,
          4.942778,
          4.927419,
          4.948159,
          4.960086,
          4.936689,
          4.922975,
          4.976048,
          4.933513,
          4.869487,
          4.90355,
          4.907913,
          4.946436,
          4.880279,
          4.916345,
          4.858697,
          4.925792,
          4.890125,
          4.881952,
          4.925735,
          4.868498,
          4.851989,
          4.880745,
          4.892619,
          4.921707,
          4.832758,
          4.875925,
          4.964407,
          4.904866,
          4.854361,
          4.946534,
          4.926678,
          4.806801,
          4.995049,
          4.934237,
          4.832681,
          4.851176,
          4.975727,
          4.830151,
          4.982447,
          4.867456,
          4.829034,
          4.784425,
          4.909786,
          4.946485,
          4.907725,
          4.895062,
          4.943668,
          4.988144,
          4.854243,
          4.916194,
          4.848229,
          4.878726,
          4.943523,
          4.944301,
          4.913949,
          4.860517,
          4.898909,
          4.877222,
          4.934903,
          4.920288,
          4.913147,
          4.830106,
          4.889777,
          4.966154,
          4.951253,
          4.862373,
          4.95118,
          4.93174,
          5.000973,
          4.922217,
          4.967326,
          4.873501,
          4.938408,
          4.884002,
          4.881809,
          4.948739,
          4.920989,
          4.978704,
          4.847484,
          4.806863,
          4.818173,
          4.860112,
          4.81015,
          4.90153,
          4.944414,
          4.800286,
          4.827023,
          4.992035,
          4.914021,
          4.831964,
          4.863344,
          4.983162,
          4.873179,
          4.865067,
          4.920012,
          4.933659,
          4.819431,
          4.940171,
          4.870127,
          4.837695,
          4.884769,
          4.798255,
          5.014044,
          4.899374,
          4.846047,
          4.853953,
          4.928824,
          4.9685,
          4.899724,
          4.996295,
          4.941549,
          4.977631,
          4.945566,
          4.870505,
          4.983209,
          4.892282,
          4.855145,
          4.884769,
          4.803983,
          4.802374,
          4.852015,
          4.881348,
          4.859323,
          4.971123,
          4.945155,
          4.874092,
          4.915967,
          5.009082,
          4.872665,
          4.907275,
          4.951827,
          4.857291,
          4.795583,
          4.908421,
          4.969802,
          4.9688878,
          4.861328,
          4.838028,
          4.87487,
          4.799561,
          4.852231,
          4.976731,
          4.858639,
          4.950277,
          4.846204,
          4.795007,
          4.869544,
          4.863282,
          4.830209,
          4.874332,
          4.947646,
          4.883861,
          4.920676,
          4.851991,
          4.887941,
          4.894517,
          4.803386,
          4.840015,
          4.806525,
          4.979592,
          4.855635,
          4.88956,
          4.849943,
          4.972526,
          4.894107,
          4.850695,
          4.932925,
          4.814789,
          4.849224,
          4.91803,
          4.983057,
          4.981371,
          4.878162,
          4.967708,
          4.992412,
          4.852084,
          4.996258,
          4.808883,
          4.883377,
          4.923063,
          4.829524,
          4.974531,
          4.80722,
          4.917985,
          4.803968,
          4.802688,
          4.981387,
          4.954462,
          4.901743,
          4.947119,
          4.922868,
          4.984519,
          4.945552,
          4.829607,
          4.7958,
          4.878057,
          4.894964,
          4.891949,
          4.870659,
          4.889549,
          4.903976,
          4.930426,
          4.921657,
          4.870167,
          4.859637,
          4.832889,
          4.918062,
          4.783188,
          4.952138,
          4.854288,
          4.655161,
          4.853523,
          4.933939,
          4.894206,
          4.894206,
          4.931075,
          4.845779,
          5.00033,
          4.784642,
          4.9684,
          4.873501,
          4.829629,
          4.84314,
          4.917761,
          4.900779,
          4.913659,
          4.869096,
          4.921169,
          4.901398,
          4.890751,
          4.986808,
          4.918343,
          4.911378,
          4.865786,
          4.934082,
          4.902906,
          4.811771,
          4.811827,
          4.945778,
          4.899777,
          4.970438,
          4.856593,
          4.85255,
          4.947231,
          4.892182,
          4.837996,
          4.883097,
          4.866447,
          4.847496,
          4.878689,
          4.909223,
          4.801543,
          4.807168,
          4.930826,
          4.792451,
          4.773171,
          4.855072,
          4.886109,
          4.852373,
          5.000011,
          4.855835,
          4.877949,
          4.852076,
          4.852248,
          4.906854,
          4.829591,
          4.914296,
          4.95696,
          4.865595,
          4.865952,
          4.908012,
          4.882011,
          4.942751,
          4.922699,
          4.886718,
          4.91506,
          4.876322,
          4.955054,
          4.94178,
          4.863132,
          4.934601,
          4.810853,
          4.937616,
          4.837658,
          4.975309,
          4.896605,
          4.89518,
          5.000345,
          4.901411,
          4.901879,
          4.850607,
          4.990866,
          4.844731,
          4.787319,
          4.869195,
          4.865609,
          4.910454,
          4.889858,
          5.015376,
          4.972526,
          4.950198,
          4.853451,
          4.790104,
          4.870861,
          4.863781,
          4.849341,
          4.777448,
          4.857873,
          5.001384,
          4.875312,
          4.868023,
          4.921147,
          4.78754,
          4.860922,
          4.856817,
          4.84351,
          4.871359,
          4.836971,
          4.92221,
          4.838629,
          4.930926,
          4.930264,
          4.87252,
          4.864588,
          4.92035,
          4.936866,
          4.99474,
          4.808181,
          4.904467,
          4.86116,
          4.925816,
          4.860601,
          4.859791,
          4.860239,
          4.902863,
          4.860847,
          4.932943,
          4.869761,
          4.78504,
          4.785975,
          4.86547,
          4.877208,
          5.012134,
          4.849656,
          4.952422,
          4.92068,
          4.915413,
          4.942035,
          4.876183,
          4.918067,
          4.793277,
          4.961457,
          4.883913,
          4.832383,
          4.802149,
          4.874705,
          4.795948,
          4.907085,
          4.907085,
          4.802618,
          4.935377,
          4.776722,
          4.892211,
          4.993345,
          4.891511,
          4.919118,
          4.866392,
          4.872591,
          4.948314,
          4.860276,
          4.774348,
          4.95437552819149,
          4.921825,
          4.920732,
          4.876154,
          4.876154,
          4.894509,
          4.860337,
          4.852329,
          4.79581,
          4.922721,
          4.98896,
          5.016522,
          4.812092,
          4.823859,
          4.945048,
          4.884941,
          4.853093,
          4.804152,
          4.820624,
          4.874975,
          4.79733,
          4.928532,
          4.83075,
          4.794378,
          4.879459,
          4.955915,
          4.897048,
          4.858844,
          4.895174,
          4.909069,
          4.937898,
          4.853124,
          4.949415,
          4.831079,
          4.855832,
          4.94649,
          4.834844,
          4.855832,
          4.855832,
          4.898877,
          4.846606,
          4.796462,
          4.956816,
          4.85983,
          4.846923,
          4.890731,
          4.884292,
          4.787554,
          4.863729,
          4.829637,
          4.852415,
          4.935891,
          4.890594,
          4.918363,
          4.958115,
          4.860818,
          4.846389,
          4.890785,
          4.87195,
          4.852168,
          4.896425,
          4.910051,
          4.902566,
          4.892525,
          4.947669,
          4.908391,
          4.807981,
          4.876006,
          4.861985,
          4.802015,
          4.904136,
          4.954641,
          4.881701,
          4.925631,
          4.867865,
          4.863394,
          4.806801,
          4.874125,
          4.797085,
          4.808183,
          4.843132,
          4.899032,
          4.938017,
          4.907895,
          4.846708,
          4.844918,
          4.832782,
          4.86139,
          4.902531,
          4.90341,
          4.930455,
          4.974395,
          4.888718,
          4.898846,
          4.823887,
          4.95437552819149,
          4.942112,
          4.898299,
          4.850743,
          4.797681,
          4.802582,
          4.893865,
          4.887462,
          4.93924,
          4.968223,
          4.841738,
          4.878134,
          4.8722593,
          4.90981909560303,
          4.888065,
          4.873124,
          4.862992,
          4.856566,
          4.879252,
          4.969506,
          4.952066,
          4.788481,
          4.914882,
          4.902359,
          5.0165552,
          4.860637,
          4.790574,
          4.82399,
          4.819965,
          4.91369,
          4.838534,
          4.880977,
          4.902614,
          4.927757,
          4.927757,
          4.890612,
          4.856935,
          4.965731,
          4.810678
         ],
         "marker": {
          "color": [
           685000,
           475000,
           850000,
           580000,
           720000,
           450000,
           450000,
           590000,
           399000,
           300000,
           540000,
           539000,
           390000,
           575000,
           650000,
           475000,
           700000,
           325000,
           399000,
           375000,
           1625000,
           575000,
           600000,
           525000,
           350000,
           350000,
           575000,
           375000,
           1650000,
           325000,
           800000,
           1950000,
           735000,
           3925000,
           475000,
           275000,
           375000,
           570000,
           375000,
           895000,
           365000,
           550000,
           325000,
           429000,
           650000,
           350000,
           475000,
           325000,
           425000,
           350000,
           350000,
           375000,
           450000,
           1185000,
           385000,
           687500,
           585000,
           1295000,
           375000,
           500000,
           300000,
           375000,
           400000,
           850000,
           550000,
           275000,
           330000,
           700000,
           500000,
           369000,
           245000,
           350000,
           425000,
           375000,
           335000,
           450000,
           395000,
           300000,
           450000,
           415000,
           650000,
           425000,
           469000,
           485000,
           225000,
           285000,
           995000,
           1475000,
           475000,
           475000,
           395000,
           375000,
           400000,
           325000,
           400000,
           475000,
           425000,
           375000,
           365000,
           500000,
           450000,
           725000,
           4550000,
           225000,
           375000,
           495000,
           475000,
           450000,
           475000,
           475000,
           345000,
           369000,
           320000,
           465000,
           340000,
           375000,
           595000,
           525000,
           245000,
           275000,
           575000,
           250000,
           975000,
           375000,
           1100000,
           750000,
           439000,
           375000,
           445000,
           325000,
           415000,
           300000,
           915000,
           685000,
           350000,
           1025000,
           895000,
           350000,
           265000,
           500000,
           295000,
           1175000,
           995000,
           385000,
           550000,
           325000,
           225000,
           395000,
           425000,
           525000,
           800000,
           400000,
           250000,
           360000,
           1050000,
           799000,
           1700000,
           825000,
           290000,
           469000,
           625000,
           1050000,
           540000,
           285000,
           859000,
           275000,
           525000,
           375000,
           399500,
           430000,
           1300000,
           1750000,
           950000,
           1450000,
           285000,
           300000,
           1500000,
           685000,
           4495000,
           989000,
           765000,
           900000,
           665000,
           2475000,
           475000,
           300000,
           350000,
           450000,
           600000,
           350000,
           595000,
           335000,
           1295000,
           825000,
           5950000,
           325000,
           450000,
           1450000,
           585000,
           1200000,
           1550000,
           1250000,
           998000,
           395000,
           935000,
           1050000,
           729000,
           699000,
           1500000,
           400000,
           550000,
           950000,
           975000,
           295000,
           350000,
           685000,
           1499000,
           1275000,
           375000,
           1595000,
           439000,
           785000,
           395000,
           595000,
           875000,
           295000,
           520000,
           439000,
           410000,
           275000,
           2450000,
           350000,
           1795000,
           835000,
           985000,
           425000,
           635000,
           999500,
           1050000,
           225000,
           1099000,
           895000,
           899000,
           799000,
           719000,
           750000,
           285000,
           285000,
           900000,
           475000,
           545000,
           685000,
           2200000,
           650000,
           1100011,
           1200000,
           1495000,
           295000,
           1000000,
           1150000,
           2250000,
           1350000,
           1650000,
           2750000,
           1050000,
           469000,
           669000,
           300000,
           425000,
           749000,
           700000,
           389000,
           900000,
           1750000,
           275000,
           3500000,
           400000,
           850000,
           1700000,
           2325000,
           1495000,
           549000,
           1375000,
           1250000,
           500000,
           575000,
           2475000,
           1425000,
           1695000,
           515000,
           1095000,
           2500000,
           519900,
           700000,
           2650000,
           1149000,
           280000,
           600000,
           950000,
           849000,
           3680000,
           850000,
           750750,
           1400000,
           4900000,
           899000,
           895000,
           1695000,
           1085000,
           300000,
           649000,
           785000,
           565000,
           1395000,
           795000,
           1200000,
           995000,
           775000,
           825000,
           1249000,
           380000,
           450000,
           399000,
           650000,
           485000,
           1599000,
           950000,
           629000,
           359000,
           419000,
           250000,
           320000,
           3500000,
           415000,
           750000,
           420000,
           525000,
           550000,
           450000,
           425000,
           699000,
           675000,
           1150000,
           1250000,
           1450000,
           240000,
           345000,
           425000,
           250000,
           485000,
           1200000,
           325000,
           275000,
           365000,
           300000,
           485000,
           725000,
           325000,
           225000,
           690000,
           250000,
           825000,
           239000,
           400000,
           430000,
           485000,
           300000,
           550000,
           325000,
           250000,
           675000,
           295000,
           350000,
           375000,
           360000,
           325000,
           250000,
           550000,
           325000,
           235000,
           450000,
           245000,
           1400000,
           650000,
           465000,
           735000,
           675000,
           425000,
           635000,
           300000,
           375000,
           300000,
           910000,
           385000,
           775000,
           349500,
           375000,
           325000,
           295000,
           345000,
           325000,
           245000,
           650000,
           450000,
           525000,
           315000,
           500000,
           285000,
           600000,
           425000,
           225000,
           440000,
           450000,
           425000,
           230000,
           395000,
           550000,
           350000,
           335000,
           300000,
           270000,
           675000,
           450000,
           450000,
           549000,
           265000,
           395000,
           275000,
           400000,
           450000,
           395000,
           335000,
           425000,
           325000,
           590000,
           345000,
           398011,
           900000,
           400000,
           825000,
           415000,
           685000,
           610000,
           295000,
           339000,
           310000,
           395000,
           335000,
           275000,
           425000,
           225000,
           500000,
           600000,
           300000,
           350000,
           475000,
           510000,
           225000,
           545000,
           550000,
           225000,
           320000,
           360000,
           475000,
           425000,
           395000,
           265000,
           230000,
           750000,
           1000000,
           825000,
           425000,
           369000,
           300000,
           389000,
           300000,
           800000,
           600000,
           300000,
           415000,
           325000,
           775000,
           750000,
           650000,
           600000,
           325000,
           385000,
           875000,
           500000,
           900000,
           350000,
           350000,
           450000,
           325000,
           200000,
           575000,
           325000,
           400000,
           365000,
           350000,
           300000,
           375000,
           415000,
           300000,
           625000,
           315000,
           325000,
           370000,
           298000,
           375000,
           325000,
           325000,
           375000,
           295000,
           375000,
           295000,
           275000,
           345000,
           500000,
           390000,
           400000,
           250000,
           625000,
           550000,
           585000,
           425000,
           300000,
           300000,
           275000,
           525000,
           725000,
           350000,
           275000,
           450000,
           325000,
           425000,
           300000,
           330000,
           215000,
           695000,
           750000,
           400000,
           585000,
           395000,
           250000,
           725000,
           275000,
           700000,
           260000,
           275000,
           535000,
           465000,
           490000,
           375000,
           425000,
           265000,
           425000,
           525000,
           625000,
           380000,
           950000,
           350000,
           325000,
           550000,
           300000,
           245000,
           230000,
           395000,
           365000,
           698000,
           495000,
           375000,
           375000,
           1200000,
           425000,
           730000,
           325000,
           275000,
           535000,
           375000,
           775000,
           375000,
           400000,
           300000,
           375000,
           295000,
           345000,
           260000,
           225000,
           425000,
           475000,
           425000,
           1170000,
           520000,
           350000,
           289500,
           480000,
           325000,
           250000,
           350000,
           600000,
           350000,
           525000,
           500000,
           700000,
           300000,
           175000,
           365000,
           375000,
           425000,
           1320000,
           469000,
           270000,
           325000,
           650000,
           550000,
           1150000,
           385000,
           325000,
           750000,
           465000,
           300000,
           250000,
           500000,
           875000,
           399000,
           925000,
           875000,
           930000,
           725000,
           575000,
           600000,
           600000,
           265000,
           350000,
           340000,
           350000,
           430000,
           975000,
           500000,
           850000,
           645000,
           425000,
           1090000,
           895000,
           465000,
           700000,
           325000,
           695000,
           825000,
           280000,
           550000,
           325000,
           325000,
           275000,
           340000,
           550000,
           500000,
           750000,
           499000,
           1750000,
           1250000,
           319000,
           1100000,
           325000,
           475000,
           300000,
           265000,
           399500,
           725000,
           625000,
           399000,
           445000,
           550000,
           675000,
           325000,
           600000,
           375000,
           575000,
           475000,
           500000,
           275000,
           1775000,
           525000,
           400000,
           375000,
           550000,
           525000,
           760000,
           700000,
           675000,
           325000,
           459000,
           350000,
           325000,
           275000,
           275000,
           700000,
           209000,
           1325000,
           850000,
           485000,
           385000,
           650000,
           450000,
           450000,
           600000,
           245000,
           500000,
           600000,
           595000,
           995000,
           475000,
           275000,
           285000,
           585000,
           310000,
           495000,
           475000,
           425000,
           875000,
           560000,
           700000,
           1150000,
           1250000,
           275000,
           575000,
           1025000,
           340000,
           550000,
           400000,
           235000,
           335000,
           975000,
           450000,
           350000,
           725000,
           340000,
           1175000,
           325000,
           700000,
           295000,
           335000,
           300000,
           600000,
           675000,
           495000,
           539000,
           499000,
           475000,
           800000,
           1625000,
           315000,
           450000,
           495000,
           550000,
           400000,
           525000,
           350000,
           620000,
           375000,
           550000,
           1095000,
           485000,
           385000,
           1575000,
           249000,
           350000,
           600000,
           425000,
           345000,
           640000,
           645000,
           350000,
           350000,
           475000,
           400000,
           450000,
           450000,
           375000,
           485000,
           1100000,
           1000000,
           375000,
           525000,
           1325000,
           335000,
           400000,
           835000,
           885000,
           635000,
           1120000,
           375000,
           400000,
           285000,
           425137,
           549001,
           575000,
           500000,
           179000,
           790000,
           350000,
           425000,
           600000,
           1099000,
           525000,
           329000,
           445000,
           950000,
           800000,
           350000,
           875000,
           575000,
           700000,
           325000,
           750000,
           500000,
           300000,
           675000,
           345000,
           275000,
           245000,
           385000,
           375000,
           300000,
           1200000,
           499000,
           325000,
           480000,
           475000,
           685000,
           550000,
           550000,
           5850000,
           330000,
           375000,
           575000,
           825000,
           515000,
           225000,
           1050000,
           425000,
           375000,
           1150000,
           425000,
           1450000,
           850000,
           750000,
           450000,
           235000,
           600000,
           315000,
           1250000,
           699000,
           440000,
           450000,
           300000,
           475000,
           399000,
           790000,
           650000,
           375000,
           365000,
           210000,
           269000,
           570000,
           785000,
           500000,
           400000,
           425000,
           700000,
           350000,
           360000,
           512000,
           375000,
           750000,
           237000,
           375000,
           560000,
           250000,
           650000,
           1450000,
           275000,
           550000,
           349000,
           350000,
           575000,
           1000000,
           398000,
           280000,
           350000,
           500000,
           615000,
           575000,
           275000,
           644900,
           199000,
           685000,
           1300000,
           540000,
           475000,
           245000,
           1250000,
           695000,
           348738,
           1698000,
           275000,
           375000,
           675000,
           849000,
           539000,
           525000,
           1500000,
           295000,
           750000,
           350000,
           350000,
           599000,
           300000
          ],
          "coloraxis": "coloraxis",
          "size": [
           685000,
           475000,
           850000,
           580000,
           720000,
           450000,
           450000,
           590000,
           399000,
           300000,
           540000,
           539000,
           390000,
           575000,
           650000,
           475000,
           700000,
           325000,
           399000,
           375000,
           1625000,
           575000,
           600000,
           525000,
           350000,
           350000,
           575000,
           375000,
           1650000,
           325000,
           800000,
           1950000,
           735000,
           3925000,
           475000,
           275000,
           375000,
           570000,
           375000,
           895000,
           365000,
           550000,
           325000,
           429000,
           650000,
           350000,
           475000,
           325000,
           425000,
           350000,
           350000,
           375000,
           450000,
           1185000,
           385000,
           687500,
           585000,
           1295000,
           375000,
           500000,
           300000,
           375000,
           400000,
           850000,
           550000,
           275000,
           330000,
           700000,
           500000,
           369000,
           245000,
           350000,
           425000,
           375000,
           335000,
           450000,
           395000,
           300000,
           450000,
           415000,
           650000,
           425000,
           469000,
           485000,
           225000,
           285000,
           995000,
           1475000,
           475000,
           475000,
           395000,
           375000,
           400000,
           325000,
           400000,
           475000,
           425000,
           375000,
           365000,
           500000,
           450000,
           725000,
           4550000,
           225000,
           375000,
           495000,
           475000,
           450000,
           475000,
           475000,
           345000,
           369000,
           320000,
           465000,
           340000,
           375000,
           595000,
           525000,
           245000,
           275000,
           575000,
           250000,
           975000,
           375000,
           1100000,
           750000,
           439000,
           375000,
           445000,
           325000,
           415000,
           300000,
           915000,
           685000,
           350000,
           1025000,
           895000,
           350000,
           265000,
           500000,
           295000,
           1175000,
           995000,
           385000,
           550000,
           325000,
           225000,
           395000,
           425000,
           525000,
           800000,
           400000,
           250000,
           360000,
           1050000,
           799000,
           1700000,
           825000,
           290000,
           469000,
           625000,
           1050000,
           540000,
           285000,
           859000,
           275000,
           525000,
           375000,
           399500,
           430000,
           1300000,
           1750000,
           950000,
           1450000,
           285000,
           300000,
           1500000,
           685000,
           4495000,
           989000,
           765000,
           900000,
           665000,
           2475000,
           475000,
           300000,
           350000,
           450000,
           600000,
           350000,
           595000,
           335000,
           1295000,
           825000,
           5950000,
           325000,
           450000,
           1450000,
           585000,
           1200000,
           1550000,
           1250000,
           998000,
           395000,
           935000,
           1050000,
           729000,
           699000,
           1500000,
           400000,
           550000,
           950000,
           975000,
           295000,
           350000,
           685000,
           1499000,
           1275000,
           375000,
           1595000,
           439000,
           785000,
           395000,
           595000,
           875000,
           295000,
           520000,
           439000,
           410000,
           275000,
           2450000,
           350000,
           1795000,
           835000,
           985000,
           425000,
           635000,
           999500,
           1050000,
           225000,
           1099000,
           895000,
           899000,
           799000,
           719000,
           750000,
           285000,
           285000,
           900000,
           475000,
           545000,
           685000,
           2200000,
           650000,
           1100011,
           1200000,
           1495000,
           295000,
           1000000,
           1150000,
           2250000,
           1350000,
           1650000,
           2750000,
           1050000,
           469000,
           669000,
           300000,
           425000,
           749000,
           700000,
           389000,
           900000,
           1750000,
           275000,
           3500000,
           400000,
           850000,
           1700000,
           2325000,
           1495000,
           549000,
           1375000,
           1250000,
           500000,
           575000,
           2475000,
           1425000,
           1695000,
           515000,
           1095000,
           2500000,
           519900,
           700000,
           2650000,
           1149000,
           280000,
           600000,
           950000,
           849000,
           3680000,
           850000,
           750750,
           1400000,
           4900000,
           899000,
           895000,
           1695000,
           1085000,
           300000,
           649000,
           785000,
           565000,
           1395000,
           795000,
           1200000,
           995000,
           775000,
           825000,
           1249000,
           380000,
           450000,
           399000,
           650000,
           485000,
           1599000,
           950000,
           629000,
           359000,
           419000,
           250000,
           320000,
           3500000,
           415000,
           750000,
           420000,
           525000,
           550000,
           450000,
           425000,
           699000,
           675000,
           1150000,
           1250000,
           1450000,
           240000,
           345000,
           425000,
           250000,
           485000,
           1200000,
           325000,
           275000,
           365000,
           300000,
           485000,
           725000,
           325000,
           225000,
           690000,
           250000,
           825000,
           239000,
           400000,
           430000,
           485000,
           300000,
           550000,
           325000,
           250000,
           675000,
           295000,
           350000,
           375000,
           360000,
           325000,
           250000,
           550000,
           325000,
           235000,
           450000,
           245000,
           1400000,
           650000,
           465000,
           735000,
           675000,
           425000,
           635000,
           300000,
           375000,
           300000,
           910000,
           385000,
           775000,
           349500,
           375000,
           325000,
           295000,
           345000,
           325000,
           245000,
           650000,
           450000,
           525000,
           315000,
           500000,
           285000,
           600000,
           425000,
           225000,
           440000,
           450000,
           425000,
           230000,
           395000,
           550000,
           350000,
           335000,
           300000,
           270000,
           675000,
           450000,
           450000,
           549000,
           265000,
           395000,
           275000,
           400000,
           450000,
           395000,
           335000,
           425000,
           325000,
           590000,
           345000,
           398011,
           900000,
           400000,
           825000,
           415000,
           685000,
           610000,
           295000,
           339000,
           310000,
           395000,
           335000,
           275000,
           425000,
           225000,
           500000,
           600000,
           300000,
           350000,
           475000,
           510000,
           225000,
           545000,
           550000,
           225000,
           320000,
           360000,
           475000,
           425000,
           395000,
           265000,
           230000,
           750000,
           1000000,
           825000,
           425000,
           369000,
           300000,
           389000,
           300000,
           800000,
           600000,
           300000,
           415000,
           325000,
           775000,
           750000,
           650000,
           600000,
           325000,
           385000,
           875000,
           500000,
           900000,
           350000,
           350000,
           450000,
           325000,
           200000,
           575000,
           325000,
           400000,
           365000,
           350000,
           300000,
           375000,
           415000,
           300000,
           625000,
           315000,
           325000,
           370000,
           298000,
           375000,
           325000,
           325000,
           375000,
           295000,
           375000,
           295000,
           275000,
           345000,
           500000,
           390000,
           400000,
           250000,
           625000,
           550000,
           585000,
           425000,
           300000,
           300000,
           275000,
           525000,
           725000,
           350000,
           275000,
           450000,
           325000,
           425000,
           300000,
           330000,
           215000,
           695000,
           750000,
           400000,
           585000,
           395000,
           250000,
           725000,
           275000,
           700000,
           260000,
           275000,
           535000,
           465000,
           490000,
           375000,
           425000,
           265000,
           425000,
           525000,
           625000,
           380000,
           950000,
           350000,
           325000,
           550000,
           300000,
           245000,
           230000,
           395000,
           365000,
           698000,
           495000,
           375000,
           375000,
           1200000,
           425000,
           730000,
           325000,
           275000,
           535000,
           375000,
           775000,
           375000,
           400000,
           300000,
           375000,
           295000,
           345000,
           260000,
           225000,
           425000,
           475000,
           425000,
           1170000,
           520000,
           350000,
           289500,
           480000,
           325000,
           250000,
           350000,
           600000,
           350000,
           525000,
           500000,
           700000,
           300000,
           175000,
           365000,
           375000,
           425000,
           1320000,
           469000,
           270000,
           325000,
           650000,
           550000,
           1150000,
           385000,
           325000,
           750000,
           465000,
           300000,
           250000,
           500000,
           875000,
           399000,
           925000,
           875000,
           930000,
           725000,
           575000,
           600000,
           600000,
           265000,
           350000,
           340000,
           350000,
           430000,
           975000,
           500000,
           850000,
           645000,
           425000,
           1090000,
           895000,
           465000,
           700000,
           325000,
           695000,
           825000,
           280000,
           550000,
           325000,
           325000,
           275000,
           340000,
           550000,
           500000,
           750000,
           499000,
           1750000,
           1250000,
           319000,
           1100000,
           325000,
           475000,
           300000,
           265000,
           399500,
           725000,
           625000,
           399000,
           445000,
           550000,
           675000,
           325000,
           600000,
           375000,
           575000,
           475000,
           500000,
           275000,
           1775000,
           525000,
           400000,
           375000,
           550000,
           525000,
           760000,
           700000,
           675000,
           325000,
           459000,
           350000,
           325000,
           275000,
           275000,
           700000,
           209000,
           1325000,
           850000,
           485000,
           385000,
           650000,
           450000,
           450000,
           600000,
           245000,
           500000,
           600000,
           595000,
           995000,
           475000,
           275000,
           285000,
           585000,
           310000,
           495000,
           475000,
           425000,
           875000,
           560000,
           700000,
           1150000,
           1250000,
           275000,
           575000,
           1025000,
           340000,
           550000,
           400000,
           235000,
           335000,
           975000,
           450000,
           350000,
           725000,
           340000,
           1175000,
           325000,
           700000,
           295000,
           335000,
           300000,
           600000,
           675000,
           495000,
           539000,
           499000,
           475000,
           800000,
           1625000,
           315000,
           450000,
           495000,
           550000,
           400000,
           525000,
           350000,
           620000,
           375000,
           550000,
           1095000,
           485000,
           385000,
           1575000,
           249000,
           350000,
           600000,
           425000,
           345000,
           640000,
           645000,
           350000,
           350000,
           475000,
           400000,
           450000,
           450000,
           375000,
           485000,
           1100000,
           1000000,
           375000,
           525000,
           1325000,
           335000,
           400000,
           835000,
           885000,
           635000,
           1120000,
           375000,
           400000,
           285000,
           425137,
           549001,
           575000,
           500000,
           179000,
           790000,
           350000,
           425000,
           600000,
           1099000,
           525000,
           329000,
           445000,
           950000,
           800000,
           350000,
           875000,
           575000,
           700000,
           325000,
           750000,
           500000,
           300000,
           675000,
           345000,
           275000,
           245000,
           385000,
           375000,
           300000,
           1200000,
           499000,
           325000,
           480000,
           475000,
           685000,
           550000,
           550000,
           5850000,
           330000,
           375000,
           575000,
           825000,
           515000,
           225000,
           1050000,
           425000,
           375000,
           1150000,
           425000,
           1450000,
           850000,
           750000,
           450000,
           235000,
           600000,
           315000,
           1250000,
           699000,
           440000,
           450000,
           300000,
           475000,
           399000,
           790000,
           650000,
           375000,
           365000,
           210000,
           269000,
           570000,
           785000,
           500000,
           400000,
           425000,
           700000,
           350000,
           360000,
           512000,
           375000,
           750000,
           237000,
           375000,
           560000,
           250000,
           650000,
           1450000,
           275000,
           550000,
           349000,
           350000,
           575000,
           1000000,
           398000,
           280000,
           350000,
           500000,
           615000,
           575000,
           275000,
           644900,
           199000,
           685000,
           1300000,
           540000,
           475000,
           245000,
           1250000,
           695000,
           348738,
           1698000,
           275000,
           375000,
           675000,
           849000,
           539000,
           525000,
           1500000,
           295000,
           750000,
           350000,
           350000,
           599000,
           300000
          ],
          "sizemode": "area",
          "sizeref": 14875
         },
         "mode": "markers",
         "name": "",
         "showlegend": false,
         "subplot": "mapbox",
         "type": "scattermapbox"
        }
       ],
       "layout": {
        "coloraxis": {
         "colorbar": {
          "title": {
           "text": "Price"
          }
         },
         "colorscale": [
          [
           0,
           "#0d0887"
          ],
          [
           0.1111111111111111,
           "#46039f"
          ],
          [
           0.2222222222222222,
           "#7201a8"
          ],
          [
           0.3333333333333333,
           "#9c179e"
          ],
          [
           0.4444444444444444,
           "#bd3786"
          ],
          [
           0.5555555555555556,
           "#d8576b"
          ],
          [
           0.6666666666666666,
           "#ed7953"
          ],
          [
           0.7777777777777778,
           "#fb9f3a"
          ],
          [
           0.8888888888888888,
           "#fdca26"
          ],
          [
           1,
           "#f0f921"
          ]
         ]
        },
        "height": 500,
        "legend": {
         "itemsizing": "constant",
         "tracegroupgap": 0
        },
        "mapbox": {
         "accesstoken": "pk.eyJ1IjoiZGVubmlzd2lua2xlcjY4IiwiYSI6ImNsa3R5YnlsbzBoMTMza3BuY2Y2ZGpmdTYifQ.MNqZ4oP1LXDEIwXLcLX39g",
         "center": {
          "lat": 52.36328534129661,
          "lon": 4.888512954453963
         },
         "domain": {
          "x": [
           0,
           1
          ],
          "y": [
           0,
           1
          ]
         },
         "layers": [
          {
           "below": "traces",
           "sourceattribution": "Amsterdam Property Information",
           "sourcetype": "raster"
          }
         ],
         "style": "light",
         "zoom": 9.8
        },
        "margin": {
         "t": 60
        },
        "template": {
         "data": {
          "bar": [
           {
            "error_x": {
             "color": "#2a3f5f"
            },
            "error_y": {
             "color": "#2a3f5f"
            },
            "marker": {
             "line": {
              "color": "#E5ECF6",
              "width": 0.5
             },
             "pattern": {
              "fillmode": "overlay",
              "size": 10,
              "solidity": 0.2
             }
            },
            "type": "bar"
           }
          ],
          "barpolar": [
           {
            "marker": {
             "line": {
              "color": "#E5ECF6",
              "width": 0.5
             },
             "pattern": {
              "fillmode": "overlay",
              "size": 10,
              "solidity": 0.2
             }
            },
            "type": "barpolar"
           }
          ],
          "carpet": [
           {
            "aaxis": {
             "endlinecolor": "#2a3f5f",
             "gridcolor": "white",
             "linecolor": "white",
             "minorgridcolor": "white",
             "startlinecolor": "#2a3f5f"
            },
            "baxis": {
             "endlinecolor": "#2a3f5f",
             "gridcolor": "white",
             "linecolor": "white",
             "minorgridcolor": "white",
             "startlinecolor": "#2a3f5f"
            },
            "type": "carpet"
           }
          ],
          "choropleth": [
           {
            "colorbar": {
             "outlinewidth": 0,
             "ticks": ""
            },
            "type": "choropleth"
           }
          ],
          "contour": [
           {
            "colorbar": {
             "outlinewidth": 0,
             "ticks": ""
            },
            "colorscale": [
             [
              0,
              "#0d0887"
             ],
             [
              0.1111111111111111,
              "#46039f"
             ],
             [
              0.2222222222222222,
              "#7201a8"
             ],
             [
              0.3333333333333333,
              "#9c179e"
             ],
             [
              0.4444444444444444,
              "#bd3786"
             ],
             [
              0.5555555555555556,
              "#d8576b"
             ],
             [
              0.6666666666666666,
              "#ed7953"
             ],
             [
              0.7777777777777778,
              "#fb9f3a"
             ],
             [
              0.8888888888888888,
              "#fdca26"
             ],
             [
              1,
              "#f0f921"
             ]
            ],
            "type": "contour"
           }
          ],
          "contourcarpet": [
           {
            "colorbar": {
             "outlinewidth": 0,
             "ticks": ""
            },
            "type": "contourcarpet"
           }
          ],
          "heatmap": [
           {
            "colorbar": {
             "outlinewidth": 0,
             "ticks": ""
            },
            "colorscale": [
             [
              0,
              "#0d0887"
             ],
             [
              0.1111111111111111,
              "#46039f"
             ],
             [
              0.2222222222222222,
              "#7201a8"
             ],
             [
              0.3333333333333333,
              "#9c179e"
             ],
             [
              0.4444444444444444,
              "#bd3786"
             ],
             [
              0.5555555555555556,
              "#d8576b"
             ],
             [
              0.6666666666666666,
              "#ed7953"
             ],
             [
              0.7777777777777778,
              "#fb9f3a"
             ],
             [
              0.8888888888888888,
              "#fdca26"
             ],
             [
              1,
              "#f0f921"
             ]
            ],
            "type": "heatmap"
           }
          ],
          "heatmapgl": [
           {
            "colorbar": {
             "outlinewidth": 0,
             "ticks": ""
            },
            "colorscale": [
             [
              0,
              "#0d0887"
             ],
             [
              0.1111111111111111,
              "#46039f"
             ],
             [
              0.2222222222222222,
              "#7201a8"
             ],
             [
              0.3333333333333333,
              "#9c179e"
             ],
             [
              0.4444444444444444,
              "#bd3786"
             ],
             [
              0.5555555555555556,
              "#d8576b"
             ],
             [
              0.6666666666666666,
              "#ed7953"
             ],
             [
              0.7777777777777778,
              "#fb9f3a"
             ],
             [
              0.8888888888888888,
              "#fdca26"
             ],
             [
              1,
              "#f0f921"
             ]
            ],
            "type": "heatmapgl"
           }
          ],
          "histogram": [
           {
            "marker": {
             "pattern": {
              "fillmode": "overlay",
              "size": 10,
              "solidity": 0.2
             }
            },
            "type": "histogram"
           }
          ],
          "histogram2d": [
           {
            "colorbar": {
             "outlinewidth": 0,
             "ticks": ""
            },
            "colorscale": [
             [
              0,
              "#0d0887"
             ],
             [
              0.1111111111111111,
              "#46039f"
             ],
             [
              0.2222222222222222,
              "#7201a8"
             ],
             [
              0.3333333333333333,
              "#9c179e"
             ],
             [
              0.4444444444444444,
              "#bd3786"
             ],
             [
              0.5555555555555556,
              "#d8576b"
             ],
             [
              0.6666666666666666,
              "#ed7953"
             ],
             [
              0.7777777777777778,
              "#fb9f3a"
             ],
             [
              0.8888888888888888,
              "#fdca26"
             ],
             [
              1,
              "#f0f921"
             ]
            ],
            "type": "histogram2d"
           }
          ],
          "histogram2dcontour": [
           {
            "colorbar": {
             "outlinewidth": 0,
             "ticks": ""
            },
            "colorscale": [
             [
              0,
              "#0d0887"
             ],
             [
              0.1111111111111111,
              "#46039f"
             ],
             [
              0.2222222222222222,
              "#7201a8"
             ],
             [
              0.3333333333333333,
              "#9c179e"
             ],
             [
              0.4444444444444444,
              "#bd3786"
             ],
             [
              0.5555555555555556,
              "#d8576b"
             ],
             [
              0.6666666666666666,
              "#ed7953"
             ],
             [
              0.7777777777777778,
              "#fb9f3a"
             ],
             [
              0.8888888888888888,
              "#fdca26"
             ],
             [
              1,
              "#f0f921"
             ]
            ],
            "type": "histogram2dcontour"
           }
          ],
          "mesh3d": [
           {
            "colorbar": {
             "outlinewidth": 0,
             "ticks": ""
            },
            "type": "mesh3d"
           }
          ],
          "parcoords": [
           {
            "line": {
             "colorbar": {
              "outlinewidth": 0,
              "ticks": ""
             }
            },
            "type": "parcoords"
           }
          ],
          "pie": [
           {
            "automargin": true,
            "type": "pie"
           }
          ],
          "scatter": [
           {
            "fillpattern": {
             "fillmode": "overlay",
             "size": 10,
             "solidity": 0.2
            },
            "type": "scatter"
           }
          ],
          "scatter3d": [
           {
            "line": {
             "colorbar": {
              "outlinewidth": 0,
              "ticks": ""
             }
            },
            "marker": {
             "colorbar": {
              "outlinewidth": 0,
              "ticks": ""
             }
            },
            "type": "scatter3d"
           }
          ],
          "scattercarpet": [
           {
            "marker": {
             "colorbar": {
              "outlinewidth": 0,
              "ticks": ""
             }
            },
            "type": "scattercarpet"
           }
          ],
          "scattergeo": [
           {
            "marker": {
             "colorbar": {
              "outlinewidth": 0,
              "ticks": ""
             }
            },
            "type": "scattergeo"
           }
          ],
          "scattergl": [
           {
            "marker": {
             "colorbar": {
              "outlinewidth": 0,
              "ticks": ""
             }
            },
            "type": "scattergl"
           }
          ],
          "scattermapbox": [
           {
            "marker": {
             "colorbar": {
              "outlinewidth": 0,
              "ticks": ""
             }
            },
            "type": "scattermapbox"
           }
          ],
          "scatterpolar": [
           {
            "marker": {
             "colorbar": {
              "outlinewidth": 0,
              "ticks": ""
             }
            },
            "type": "scatterpolar"
           }
          ],
          "scatterpolargl": [
           {
            "marker": {
             "colorbar": {
              "outlinewidth": 0,
              "ticks": ""
             }
            },
            "type": "scatterpolargl"
           }
          ],
          "scatterternary": [
           {
            "marker": {
             "colorbar": {
              "outlinewidth": 0,
              "ticks": ""
             }
            },
            "type": "scatterternary"
           }
          ],
          "surface": [
           {
            "colorbar": {
             "outlinewidth": 0,
             "ticks": ""
            },
            "colorscale": [
             [
              0,
              "#0d0887"
             ],
             [
              0.1111111111111111,
              "#46039f"
             ],
             [
              0.2222222222222222,
              "#7201a8"
             ],
             [
              0.3333333333333333,
              "#9c179e"
             ],
             [
              0.4444444444444444,
              "#bd3786"
             ],
             [
              0.5555555555555556,
              "#d8576b"
             ],
             [
              0.6666666666666666,
              "#ed7953"
             ],
             [
              0.7777777777777778,
              "#fb9f3a"
             ],
             [
              0.8888888888888888,
              "#fdca26"
             ],
             [
              1,
              "#f0f921"
             ]
            ],
            "type": "surface"
           }
          ],
          "table": [
           {
            "cells": {
             "fill": {
              "color": "#EBF0F8"
             },
             "line": {
              "color": "white"
             }
            },
            "header": {
             "fill": {
              "color": "#C8D4E3"
             },
             "line": {
              "color": "white"
             }
            },
            "type": "table"
           }
          ]
         },
         "layout": {
          "annotationdefaults": {
           "arrowcolor": "#2a3f5f",
           "arrowhead": 0,
           "arrowwidth": 1
          },
          "autotypenumbers": "strict",
          "coloraxis": {
           "colorbar": {
            "outlinewidth": 0,
            "ticks": ""
           }
          },
          "colorscale": {
           "diverging": [
            [
             0,
             "#8e0152"
            ],
            [
             0.1,
             "#c51b7d"
            ],
            [
             0.2,
             "#de77ae"
            ],
            [
             0.3,
             "#f1b6da"
            ],
            [
             0.4,
             "#fde0ef"
            ],
            [
             0.5,
             "#f7f7f7"
            ],
            [
             0.6,
             "#e6f5d0"
            ],
            [
             0.7,
             "#b8e186"
            ],
            [
             0.8,
             "#7fbc41"
            ],
            [
             0.9,
             "#4d9221"
            ],
            [
             1,
             "#276419"
            ]
           ],
           "sequential": [
            [
             0,
             "#0d0887"
            ],
            [
             0.1111111111111111,
             "#46039f"
            ],
            [
             0.2222222222222222,
             "#7201a8"
            ],
            [
             0.3333333333333333,
             "#9c179e"
            ],
            [
             0.4444444444444444,
             "#bd3786"
            ],
            [
             0.5555555555555556,
             "#d8576b"
            ],
            [
             0.6666666666666666,
             "#ed7953"
            ],
            [
             0.7777777777777778,
             "#fb9f3a"
            ],
            [
             0.8888888888888888,
             "#fdca26"
            ],
            [
             1,
             "#f0f921"
            ]
           ],
           "sequentialminus": [
            [
             0,
             "#0d0887"
            ],
            [
             0.1111111111111111,
             "#46039f"
            ],
            [
             0.2222222222222222,
             "#7201a8"
            ],
            [
             0.3333333333333333,
             "#9c179e"
            ],
            [
             0.4444444444444444,
             "#bd3786"
            ],
            [
             0.5555555555555556,
             "#d8576b"
            ],
            [
             0.6666666666666666,
             "#ed7953"
            ],
            [
             0.7777777777777778,
             "#fb9f3a"
            ],
            [
             0.8888888888888888,
             "#fdca26"
            ],
            [
             1,
             "#f0f921"
            ]
           ]
          },
          "colorway": [
           "#636efa",
           "#EF553B",
           "#00cc96",
           "#ab63fa",
           "#FFA15A",
           "#19d3f3",
           "#FF6692",
           "#B6E880",
           "#FF97FF",
           "#FECB52"
          ],
          "font": {
           "color": "#2a3f5f"
          },
          "geo": {
           "bgcolor": "white",
           "lakecolor": "white",
           "landcolor": "#E5ECF6",
           "showlakes": true,
           "showland": true,
           "subunitcolor": "white"
          },
          "hoverlabel": {
           "align": "left"
          },
          "hovermode": "closest",
          "mapbox": {
           "style": "light"
          },
          "paper_bgcolor": "white",
          "plot_bgcolor": "#E5ECF6",
          "polar": {
           "angularaxis": {
            "gridcolor": "white",
            "linecolor": "white",
            "ticks": ""
           },
           "bgcolor": "#E5ECF6",
           "radialaxis": {
            "gridcolor": "white",
            "linecolor": "white",
            "ticks": ""
           }
          },
          "scene": {
           "xaxis": {
            "backgroundcolor": "#E5ECF6",
            "gridcolor": "white",
            "gridwidth": 2,
            "linecolor": "white",
            "showbackground": true,
            "ticks": "",
            "zerolinecolor": "white"
           },
           "yaxis": {
            "backgroundcolor": "#E5ECF6",
            "gridcolor": "white",
            "gridwidth": 2,
            "linecolor": "white",
            "showbackground": true,
            "ticks": "",
            "zerolinecolor": "white"
           },
           "zaxis": {
            "backgroundcolor": "#E5ECF6",
            "gridcolor": "white",
            "gridwidth": 2,
            "linecolor": "white",
            "showbackground": true,
            "ticks": "",
            "zerolinecolor": "white"
           }
          },
          "shapedefaults": {
           "line": {
            "color": "#2a3f5f"
           }
          },
          "ternary": {
           "aaxis": {
            "gridcolor": "white",
            "linecolor": "white",
            "ticks": ""
           },
           "baxis": {
            "gridcolor": "white",
            "linecolor": "white",
            "ticks": ""
           },
           "bgcolor": "#E5ECF6",
           "caxis": {
            "gridcolor": "white",
            "linecolor": "white",
            "ticks": ""
           }
          },
          "title": {
           "x": 0.05
          },
          "xaxis": {
           "automargin": true,
           "gridcolor": "white",
           "linecolor": "white",
           "ticks": "",
           "title": {
            "standoff": 15
           },
           "zerolinecolor": "white",
           "zerolinewidth": 2
          },
          "yaxis": {
           "automargin": true,
           "gridcolor": "white",
           "linecolor": "white",
           "ticks": "",
           "title": {
            "standoff": 15
           },
           "zerolinecolor": "white",
           "zerolinewidth": 2
          }
         }
        }
       }
      }
     },
     "metadata": {},
     "output_type": "display_data"
    }
   ],
   "source": [
    "# Access token\n",
    "px.set_mapbox_access_token('pk.eyJ1IjoiZGVubmlzd2lua2xlcjY4IiwiYSI6ImNsa3R5YnlsbzBoMTMza3BuY2Y2ZGpmdTYifQ.MNqZ4oP1LXDEIwXLcLX39g')\n",
    "\n",
    "# Specifying the data which should be shown\n",
    "fig = px.scatter_mapbox(df, lat=\"Lat\", lon=\"Lon\",\n",
    "                        color=\"Price\",\n",
    "                        size='Price',\n",
    "                        color_discrete_map=[\"fuchsia\"],\n",
    "                        zoom=9.8, height=500)\n",
    "\n",
    "\n",
    "# Specifying Map Type\n",
    "fig.update_layout(\n",
    "    mapbox_style=\"light\",\n",
    "    mapbox_layers=[\n",
    "        {\n",
    "            \"below\": 'traces',\n",
    "            \"sourcetype\": \"raster\",\n",
    "            \"sourceattribution\": \"Amsterdam Property Information\",\n",
    "        }\n",
    "      ])\n",
    "\n",
    "fig.show()"
   ]
  },
  {
   "cell_type": "code",
   "execution_count": 164,
   "metadata": {},
   "outputs": [
    {
     "name": "stderr",
     "output_type": "stream",
     "text": [
      "C:\\Users\\denni\\AppData\\Local\\Temp\\ipykernel_3916\\1929554574.py:6: SettingWithCopyWarning:\n",
      "\n",
      "\n",
      "A value is trying to be set on a copy of a slice from a DataFrame.\n",
      "Try using .loc[row_indexer,col_indexer] = value instead\n",
      "\n",
      "See the caveats in the documentation: https://pandas.pydata.org/pandas-docs/stable/user_guide/indexing.html#returning-a-view-versus-a-copy\n",
      "\n",
      "C:\\Users\\denni\\AppData\\Local\\Temp\\ipykernel_3916\\1929554574.py:12: SettingWithCopyWarning:\n",
      "\n",
      "\n",
      "A value is trying to be set on a copy of a slice from a DataFrame.\n",
      "Try using .loc[row_indexer,col_indexer] = value instead\n",
      "\n",
      "See the caveats in the documentation: https://pandas.pydata.org/pandas-docs/stable/user_guide/indexing.html#returning-a-view-versus-a-copy\n",
      "\n"
     ]
    }
   ],
   "source": [
    "# Sort the DataFrame by the 'Price' column in descending order\n",
    "df_sorted = df.sort_values(by='Price', ascending=False)\n",
    "\n",
    "# Select the top 50 records\n",
    "df_top50 = df_sorted.head(50)\n",
    "df_top50['Highest/Lowest 50'] = 'Highest'\n",
    "\n",
    "df_sorted = df.sort_values(by='Price', ascending=True)\n",
    "\n",
    "# Select the top 50 records\n",
    "df_low50 = df_sorted.head(50)\n",
    "df_low50['Highest/Lowest 50'] = 'Lowest'\n",
    "\n",
    "df_combined = pd.concat([df_top50, df_low50], ignore_index=True)"
   ]
  },
  {
   "cell_type": "code",
   "execution_count": 165,
   "metadata": {},
   "outputs": [
    {
     "data": {
      "application/vnd.plotly.v1+json": {
       "config": {
        "plotlyServerURL": "https://plot.ly"
       },
       "data": [
        {
         "hovertemplate": "Highest/Lowest 50=Highest<br>Lat=%{lat}<br>Lon=%{lon}<extra></extra>",
         "lat": [
          52.365078,
          52.354874,
          52.371039,
          52.358798,
          52.373106,
          52.361571,
          52.385321,
          52.352366,
          52.375532,
          52.349528,
          52.355179,
          52.359763,
          52.358943,
          52.358943,
          52.375756,
          52.366965,
          52.364132,
          52.353256,
          52.385346,
          52.350755,
          52.353408,
          52.336348,
          52.3686532505277,
          52.369689,
          52.360937,
          52.349904,
          52.351894,
          52.358928,
          52.412038,
          52.358631,
          52.35502,
          52.374742,
          52.348636,
          52.361672,
          52.375994,
          52.38257,
          52.360824,
          52.374848,
          52.345566,
          52.325762,
          52.358204,
          52.41355,
          52.368029,
          52.366984,
          52.376819,
          52.394178,
          52.360892,
          52.367182,
          52.370706,
          52.373727
         ],
         "legendgroup": "Highest",
         "lon": [
          4.887378,
          4.863729,
          4.887869,
          4.89862,
          4.89429,
          4.875471,
          4.905695,
          4.857608,
          4.889816,
          4.862413,
          4.89935,
          4.876117,
          4.897473,
          4.897473,
          4.883278,
          4.896842,
          4.915246,
          4.865847,
          4.887444,
          4.912109,
          4.865595,
          4.872151,
          4.90981909560303,
          4.883097,
          4.896542,
          4.869966,
          4.860637,
          4.876144,
          4.97083,
          4.820848,
          4.887183,
          4.88583,
          4.869761,
          4.868596,
          4.888459,
          4.961457,
          4.88242,
          4.902614,
          4.790343,
          4.857216,
          4.854662,
          5.029122,
          4.888094,
          4.920481,
          4.942112,
          4.878463,
          4.896425,
          4.891701,
          4.88987,
          4.905372
         ],
         "marker": {
          "color": "green"
         },
         "mode": "markers",
         "name": "Highest",
         "showlegend": true,
         "subplot": "mapbox",
         "type": "scattermapbox"
        },
        {
         "hovertemplate": "Highest/Lowest 50=Lowest<br>Lat=%{lat}<br>Lon=%{lon}<extra></extra>",
         "lat": [
          52.402968,
          52.325695,
          52.362176,
          52.38178,
          52.296957,
          52.353976,
          52.324953,
          52.309662,
          52.309773,
          52.324304,
          52.319485,
          52.380834,
          52.325544,
          52.317544,
          52.319741,
          52.295757,
          52.35459,
          52.326205,
          52.320816,
          52.338759,
          52.320576,
          52.36173,
          52.325253,
          52.362788,
          52.324322,
          52.324231,
          52.370666,
          52.357145,
          52.2923239,
          52.355404,
          52.299114,
          52.417569,
          52.359244,
          52.378255,
          52.294299,
          52.327585,
          52.325081,
          52.383676,
          52.3958,
          52.316374,
          52.320409,
          52.355143,
          52.376658,
          52.366428,
          52.38063,
          52.291803,
          52.400571,
          52.399557,
          52.317064,
          52.316702
         ],
         "legendgroup": "Lowest",
         "lon": [
          4.945552,
          4.945048,
          4.862992,
          4.818173,
          4.975309,
          4.797085,
          4.945155,
          4.958115,
          4.957403,
          4.974337,
          4.946485,
          4.860857,
          4.976804,
          4.943668,
          4.945309,
          4.992412,
          4.790457,
          4.975727,
          4.944301,
          4.920676,
          4.942778,
          4.944758,
          4.947669,
          4.836971,
          4.974395,
          4.977675,
          4.913448,
          4.788481,
          4.9688878,
          4.789682,
          4.98042,
          4.883861,
          4.787319,
          4.834844,
          4.98366,
          4.883913,
          4.947171,
          4.812509,
          4.959052,
          4.9685,
          4.945909,
          4.803968,
          4.877315,
          4.872989,
          4.823887,
          4.968806,
          4.952138,
          4.951827,
          4.967708,
          4.969802
         ],
         "marker": {
          "color": "red"
         },
         "mode": "markers",
         "name": "Lowest",
         "showlegend": true,
         "subplot": "mapbox",
         "type": "scattermapbox"
        }
       ],
       "layout": {
        "height": 500,
        "legend": {
         "title": {
          "text": "Highest/Lowest 50"
         },
         "tracegroupgap": 0
        },
        "mapbox": {
         "accesstoken": "pk.eyJ1IjoiZGVubmlzd2lua2xlcjY4IiwiYSI6ImNsa3R5YnlsbzBoMTMza3BuY2Y2ZGpmdTYifQ.MNqZ4oP1LXDEIwXLcLX39g",
         "center": {
          "lat": 52.35360506150528,
          "lon": 4.90206085895603
         },
         "domain": {
          "x": [
           0,
           1
          ],
          "y": [
           0,
           1
          ]
         },
         "layers": [
          {
           "below": "traces",
           "sourceattribution": "Amsterdam Property Information",
           "sourcetype": "raster"
          }
         ],
         "style": "light",
         "zoom": 9.8
        },
        "margin": {
         "t": 60
        },
        "template": {
         "data": {
          "bar": [
           {
            "error_x": {
             "color": "#2a3f5f"
            },
            "error_y": {
             "color": "#2a3f5f"
            },
            "marker": {
             "line": {
              "color": "#E5ECF6",
              "width": 0.5
             },
             "pattern": {
              "fillmode": "overlay",
              "size": 10,
              "solidity": 0.2
             }
            },
            "type": "bar"
           }
          ],
          "barpolar": [
           {
            "marker": {
             "line": {
              "color": "#E5ECF6",
              "width": 0.5
             },
             "pattern": {
              "fillmode": "overlay",
              "size": 10,
              "solidity": 0.2
             }
            },
            "type": "barpolar"
           }
          ],
          "carpet": [
           {
            "aaxis": {
             "endlinecolor": "#2a3f5f",
             "gridcolor": "white",
             "linecolor": "white",
             "minorgridcolor": "white",
             "startlinecolor": "#2a3f5f"
            },
            "baxis": {
             "endlinecolor": "#2a3f5f",
             "gridcolor": "white",
             "linecolor": "white",
             "minorgridcolor": "white",
             "startlinecolor": "#2a3f5f"
            },
            "type": "carpet"
           }
          ],
          "choropleth": [
           {
            "colorbar": {
             "outlinewidth": 0,
             "ticks": ""
            },
            "type": "choropleth"
           }
          ],
          "contour": [
           {
            "colorbar": {
             "outlinewidth": 0,
             "ticks": ""
            },
            "colorscale": [
             [
              0,
              "#0d0887"
             ],
             [
              0.1111111111111111,
              "#46039f"
             ],
             [
              0.2222222222222222,
              "#7201a8"
             ],
             [
              0.3333333333333333,
              "#9c179e"
             ],
             [
              0.4444444444444444,
              "#bd3786"
             ],
             [
              0.5555555555555556,
              "#d8576b"
             ],
             [
              0.6666666666666666,
              "#ed7953"
             ],
             [
              0.7777777777777778,
              "#fb9f3a"
             ],
             [
              0.8888888888888888,
              "#fdca26"
             ],
             [
              1,
              "#f0f921"
             ]
            ],
            "type": "contour"
           }
          ],
          "contourcarpet": [
           {
            "colorbar": {
             "outlinewidth": 0,
             "ticks": ""
            },
            "type": "contourcarpet"
           }
          ],
          "heatmap": [
           {
            "colorbar": {
             "outlinewidth": 0,
             "ticks": ""
            },
            "colorscale": [
             [
              0,
              "#0d0887"
             ],
             [
              0.1111111111111111,
              "#46039f"
             ],
             [
              0.2222222222222222,
              "#7201a8"
             ],
             [
              0.3333333333333333,
              "#9c179e"
             ],
             [
              0.4444444444444444,
              "#bd3786"
             ],
             [
              0.5555555555555556,
              "#d8576b"
             ],
             [
              0.6666666666666666,
              "#ed7953"
             ],
             [
              0.7777777777777778,
              "#fb9f3a"
             ],
             [
              0.8888888888888888,
              "#fdca26"
             ],
             [
              1,
              "#f0f921"
             ]
            ],
            "type": "heatmap"
           }
          ],
          "heatmapgl": [
           {
            "colorbar": {
             "outlinewidth": 0,
             "ticks": ""
            },
            "colorscale": [
             [
              0,
              "#0d0887"
             ],
             [
              0.1111111111111111,
              "#46039f"
             ],
             [
              0.2222222222222222,
              "#7201a8"
             ],
             [
              0.3333333333333333,
              "#9c179e"
             ],
             [
              0.4444444444444444,
              "#bd3786"
             ],
             [
              0.5555555555555556,
              "#d8576b"
             ],
             [
              0.6666666666666666,
              "#ed7953"
             ],
             [
              0.7777777777777778,
              "#fb9f3a"
             ],
             [
              0.8888888888888888,
              "#fdca26"
             ],
             [
              1,
              "#f0f921"
             ]
            ],
            "type": "heatmapgl"
           }
          ],
          "histogram": [
           {
            "marker": {
             "pattern": {
              "fillmode": "overlay",
              "size": 10,
              "solidity": 0.2
             }
            },
            "type": "histogram"
           }
          ],
          "histogram2d": [
           {
            "colorbar": {
             "outlinewidth": 0,
             "ticks": ""
            },
            "colorscale": [
             [
              0,
              "#0d0887"
             ],
             [
              0.1111111111111111,
              "#46039f"
             ],
             [
              0.2222222222222222,
              "#7201a8"
             ],
             [
              0.3333333333333333,
              "#9c179e"
             ],
             [
              0.4444444444444444,
              "#bd3786"
             ],
             [
              0.5555555555555556,
              "#d8576b"
             ],
             [
              0.6666666666666666,
              "#ed7953"
             ],
             [
              0.7777777777777778,
              "#fb9f3a"
             ],
             [
              0.8888888888888888,
              "#fdca26"
             ],
             [
              1,
              "#f0f921"
             ]
            ],
            "type": "histogram2d"
           }
          ],
          "histogram2dcontour": [
           {
            "colorbar": {
             "outlinewidth": 0,
             "ticks": ""
            },
            "colorscale": [
             [
              0,
              "#0d0887"
             ],
             [
              0.1111111111111111,
              "#46039f"
             ],
             [
              0.2222222222222222,
              "#7201a8"
             ],
             [
              0.3333333333333333,
              "#9c179e"
             ],
             [
              0.4444444444444444,
              "#bd3786"
             ],
             [
              0.5555555555555556,
              "#d8576b"
             ],
             [
              0.6666666666666666,
              "#ed7953"
             ],
             [
              0.7777777777777778,
              "#fb9f3a"
             ],
             [
              0.8888888888888888,
              "#fdca26"
             ],
             [
              1,
              "#f0f921"
             ]
            ],
            "type": "histogram2dcontour"
           }
          ],
          "mesh3d": [
           {
            "colorbar": {
             "outlinewidth": 0,
             "ticks": ""
            },
            "type": "mesh3d"
           }
          ],
          "parcoords": [
           {
            "line": {
             "colorbar": {
              "outlinewidth": 0,
              "ticks": ""
             }
            },
            "type": "parcoords"
           }
          ],
          "pie": [
           {
            "automargin": true,
            "type": "pie"
           }
          ],
          "scatter": [
           {
            "fillpattern": {
             "fillmode": "overlay",
             "size": 10,
             "solidity": 0.2
            },
            "type": "scatter"
           }
          ],
          "scatter3d": [
           {
            "line": {
             "colorbar": {
              "outlinewidth": 0,
              "ticks": ""
             }
            },
            "marker": {
             "colorbar": {
              "outlinewidth": 0,
              "ticks": ""
             }
            },
            "type": "scatter3d"
           }
          ],
          "scattercarpet": [
           {
            "marker": {
             "colorbar": {
              "outlinewidth": 0,
              "ticks": ""
             }
            },
            "type": "scattercarpet"
           }
          ],
          "scattergeo": [
           {
            "marker": {
             "colorbar": {
              "outlinewidth": 0,
              "ticks": ""
             }
            },
            "type": "scattergeo"
           }
          ],
          "scattergl": [
           {
            "marker": {
             "colorbar": {
              "outlinewidth": 0,
              "ticks": ""
             }
            },
            "type": "scattergl"
           }
          ],
          "scattermapbox": [
           {
            "marker": {
             "colorbar": {
              "outlinewidth": 0,
              "ticks": ""
             }
            },
            "type": "scattermapbox"
           }
          ],
          "scatterpolar": [
           {
            "marker": {
             "colorbar": {
              "outlinewidth": 0,
              "ticks": ""
             }
            },
            "type": "scatterpolar"
           }
          ],
          "scatterpolargl": [
           {
            "marker": {
             "colorbar": {
              "outlinewidth": 0,
              "ticks": ""
             }
            },
            "type": "scatterpolargl"
           }
          ],
          "scatterternary": [
           {
            "marker": {
             "colorbar": {
              "outlinewidth": 0,
              "ticks": ""
             }
            },
            "type": "scatterternary"
           }
          ],
          "surface": [
           {
            "colorbar": {
             "outlinewidth": 0,
             "ticks": ""
            },
            "colorscale": [
             [
              0,
              "#0d0887"
             ],
             [
              0.1111111111111111,
              "#46039f"
             ],
             [
              0.2222222222222222,
              "#7201a8"
             ],
             [
              0.3333333333333333,
              "#9c179e"
             ],
             [
              0.4444444444444444,
              "#bd3786"
             ],
             [
              0.5555555555555556,
              "#d8576b"
             ],
             [
              0.6666666666666666,
              "#ed7953"
             ],
             [
              0.7777777777777778,
              "#fb9f3a"
             ],
             [
              0.8888888888888888,
              "#fdca26"
             ],
             [
              1,
              "#f0f921"
             ]
            ],
            "type": "surface"
           }
          ],
          "table": [
           {
            "cells": {
             "fill": {
              "color": "#EBF0F8"
             },
             "line": {
              "color": "white"
             }
            },
            "header": {
             "fill": {
              "color": "#C8D4E3"
             },
             "line": {
              "color": "white"
             }
            },
            "type": "table"
           }
          ]
         },
         "layout": {
          "annotationdefaults": {
           "arrowcolor": "#2a3f5f",
           "arrowhead": 0,
           "arrowwidth": 1
          },
          "autotypenumbers": "strict",
          "coloraxis": {
           "colorbar": {
            "outlinewidth": 0,
            "ticks": ""
           }
          },
          "colorscale": {
           "diverging": [
            [
             0,
             "#8e0152"
            ],
            [
             0.1,
             "#c51b7d"
            ],
            [
             0.2,
             "#de77ae"
            ],
            [
             0.3,
             "#f1b6da"
            ],
            [
             0.4,
             "#fde0ef"
            ],
            [
             0.5,
             "#f7f7f7"
            ],
            [
             0.6,
             "#e6f5d0"
            ],
            [
             0.7,
             "#b8e186"
            ],
            [
             0.8,
             "#7fbc41"
            ],
            [
             0.9,
             "#4d9221"
            ],
            [
             1,
             "#276419"
            ]
           ],
           "sequential": [
            [
             0,
             "#0d0887"
            ],
            [
             0.1111111111111111,
             "#46039f"
            ],
            [
             0.2222222222222222,
             "#7201a8"
            ],
            [
             0.3333333333333333,
             "#9c179e"
            ],
            [
             0.4444444444444444,
             "#bd3786"
            ],
            [
             0.5555555555555556,
             "#d8576b"
            ],
            [
             0.6666666666666666,
             "#ed7953"
            ],
            [
             0.7777777777777778,
             "#fb9f3a"
            ],
            [
             0.8888888888888888,
             "#fdca26"
            ],
            [
             1,
             "#f0f921"
            ]
           ],
           "sequentialminus": [
            [
             0,
             "#0d0887"
            ],
            [
             0.1111111111111111,
             "#46039f"
            ],
            [
             0.2222222222222222,
             "#7201a8"
            ],
            [
             0.3333333333333333,
             "#9c179e"
            ],
            [
             0.4444444444444444,
             "#bd3786"
            ],
            [
             0.5555555555555556,
             "#d8576b"
            ],
            [
             0.6666666666666666,
             "#ed7953"
            ],
            [
             0.7777777777777778,
             "#fb9f3a"
            ],
            [
             0.8888888888888888,
             "#fdca26"
            ],
            [
             1,
             "#f0f921"
            ]
           ]
          },
          "colorway": [
           "#636efa",
           "#EF553B",
           "#00cc96",
           "#ab63fa",
           "#FFA15A",
           "#19d3f3",
           "#FF6692",
           "#B6E880",
           "#FF97FF",
           "#FECB52"
          ],
          "font": {
           "color": "#2a3f5f"
          },
          "geo": {
           "bgcolor": "white",
           "lakecolor": "white",
           "landcolor": "#E5ECF6",
           "showlakes": true,
           "showland": true,
           "subunitcolor": "white"
          },
          "hoverlabel": {
           "align": "left"
          },
          "hovermode": "closest",
          "mapbox": {
           "style": "light"
          },
          "paper_bgcolor": "white",
          "plot_bgcolor": "#E5ECF6",
          "polar": {
           "angularaxis": {
            "gridcolor": "white",
            "linecolor": "white",
            "ticks": ""
           },
           "bgcolor": "#E5ECF6",
           "radialaxis": {
            "gridcolor": "white",
            "linecolor": "white",
            "ticks": ""
           }
          },
          "scene": {
           "xaxis": {
            "backgroundcolor": "#E5ECF6",
            "gridcolor": "white",
            "gridwidth": 2,
            "linecolor": "white",
            "showbackground": true,
            "ticks": "",
            "zerolinecolor": "white"
           },
           "yaxis": {
            "backgroundcolor": "#E5ECF6",
            "gridcolor": "white",
            "gridwidth": 2,
            "linecolor": "white",
            "showbackground": true,
            "ticks": "",
            "zerolinecolor": "white"
           },
           "zaxis": {
            "backgroundcolor": "#E5ECF6",
            "gridcolor": "white",
            "gridwidth": 2,
            "linecolor": "white",
            "showbackground": true,
            "ticks": "",
            "zerolinecolor": "white"
           }
          },
          "shapedefaults": {
           "line": {
            "color": "#2a3f5f"
           }
          },
          "ternary": {
           "aaxis": {
            "gridcolor": "white",
            "linecolor": "white",
            "ticks": ""
           },
           "baxis": {
            "gridcolor": "white",
            "linecolor": "white",
            "ticks": ""
           },
           "bgcolor": "#E5ECF6",
           "caxis": {
            "gridcolor": "white",
            "linecolor": "white",
            "ticks": ""
           }
          },
          "title": {
           "x": 0.05
          },
          "xaxis": {
           "automargin": true,
           "gridcolor": "white",
           "linecolor": "white",
           "ticks": "",
           "title": {
            "standoff": 15
           },
           "zerolinecolor": "white",
           "zerolinewidth": 2
          },
          "yaxis": {
           "automargin": true,
           "gridcolor": "white",
           "linecolor": "white",
           "ticks": "",
           "title": {
            "standoff": 15
           },
           "zerolinecolor": "white",
           "zerolinewidth": 2
          }
         }
        }
       }
      }
     },
     "metadata": {},
     "output_type": "display_data"
    }
   ],
   "source": [
    "# Specifying the data which should be shown\n",
    "fig = px.scatter_mapbox(df_combined, lat=\"Lat\", lon=\"Lon\",\n",
    "                        color=\"Highest/Lowest 50\",\n",
    "                        color_discrete_map={'Highest': 'green', 'Lowest': 'red'},\n",
    "                        zoom=9.8, \n",
    "                        height=500\n",
    "                        )\n",
    "\n",
    "\n",
    "# Specifying Map Type\n",
    "fig.update_layout(\n",
    "    mapbox_style=\"light\",\n",
    "    mapbox_layers=[\n",
    "        {\n",
    "            \"below\": 'traces',\n",
    "            \"sourcetype\": \"raster\",\n",
    "            \"sourceattribution\": \"Amsterdam Property Information\",\n",
    "        }\n",
    "      ])"
   ]
  },
  {
   "cell_type": "code",
   "execution_count": 166,
   "metadata": {},
   "outputs": [],
   "source": [
    "df['Index'] = df.index"
   ]
  },
  {
   "cell_type": "code",
   "execution_count": 167,
   "metadata": {},
   "outputs": [
    {
     "data": {
      "application/vnd.plotly.v1+json": {
       "config": {
        "plotlyServerURL": "https://plot.ly"
       },
       "data": [
        {
         "customdata": [
          [
           0
          ],
          [
           2
          ],
          [
           12
          ],
          [
           14
          ],
          [
           23
          ],
          [
           44
          ],
          [
           46
          ],
          [
           59
          ],
          [
           67
          ],
          [
           68
          ],
          [
           69
          ],
          [
           79
          ],
          [
           97
          ],
          [
           100
          ],
          [
           117
          ],
          [
           125
          ],
          [
           128
          ],
          [
           155
          ],
          [
           165
          ],
          [
           171
          ],
          [
           183
          ],
          [
           188
          ],
          [
           210
          ],
          [
           216
          ],
          [
           229
          ],
          [
           233
          ],
          [
           250
          ],
          [
           265
          ],
          [
           270
          ],
          [
           278
          ],
          [
           331
          ],
          [
           339
          ],
          [
           340
          ],
          [
           351
          ],
          [
           367
          ],
          [
           379
          ],
          [
           381
          ],
          [
           397
          ],
          [
           431
          ],
          [
           434
          ],
          [
           442
          ],
          [
           446
          ],
          [
           449
          ],
          [
           474
          ],
          [
           475
          ],
          [
           479
          ],
          [
           484
          ],
          [
           485
          ],
          [
           486
          ],
          [
           488
          ],
          [
           504
          ],
          [
           511
          ],
          [
           513
          ],
          [
           518
          ],
          [
           522
          ],
          [
           525
          ],
          [
           543
          ],
          [
           545
          ],
          [
           568
          ],
          [
           575
          ],
          [
           582
          ],
          [
           585
          ],
          [
           592
          ],
          [
           595
          ],
          [
           602
          ],
          [
           619
          ],
          [
           634
          ],
          [
           640
          ],
          [
           647
          ],
          [
           676
          ],
          [
           683
          ],
          [
           687
          ],
          [
           690
          ],
          [
           695
          ],
          [
           697
          ],
          [
           704
          ],
          [
           708
          ],
          [
           725
          ],
          [
           739
          ],
          [
           748
          ],
          [
           754
          ],
          [
           760
          ],
          [
           763
          ],
          [
           778
          ],
          [
           781
          ],
          [
           783
          ],
          [
           791
          ],
          [
           798
          ],
          [
           819
          ],
          [
           821
          ],
          [
           862
          ],
          [
           897
          ],
          [
           903
          ],
          [
           904
          ],
          [
           909
          ],
          [
           918
          ],
          [
           919
          ],
          [
           922
          ]
         ],
         "hovertemplate": "Borough=Oost<br>Lat=%{lat}<br>Lon=%{lon}<br>Index=%{customdata[0]}<extra></extra>",
         "lat": [
          52.356157,
          52.343782,
          52.356446,
          52.356532,
          52.361355,
          52.36344,
          52.362693,
          52.366168,
          52.372762,
          52.342942,
          52.364949,
          52.365457,
          52.352317,
          52.356043,
          52.356903,
          52.338283,
          52.352165,
          52.373001,
          52.350556,
          52.333206,
          52.356081,
          52.358857,
          52.362891,
          52.333097,
          52.357987,
          52.350755,
          52.349453,
          52.361333,
          52.3686532505277,
          52.360906,
          52.36658,
          52.354825,
          52.355788,
          52.358255,
          52.349698,
          52.362164,
          52.36173,
          52.339554,
          52.344742,
          52.364335,
          52.373057,
          52.36264,
          52.364224,
          52.360041,
          52.353214,
          52.375408,
          52.353136,
          52.355442,
          52.371556,
          52.365552,
          52.358618,
          52.364743,
          52.364934,
          52.350961,
          52.363772,
          52.359277,
          52.351935,
          52.358042,
          52.338759,
          52.360578,
          52.358206,
          52.357424,
          52.358696,
          52.35637,
          52.360243,
          52.351422,
          52.35282,
          52.356215,
          52.364679,
          52.352324,
          52.358996,
          52.356419,
          52.355605,
          52.357269,
          52.36596,
          52.352811,
          52.360697,
          52.354845,
          52.363679,
          52.363614,
          52.358329,
          52.349139,
          52.354968,
          52.358917,
          52.355933,
          52.352814,
          52.352847,
          52.354922,
          52.356428,
          52.340644,
          52.356012,
          52.3686532505277,
          52.372583,
          52.344595,
          52.3505131,
          52.354173,
          52.354173,
          52.375268
         ],
         "legendgroup": "Oost",
         "lon": [
          4.907736,
          4.944774,
          4.908173,
          4.909361,
          4.945438,
          4.924306,
          4.942841,
          4.944196,
          4.969203,
          4.922788,
          4.933378,
          4.944032,
          4.944251,
          4.926673,
          4.910003,
          4.919919,
          4.91638,
          4.968819,
          5.016505,
          4.904363,
          4.938738,
          4.9064,
          4.962333,
          4.901539,
          4.920472,
          4.912109,
          5.009767,
          4.979483,
          4.90981909560303,
          4.936223,
          4.952089,
          4.997979,
          4.928173,
          4.925675,
          4.940682,
          4.945592,
          4.944758,
          4.941752,
          4.925792,
          4.925735,
          4.964407,
          4.926678,
          4.934237,
          4.934903,
          4.920288,
          4.966154,
          5.000973,
          4.922217,
          4.967326,
          4.938408,
          4.914021,
          4.933659,
          4.940171,
          5.014044,
          4.928824,
          4.996295,
          5.009082,
          4.907275,
          4.920676,
          4.979592,
          4.932925,
          4.91803,
          4.996258,
          4.923063,
          4.981387,
          4.921657,
          5.00033,
          4.917761,
          4.986808,
          5.000011,
          4.914296,
          4.908012,
          4.922699,
          4.94178,
          4.934601,
          5.000345,
          4.990866,
          5.001384,
          4.930264,
          4.925816,
          4.932943,
          5.012134,
          4.92068,
          4.935377,
          4.993345,
          4.919118,
          4.920732,
          4.922721,
          4.937898,
          4.949415,
          4.925631,
          4.90981909560303,
          4.969506,
          4.952066,
          5.0165552,
          4.927757,
          4.927757,
          4.965731
         ],
         "marker": {
          "color": "#636efa"
         },
         "mode": "markers",
         "name": "Oost",
         "showlegend": true,
         "subplot": "mapbox",
         "type": "scattermapbox"
        },
        {
         "customdata": [
          [
           1
          ],
          [
           5
          ],
          [
           7
          ],
          [
           8
          ],
          [
           10
          ],
          [
           16
          ],
          [
           27
          ],
          [
           33
          ],
          [
           34
          ],
          [
           37
          ],
          [
           40
          ],
          [
           41
          ],
          [
           45
          ],
          [
           58
          ],
          [
           61
          ],
          [
           62
          ],
          [
           64
          ],
          [
           66
          ],
          [
           72
          ],
          [
           78
          ],
          [
           80
          ],
          [
           85
          ],
          [
           86
          ],
          [
           89
          ],
          [
           91
          ],
          [
           99
          ],
          [
           105
          ],
          [
           106
          ],
          [
           110
          ],
          [
           124
          ],
          [
           131
          ],
          [
           132
          ],
          [
           135
          ],
          [
           138
          ],
          [
           145
          ],
          [
           146
          ],
          [
           154
          ],
          [
           176
          ],
          [
           190
          ],
          [
           191
          ],
          [
           192
          ],
          [
           204
          ],
          [
           211
          ],
          [
           217
          ],
          [
           222
          ],
          [
           232
          ],
          [
           236
          ],
          [
           239
          ],
          [
           252
          ],
          [
           256
          ],
          [
           258
          ],
          [
           269
          ],
          [
           302
          ],
          [
           327
          ],
          [
           344
          ],
          [
           352
          ],
          [
           357
          ],
          [
           363
          ],
          [
           365
          ],
          [
           366
          ],
          [
           368
          ],
          [
           370
          ],
          [
           371
          ],
          [
           372
          ],
          [
           376
          ],
          [
           386
          ],
          [
           391
          ],
          [
           396
          ],
          [
           398
          ],
          [
           399
          ],
          [
           401
          ],
          [
           405
          ],
          [
           413
          ],
          [
           424
          ],
          [
           430
          ],
          [
           435
          ],
          [
           436
          ],
          [
           444
          ],
          [
           451
          ],
          [
           455
          ],
          [
           464
          ],
          [
           466
          ],
          [
           471
          ],
          [
           487
          ],
          [
           494
          ],
          [
           497
          ],
          [
           506
          ],
          [
           508
          ],
          [
           509
          ],
          [
           514
          ],
          [
           520
          ],
          [
           521
          ],
          [
           529
          ],
          [
           532
          ],
          [
           536
          ],
          [
           541
          ],
          [
           544
          ],
          [
           547
          ],
          [
           552
          ],
          [
           554
          ],
          [
           556
          ],
          [
           558
          ],
          [
           560
          ],
          [
           563
          ],
          [
           565
          ],
          [
           569
          ],
          [
           576
          ],
          [
           578
          ],
          [
           581
          ],
          [
           584
          ],
          [
           591
          ],
          [
           612
          ],
          [
           615
          ],
          [
           620
          ],
          [
           621
          ],
          [
           626
          ],
          [
           627
          ],
          [
           628
          ],
          [
           633
          ],
          [
           637
          ],
          [
           643
          ],
          [
           658
          ],
          [
           659
          ],
          [
           664
          ],
          [
           665
          ],
          [
           673
          ],
          [
           675
          ],
          [
           677
          ],
          [
           679
          ],
          [
           680
          ],
          [
           686
          ],
          [
           693
          ],
          [
           696
          ],
          [
           707
          ],
          [
           709
          ],
          [
           711
          ],
          [
           712
          ],
          [
           718
          ],
          [
           721
          ],
          [
           722
          ],
          [
           724
          ],
          [
           726
          ],
          [
           728
          ],
          [
           731
          ],
          [
           732
          ],
          [
           733
          ],
          [
           734
          ],
          [
           741
          ],
          [
           747
          ],
          [
           750
          ],
          [
           751
          ],
          [
           753
          ],
          [
           758
          ],
          [
           761
          ],
          [
           766
          ],
          [
           784
          ],
          [
           795
          ],
          [
           796
          ],
          [
           805
          ],
          [
           816
          ],
          [
           820
          ],
          [
           829
          ],
          [
           832
          ],
          [
           833
          ],
          [
           839
          ],
          [
           845
          ],
          [
           847
          ],
          [
           848
          ],
          [
           856
          ],
          [
           864
          ],
          [
           866
          ],
          [
           869
          ],
          [
           873
          ],
          [
           874
          ],
          [
           887
          ],
          [
           896
          ],
          [
           899
          ],
          [
           900
          ],
          [
           921
          ]
         ],
         "hovertemplate": "Borough=West<br>Lat=%{lat}<br>Lon=%{lon}<br>Index=%{customdata[0]}<extra></extra>",
         "lat": [
          52.348586,
          52.382228,
          52.371041,
          52.363471,
          52.351244,
          52.36209,
          52.373735,
          52.361571,
          52.365372,
          52.359929,
          52.371899,
          52.369627,
          52.373198,
          52.379483,
          52.376873,
          52.36355,
          52.359026,
          52.381715,
          52.379711,
          52.37314,
          52.366082,
          52.380834,
          52.384661,
          52.370073,
          52.348138,
          52.382031,
          52.373597,
          52.384604,
          52.351734,
          52.376809,
          52.373199,
          52.365466,
          52.366405,
          52.362946,
          52.365141,
          52.365,
          52.382635,
          52.384197,
          52.38503,
          52.359998,
          52.364187,
          52.370557,
          52.379474,
          52.358204,
          52.367915,
          52.382654,
          52.338795,
          52.362038,
          52.374016,
          52.3574,
          52.380834,
          52.380663,
          52.365326,
          52.361672,
          52.360284,
          52.362146,
          52.379574,
          52.362822,
          52.366766,
          52.35303,
          52.367037,
          52.375562,
          52.366428,
          52.372221,
          52.380045,
          52.351371,
          52.366735,
          52.366908,
          52.377329,
          52.383093,
          52.384683,
          52.370868,
          52.359788,
          52.378402,
          52.370661,
          52.381319,
          52.381995,
          52.368574,
          52.383021,
          52.375584,
          52.379548,
          52.375341,
          52.358293,
          52.377961,
          52.350909,
          52.372671,
          52.370007,
          52.377933,
          52.369611,
          52.372608,
          52.37786,
          52.365813,
          52.372951,
          52.361963,
          52.364636,
          52.367502,
          52.374093,
          52.370304,
          52.372929,
          52.363758,
          52.361321,
          52.369339,
          52.349933,
          52.363713,
          52.369651,
          52.365663,
          52.37986,
          52.384166,
          52.383963,
          52.350198,
          52.366236,
          52.385387,
          52.383656,
          52.384355,
          52.375563,
          52.359955,
          52.376552,
          52.356392,
          52.37755,
          52.377961,
          52.366755,
          52.380808,
          52.367739,
          52.367118,
          52.378843,
          52.377799,
          52.377544,
          52.360699,
          52.381479,
          52.361159,
          52.361768,
          52.365121,
          52.36504,
          52.352379,
          52.349856,
          52.380747,
          52.365991,
          52.364831,
          52.361606,
          52.384118,
          52.360923,
          52.363634,
          52.370359,
          52.358834,
          52.380458,
          52.363743,
          52.378707,
          52.365393,
          52.363527,
          52.371205,
          52.370632,
          52.358995,
          52.3628,
          52.353346,
          52.366972,
          52.365536,
          52.359856,
          52.365365,
          52.368955,
          52.373106,
          52.367607,
          52.356702,
          52.361813,
          52.347545,
          52.380133,
          52.379296,
          52.372454,
          52.378747,
          52.362028,
          52.36954,
          52.374854,
          52.360049,
          52.353775,
          52.349996,
          52.359283,
          52.379951,
          52.383918,
          52.362176,
          52.363256
         ],
         "legendgroup": "West",
         "lon": [
          4.850476,
          4.875024,
          4.871555,
          4.854671,
          4.851985,
          4.85452,
          4.862875,
          4.875471,
          4.865792,
          4.85856,
          4.854277,
          4.874257,
          4.847389,
          4.851777,
          4.86106,
          4.85633,
          4.859628,
          4.848563,
          4.850643,
          4.87065,
          4.853803,
          4.860857,
          4.880046,
          4.868057,
          4.848779,
          4.871178,
          4.862201,
          4.867549,
          4.848941,
          4.875248,
          4.865612,
          4.868786,
          4.85167,
          4.84399,
          4.870523,
          4.862992,
          4.873624,
          4.846858,
          4.874462,
          4.84313,
          4.862224,
          4.857567,
          4.858163,
          4.854662,
          4.861607,
          4.873726,
          4.943696,
          4.880571,
          4.873591,
          4.858004,
          4.860857,
          4.852468,
          4.859626,
          4.868596,
          4.853623,
          4.872275,
          4.874335,
          4.866454,
          4.872222,
          4.849307,
          4.85225,
          4.867459,
          4.872989,
          4.8479,
          4.860817,
          4.846172,
          4.872597,
          4.875949,
          4.852493,
          4.871342,
          4.849011,
          4.850735,
          4.85128,
          4.869487,
          4.858697,
          4.868498,
          4.851989,
          4.854361,
          4.851176,
          4.867456,
          4.854243,
          4.848229,
          4.860517,
          4.873501,
          4.847484,
          4.860112,
          4.863344,
          4.873179,
          4.865067,
          4.870127,
          4.846047,
          4.853953,
          4.870505,
          4.855145,
          4.852015,
          4.874092,
          4.872665,
          4.857291,
          4.861328,
          4.87487,
          4.852231,
          4.858639,
          4.846204,
          4.863282,
          4.874332,
          4.851991,
          4.855635,
          4.849943,
          4.850695,
          4.849224,
          4.852084,
          4.878057,
          4.870659,
          4.870167,
          4.859637,
          4.854288,
          4.655161,
          4.853523,
          4.845779,
          4.873501,
          4.869096,
          4.856593,
          4.85255,
          4.866447,
          4.847496,
          4.855072,
          4.852373,
          4.855835,
          4.852076,
          4.852248,
          4.865952,
          4.876322,
          4.863132,
          4.850607,
          4.844731,
          4.869195,
          4.865609,
          4.853451,
          4.863781,
          4.849341,
          4.857873,
          4.875312,
          4.868023,
          4.860922,
          4.856817,
          4.84351,
          4.871359,
          4.864588,
          4.86116,
          4.859791,
          4.860239,
          4.860847,
          4.86547,
          4.849656,
          4.876183,
          4.866392,
          4.860337,
          4.852329,
          4.853093,
          4.858844,
          4.853124,
          4.846606,
          4.85983,
          4.846923,
          4.852415,
          4.846389,
          4.87195,
          4.852168,
          4.876006,
          4.863394,
          4.874125,
          4.843132,
          4.846708,
          4.844918,
          4.850743,
          4.8722593,
          4.873124,
          4.862992,
          4.856935
         ],
         "marker": {
          "color": "#EF553B"
         },
         "mode": "markers",
         "name": "West",
         "showlegend": true,
         "subplot": "mapbox",
         "type": "scattermapbox"
        },
        {
         "customdata": [
          [
           3
          ],
          [
           17
          ],
          [
           22
          ],
          [
           28
          ],
          [
           48
          ],
          [
           50
          ],
          [
           51
          ],
          [
           74
          ],
          [
           90
          ],
          [
           98
          ],
          [
           101
          ],
          [
           111
          ],
          [
           112
          ],
          [
           119
          ],
          [
           134
          ],
          [
           139
          ],
          [
           140
          ],
          [
           149
          ],
          [
           151
          ],
          [
           152
          ],
          [
           159
          ],
          [
           167
          ],
          [
           168
          ],
          [
           169
          ],
          [
           170
          ],
          [
           185
          ],
          [
           187
          ],
          [
           189
          ],
          [
           197
          ],
          [
           199
          ],
          [
           208
          ],
          [
           209
          ],
          [
           214
          ],
          [
           215
          ],
          [
           240
          ],
          [
           245
          ],
          [
           247
          ],
          [
           248
          ],
          [
           251
          ],
          [
           271
          ],
          [
           273
          ],
          [
           277
          ],
          [
           290
          ],
          [
           310
          ],
          [
           313
          ],
          [
           322
          ],
          [
           326
          ],
          [
           328
          ],
          [
           329
          ],
          [
           348
          ],
          [
           353
          ],
          [
           354
          ],
          [
           359
          ],
          [
           373
          ],
          [
           378
          ],
          [
           389
          ],
          [
           402
          ],
          [
           407
          ],
          [
           440
          ],
          [
           447
          ],
          [
           450
          ],
          [
           453
          ],
          [
           456
          ],
          [
           457
          ],
          [
           477
          ],
          [
           495
          ],
          [
           496
          ],
          [
           498
          ],
          [
           501
          ],
          [
           502
          ],
          [
           505
          ],
          [
           512
          ],
          [
           515
          ],
          [
           517
          ],
          [
           534
          ],
          [
           535
          ],
          [
           548
          ],
          [
           553
          ],
          [
           555
          ],
          [
           561
          ],
          [
           564
          ],
          [
           572
          ],
          [
           573
          ],
          [
           574
          ],
          [
           583
          ],
          [
           593
          ],
          [
           596
          ],
          [
           598
          ],
          [
           600
          ],
          [
           601
          ],
          [
           609
          ],
          [
           611
          ],
          [
           622
          ],
          [
           624
          ],
          [
           635
          ],
          [
           638
          ],
          [
           639
          ],
          [
           653
          ],
          [
           654
          ],
          [
           662
          ],
          [
           668
          ],
          [
           669
          ],
          [
           671
          ],
          [
           672
          ],
          [
           682
          ],
          [
           698
          ],
          [
           700
          ],
          [
           710
          ],
          [
           719
          ],
          [
           723
          ],
          [
           730
          ],
          [
           735
          ],
          [
           737
          ],
          [
           745
          ],
          [
           756
          ],
          [
           757
          ],
          [
           768
          ],
          [
           771
          ],
          [
           772
          ],
          [
           774
          ],
          [
           777
          ],
          [
           779
          ],
          [
           788
          ],
          [
           797
          ],
          [
           801
          ],
          [
           802
          ],
          [
           806
          ],
          [
           807
          ],
          [
           809
          ],
          [
           811
          ],
          [
           812
          ],
          [
           822
          ],
          [
           825
          ],
          [
           830
          ],
          [
           836
          ],
          [
           838
          ],
          [
           855
          ],
          [
           858
          ],
          [
           865
          ],
          [
           867
          ],
          [
           868
          ],
          [
           875
          ],
          [
           883
          ],
          [
           888
          ],
          [
           889
          ],
          [
           894
          ],
          [
           905
          ],
          [
           911
          ],
          [
           912
          ],
          [
           913
          ],
          [
           915
          ],
          [
           923
          ]
         ],
         "hovertemplate": "Borough=Nieuw West<br>Lat=%{lat}<br>Lon=%{lon}<br>Index=%{customdata[0]}<extra></extra>",
         "lat": [
          52.343712,
          52.372068,
          52.362011,
          52.358631,
          52.364372,
          52.363887,
          52.356914,
          52.379133,
          52.364821,
          52.379837,
          52.353658,
          52.362969,
          52.35007,
          52.355404,
          52.35337,
          52.383684,
          52.346011,
          52.380775,
          52.35227,
          52.359451,
          52.378363,
          52.349265,
          52.356709,
          52.362692,
          52.363646,
          52.379072,
          52.378,
          52.334488,
          52.352124,
          52.366451,
          52.344183,
          52.345566,
          52.357443,
          52.378625,
          52.35459,
          52.343737,
          52.344914,
          52.344914,
          52.379219,
          52.348087,
          52.343623,
          52.343893,
          52.3496214,
          52.354406,
          52.361323,
          52.380679,
          52.345051,
          52.349215,
          52.338652,
          52.350007,
          52.353376,
          52.37701,
          52.349876,
          52.348468,
          52.383676,
          52.376658,
          52.361641,
          52.357393,
          52.384105,
          52.364911,
          52.372996,
          52.383526,
          52.36373,
          52.345886,
          52.363717,
          52.362205,
          52.38178,
          52.353861,
          52.380052,
          52.354418,
          52.371338,
          52.382253,
          52.383556,
          52.378644,
          52.355143,
          52.342435,
          52.348505,
          52.377317,
          52.37431,
          52.375474,
          52.363691,
          52.364806,
          52.363904,
          52.359424,
          52.382249,
          52.363274,
          52.363328,
          52.344454,
          52.355143,
          52.382381,
          52.372067,
          52.38318,
          52.367757,
          52.350225,
          52.346094,
          52.372955,
          52.378753,
          52.355712,
          52.353554,
          52.37746,
          52.344264,
          52.361653,
          52.354762,
          52.349954,
          52.372067,
          52.354008,
          52.350226,
          52.359244,
          52.381911,
          52.350596,
          52.348859,
          52.362788,
          52.37491,
          52.357419,
          52.354616,
          52.347341,
          52.381864,
          52.373012,
          52.350604,
          52.374337,
          52.378567,
          52.351033,
          52.350823,
          52.376916,
          52.348999,
          52.383847,
          52.364802,
          52.373918,
          52.356512,
          52.365104,
          52.347806,
          52.368144,
          52.378255,
          52.352238,
          52.348895,
          52.372964,
          52.357437,
          52.380829,
          52.352919,
          52.353976,
          52.361977,
          52.373345,
          52.38063,
          52.354375,
          52.379007,
          52.378934,
          52.357145,
          52.356342,
          52.380639,
          52.343878,
          52.379072,
          52.355493
         ],
         "legendgroup": "Nieuw West",
         "lon": [
          4.789928,
          4.829644,
          4.837666,
          4.820848,
          4.83186,
          4.837764,
          4.815101,
          4.800745,
          4.837522,
          4.819711,
          4.835487,
          4.798199,
          4.841525,
          4.789682,
          4.7717,
          4.81787,
          4.802122,
          4.789341,
          4.824867,
          4.80651,
          4.834901,
          4.778978,
          4.826759,
          4.807068,
          4.807703,
          4.83852,
          4.809689,
          4.799931,
          4.798695,
          4.835845,
          4.788762,
          4.790343,
          4.807977,
          4.803337,
          4.790457,
          4.802093,
          4.807805,
          4.807805,
          4.789083,
          4.786024,
          4.797164,
          4.826718,
          4.7836987,
          4.832087,
          4.825673,
          4.80256,
          4.817309,
          4.776234,
          4.794478,
          4.795934,
          4.827036,
          4.839165,
          4.788052,
          4.795401,
          4.812509,
          4.837463,
          4.809676,
          4.80824,
          4.832758,
          4.806801,
          4.832681,
          4.830151,
          4.829034,
          4.784425,
          4.830106,
          4.806863,
          4.818173,
          4.81015,
          4.800286,
          4.827023,
          4.831964,
          4.819431,
          4.837695,
          4.798255,
          4.803983,
          4.802374,
          4.795583,
          4.838028,
          4.799561,
          4.795007,
          4.830209,
          4.803386,
          4.840015,
          4.806525,
          4.814789,
          4.808883,
          4.829524,
          4.80722,
          4.803968,
          4.802688,
          4.829607,
          4.7958,
          4.832889,
          4.783188,
          4.784642,
          4.829629,
          4.84314,
          4.811771,
          4.811827,
          4.837996,
          4.801543,
          4.807168,
          4.792451,
          4.773171,
          4.829591,
          4.810853,
          4.837658,
          4.787319,
          4.790104,
          4.777448,
          4.78754,
          4.836971,
          4.838629,
          4.808181,
          4.78504,
          4.785975,
          4.793277,
          4.832383,
          4.802149,
          4.795948,
          4.802618,
          4.776722,
          4.774348,
          4.79581,
          4.812092,
          4.823859,
          4.804152,
          4.820624,
          4.79733,
          4.83075,
          4.794378,
          4.831079,
          4.834844,
          4.796462,
          4.787554,
          4.829637,
          4.807981,
          4.802015,
          4.806801,
          4.797085,
          4.808183,
          4.832782,
          4.823887,
          4.797681,
          4.802582,
          4.841738,
          4.788481,
          4.790574,
          4.82399,
          4.819965,
          4.838534,
          4.810678
         ],
         "marker": {
          "color": "#00cc96"
         },
         "mode": "markers",
         "name": "Nieuw West",
         "showlegend": true,
         "subplot": "mapbox",
         "type": "scattermapbox"
        },
        {
         "customdata": [
          [
           4
          ],
          [
           6
          ],
          [
           15
          ],
          [
           24
          ],
          [
           25
          ],
          [
           49
          ],
          [
           54
          ],
          [
           56
          ],
          [
           60
          ],
          [
           65
          ],
          [
           71
          ],
          [
           75
          ],
          [
           114
          ],
          [
           120
          ],
          [
           130
          ],
          [
           153
          ],
          [
           156
          ],
          [
           163
          ],
          [
           166
          ],
          [
           180
          ],
          [
           181
          ],
          [
           186
          ],
          [
           223
          ],
          [
           243
          ],
          [
           255
          ],
          [
           257
          ],
          [
           267
          ],
          [
           286
          ],
          [
           293
          ],
          [
           301
          ],
          [
           306
          ],
          [
           307
          ],
          [
           308
          ],
          [
           314
          ],
          [
           320
          ],
          [
           330
          ],
          [
           374
          ],
          [
           377
          ],
          [
           380
          ],
          [
           385
          ],
          [
           408
          ],
          [
           420
          ],
          [
           421
          ],
          [
           423
          ],
          [
           426
          ],
          [
           429
          ],
          [
           438
          ],
          [
           445
          ],
          [
           458
          ],
          [
           465
          ],
          [
           470
          ],
          [
           476
          ],
          [
           480
          ],
          [
           482
          ],
          [
           483
          ],
          [
           491
          ],
          [
           492
          ],
          [
           510
          ],
          [
           528
          ],
          [
           546
          ],
          [
           559
          ],
          [
           566
          ],
          [
           567
          ],
          [
           599
          ],
          [
           603
          ],
          [
           608
          ],
          [
           614
          ],
          [
           617
          ],
          [
           623
          ],
          [
           625
          ],
          [
           641
          ],
          [
           648
          ],
          [
           655
          ],
          [
           656
          ],
          [
           661
          ],
          [
           670
          ],
          [
           692
          ],
          [
           699
          ],
          [
           706
          ],
          [
           717
          ],
          [
           736
          ],
          [
           743
          ],
          [
           744
          ],
          [
           764
          ],
          [
           765
          ],
          [
           767
          ],
          [
           769
          ],
          [
           782
          ],
          [
           786
          ],
          [
           790
          ],
          [
           810
          ],
          [
           815
          ],
          [
           818
          ],
          [
           824
          ],
          [
           828
          ],
          [
           842
          ],
          [
           846
          ],
          [
           852
          ],
          [
           859
          ],
          [
           860
          ],
          [
           886
          ],
          [
           892
          ],
          [
           906
          ],
          [
           914
          ],
          [
           920
          ]
         ],
         "hovertemplate": "Borough=Noord<br>Lat=%{lat}<br>Lon=%{lon}<br>Index=%{customdata[0]}<extra></extra>",
         "lat": [
          52.410538,
          52.410585,
          52.408311,
          52.408269,
          52.423543,
          52.392858,
          52.406915,
          52.42145,
          52.393956,
          52.395846,
          52.412066,
          52.394478,
          52.386198,
          52.399252,
          52.395417,
          52.3958,
          52.389087,
          52.413734,
          52.396536,
          52.419532,
          52.409986,
          52.393821,
          52.388122,
          52.410672,
          52.400948,
          52.41355,
          52.420465,
          52.41986,
          52.400905,
          52.385321,
          52.409584,
          52.409584,
          52.412038,
          52.418864,
          52.410672,
          52.381514,
          52.393227,
          52.419916,
          52.406722,
          52.386904,
          52.395677,
          52.394567,
          52.410584,
          52.407695,
          52.388684,
          52.383109,
          52.413849,
          52.394352,
          52.401616,
          52.382138,
          52.392914,
          52.399212,
          52.394145,
          52.394073,
          52.391546,
          52.386865,
          52.403808,
          52.386342,
          52.403049,
          52.399557,
          52.396263,
          52.402266,
          52.417569,
          52.405783,
          52.393215,
          52.402968,
          52.423805,
          52.407476,
          52.387403,
          52.400571,
          52.408945,
          52.405579,
          52.393622,
          52.40313,
          52.401519,
          52.398984,
          52.393449,
          52.397321,
          52.406292,
          52.39832,
          52.409314,
          52.394487,
          52.392365,
          52.40997,
          52.393266,
          52.385525,
          52.38257,
          52.401727,
          52.400138,
          52.409609,
          52.397672,
          52.417382,
          52.405451,
          52.39437,
          52.419502,
          52.403385,
          52.41492,
          52.423619,
          52.399475,
          52.394724,
          52.40928,
          52.396527,
          52.388128,
          52.38816,
          52.414587
         ],
         "legendgroup": "Noord",
         "lon": [
          4.902503,
          4.896536,
          4.900926,
          4.921574,
          4.88516,
          4.948371,
          4.91913,
          4.891858,
          4.951093,
          4.959199,
          4.885364,
          4.936896,
          4.917899,
          4.95037,
          4.947655,
          4.959052,
          4.961381,
          4.88439,
          4.93924,
          4.893261,
          4.964853,
          4.950977,
          4.920126,
          4.967897,
          4.90048,
          5.029122,
          4.89278,
          4.881542,
          4.937065,
          4.905695,
          4.960756,
          4.960756,
          4.97083,
          4.898884,
          4.967897,
          4.965813,
          4.954434,
          4.901357,
          4.910084,
          4.900901,
          4.917034,
          4.936689,
          4.922975,
          4.933513,
          4.907913,
          4.916345,
          4.892619,
          4.946534,
          4.909786,
          4.916194,
          4.913949,
          4.913147,
          4.951253,
          4.95118,
          4.93174,
          4.948739,
          4.920989,
          4.920012,
          4.945566,
          4.951827,
          4.950277,
          4.947646,
          4.883861,
          4.917985,
          4.954462,
          4.945552,
          4.891949,
          4.903976,
          4.918062,
          4.952138,
          4.900779,
          4.918343,
          4.945778,
          4.899777,
          4.892182,
          4.930826,
          4.91506,
          4.937616,
          4.901879,
          4.950198,
          4.92221,
          4.936866,
          4.99474,
          4.915413,
          4.942035,
          4.918067,
          4.961457,
          4.891511,
          4.948314,
          4.921825,
          4.928532,
          4.897048,
          4.909069,
          4.94649,
          4.898877,
          4.918363,
          4.890785,
          4.892525,
          4.904136,
          4.954641,
          4.898299,
          4.93924,
          4.914882,
          4.91369,
          4.890612
         ],
         "marker": {
          "color": "#ab63fa"
         },
         "mode": "markers",
         "name": "Noord",
         "showlegend": true,
         "subplot": "mapbox",
         "type": "scattermapbox"
        },
        {
         "customdata": [
          [
           9
          ],
          [
           21
          ],
          [
           26
          ],
          [
           29
          ],
          [
           30
          ],
          [
           32
          ],
          [
           35
          ],
          [
           36
          ],
          [
           55
          ],
          [
           63
          ],
          [
           76
          ],
          [
           93
          ],
          [
           95
          ],
          [
           96
          ],
          [
           109
          ],
          [
           136
          ],
          [
           142
          ],
          [
           144
          ],
          [
           148
          ],
          [
           158
          ],
          [
           172
          ],
          [
           177
          ],
          [
           178
          ],
          [
           182
          ],
          [
           193
          ],
          [
           194
          ],
          [
           201
          ],
          [
           213
          ],
          [
           227
          ],
          [
           228
          ],
          [
           241
          ],
          [
           242
          ],
          [
           244
          ],
          [
           253
          ],
          [
           262
          ],
          [
           263
          ],
          [
           264
          ],
          [
           276
          ],
          [
           279
          ],
          [
           283
          ],
          [
           289
          ],
          [
           291
          ],
          [
           292
          ],
          [
           295
          ],
          [
           296
          ],
          [
           303
          ],
          [
           309
          ],
          [
           337
          ],
          [
           341
          ],
          [
           343
          ],
          [
           355
          ],
          [
           369
          ],
          [
           382
          ],
          [
           384
          ],
          [
           387
          ],
          [
           388
          ],
          [
           393
          ],
          [
           394
          ],
          [
           395
          ],
          [
           404
          ],
          [
           425
          ],
          [
           441
          ],
          [
           443
          ],
          [
           467
          ],
          [
           472
          ],
          [
           473
          ],
          [
           478
          ],
          [
           481
          ],
          [
           499
          ],
          [
           519
          ],
          [
           524
          ],
          [
           538
          ],
          [
           562
          ],
          [
           570
          ],
          [
           571
          ],
          [
           577
          ],
          [
           588
          ],
          [
           604
          ],
          [
           630
          ],
          [
           631
          ],
          [
           642
          ],
          [
           645
          ],
          [
           646
          ],
          [
           649
          ],
          [
           650
          ],
          [
           652
          ],
          [
           666
          ],
          [
           667
          ],
          [
           678
          ],
          [
           681
          ],
          [
           685
          ],
          [
           688
          ],
          [
           705
          ],
          [
           713
          ],
          [
           714
          ],
          [
           720
          ],
          [
           746
          ],
          [
           749
          ],
          [
           752
          ],
          [
           755
          ],
          [
           759
          ],
          [
           770
          ],
          [
           773
          ],
          [
           785
          ],
          [
           787
          ],
          [
           792
          ],
          [
           793
          ],
          [
           794
          ],
          [
           808
          ],
          [
           823
          ],
          [
           826
          ],
          [
           827
          ],
          [
           834
          ],
          [
           837
          ],
          [
           844
          ],
          [
           857
          ],
          [
           863
          ],
          [
           872
          ],
          [
           876
          ],
          [
           878
          ],
          [
           881
          ],
          [
           901
          ],
          [
           910
          ]
         ],
         "hovertemplate": "Borough=Zuid<br>Lat=%{lat}<br>Lon=%{lon}<br>Index=%{customdata[0]}<extra></extra>",
         "lat": [
          52.353111,
          52.351082,
          52.332103,
          52.351732,
          52.346366,
          52.344643,
          52.330963,
          52.352717,
          52.352448,
          52.347518,
          52.349498,
          52.352385,
          52.343986,
          52.343328,
          52.347296,
          52.347368,
          52.349164,
          52.348587,
          52.324797,
          52.324201,
          52.336348,
          52.325762,
          52.341846,
          52.323885,
          52.348806,
          52.35602,
          52.360824,
          52.354535,
          52.33033,
          52.347398,
          52.347348,
          52.35602,
          52.343402,
          52.353256,
          52.355065,
          52.35502,
          52.349528,
          52.352366,
          52.349904,
          52.361226,
          52.358928,
          52.335851,
          52.359763,
          52.355179,
          52.347409,
          52.349279,
          52.347558,
          52.327841,
          52.346145,
          52.353645,
          52.331919,
          52.352502,
          52.354123,
          52.346664,
          52.347318,
          52.358348,
          52.351789,
          52.3492,
          52.331729,
          52.354197,
          52.353704,
          52.347368,
          52.354123,
          52.325783,
          52.353937,
          52.344263,
          52.347517,
          52.345315,
          52.355844,
          52.347656,
          52.355854,
          52.324179,
          52.345822,
          52.35683,
          52.351528,
          52.345979,
          52.325097,
          52.355153,
          52.33822,
          52.33822,
          52.343221,
          52.355807,
          52.349678,
          52.342112,
          52.328459,
          52.35753,
          52.353303,
          52.34615,
          52.334686,
          52.341296,
          52.353408,
          52.330956,
          52.347889,
          52.34221,
          52.357323,
          52.332238,
          52.35165,
          52.352451,
          52.342664,
          52.348636,
          52.342458,
          52.327585,
          52.332273,
          52.356414,
          52.347686,
          52.347558,
          52.347558,
          52.343016,
          52.346978,
          52.352385,
          52.352385,
          52.352385,
          52.351449,
          52.354874,
          52.352776,
          52.322384,
          52.345104,
          52.341373,
          52.347835,
          52.354369,
          52.351656,
          52.353584,
          52.351894
         ],
         "legendgroup": "Zuid",
         "lon": [
          4.897142,
          4.891161,
          4.887858,
          4.889539,
          4.900342,
          4.86109,
          4.883566,
          4.899509,
          4.855875,
          4.889851,
          4.888332,
          4.855832,
          4.864958,
          4.868693,
          4.910224,
          4.875881,
          4.873365,
          4.889927,
          4.885793,
          4.870427,
          4.872151,
          4.857216,
          4.868754,
          4.886918,
          4.867645,
          4.885645,
          4.88242,
          4.882903,
          4.872336,
          4.862129,
          4.875455,
          4.885645,
          4.858845,
          4.865847,
          4.887183,
          4.887183,
          4.862413,
          4.857608,
          4.869966,
          4.881814,
          4.876144,
          4.872859,
          4.876117,
          4.89935,
          4.891921,
          4.902864,
          4.876231,
          4.859128,
          4.861234,
          4.906809,
          4.886519,
          4.884848,
          4.904866,
          4.875155,
          4.87459,
          4.902853,
          4.888159,
          4.888188,
          4.87989,
          4.892242,
          4.90355,
          4.875925,
          4.904866,
          4.878726,
          4.898909,
          4.877222,
          4.889777,
          4.862373,
          4.90153,
          4.899374,
          4.899724,
          4.859323,
          4.869544,
          4.887941,
          4.894517,
          4.88956,
          4.878162,
          4.901743,
          4.894206,
          4.894206,
          4.913659,
          4.901398,
          4.890751,
          4.911378,
          4.865786,
          4.902906,
          4.878689,
          4.909223,
          4.877949,
          4.906854,
          4.865595,
          4.882011,
          4.901411,
          4.910454,
          4.889858,
          4.870861,
          4.904467,
          4.860601,
          4.902863,
          4.869761,
          4.877208,
          4.883913,
          4.874705,
          4.872591,
          4.860276,
          4.876154,
          4.876154,
          4.894509,
          4.874975,
          4.855832,
          4.855832,
          4.855832,
          4.890731,
          4.863729,
          4.860818,
          4.861985,
          4.867865,
          4.907895,
          4.86139,
          4.90341,
          4.888718,
          4.856566,
          4.860637
         ],
         "marker": {
          "color": "#FFA15A"
         },
         "mode": "markers",
         "name": "Zuid",
         "showlegend": true,
         "subplot": "mapbox",
         "type": "scattermapbox"
        },
        {
         "customdata": [
          [
           11
          ],
          [
           13
          ],
          [
           19
          ],
          [
           20
          ],
          [
           31
          ],
          [
           38
          ],
          [
           39
          ],
          [
           43
          ],
          [
           52
          ],
          [
           53
          ],
          [
           57
          ],
          [
           81
          ],
          [
           82
          ],
          [
           83
          ],
          [
           84
          ],
          [
           87
          ],
          [
           88
          ],
          [
           92
          ],
          [
           94
          ],
          [
           102
          ],
          [
           103
          ],
          [
           107
          ],
          [
           108
          ],
          [
           115
          ],
          [
           118
          ],
          [
           121
          ],
          [
           123
          ],
          [
           126
          ],
          [
           127
          ],
          [
           129
          ],
          [
           133
          ],
          [
           137
          ],
          [
           143
          ],
          [
           150
          ],
          [
           157
          ],
          [
           160
          ],
          [
           161
          ],
          [
           162
          ],
          [
           173
          ],
          [
           174
          ],
          [
           179
          ],
          [
           184
          ],
          [
           195
          ],
          [
           198
          ],
          [
           200
          ],
          [
           202
          ],
          [
           203
          ],
          [
           205
          ],
          [
           206
          ],
          [
           207
          ],
          [
           212
          ],
          [
           218
          ],
          [
           219
          ],
          [
           220
          ],
          [
           221
          ],
          [
           224
          ],
          [
           225
          ],
          [
           226
          ],
          [
           230
          ],
          [
           231
          ],
          [
           234
          ],
          [
           235
          ],
          [
           237
          ],
          [
           238
          ],
          [
           246
          ],
          [
           249
          ],
          [
           254
          ],
          [
           259
          ],
          [
           260
          ],
          [
           261
          ],
          [
           266
          ],
          [
           272
          ],
          [
           274
          ],
          [
           280
          ],
          [
           281
          ],
          [
           282
          ],
          [
           284
          ],
          [
           285
          ],
          [
           287
          ],
          [
           288
          ],
          [
           294
          ],
          [
           298
          ],
          [
           299
          ],
          [
           300
          ],
          [
           304
          ],
          [
           305
          ],
          [
           311
          ],
          [
           312
          ],
          [
           315
          ],
          [
           316
          ],
          [
           317
          ],
          [
           318
          ],
          [
           319
          ],
          [
           324
          ],
          [
           325
          ],
          [
           334
          ],
          [
           336
          ],
          [
           338
          ],
          [
           342
          ],
          [
           345
          ],
          [
           346
          ],
          [
           347
          ],
          [
           349
          ],
          [
           358
          ],
          [
           361
          ],
          [
           362
          ],
          [
           390
          ],
          [
           409
          ],
          [
           410
          ],
          [
           411
          ],
          [
           414
          ],
          [
           415
          ],
          [
           417
          ],
          [
           418
          ],
          [
           428
          ],
          [
           432
          ],
          [
           433
          ],
          [
           437
          ],
          [
           439
          ],
          [
           460
          ],
          [
           461
          ],
          [
           489
          ],
          [
           490
          ],
          [
           500
          ],
          [
           516
          ],
          [
           526
          ],
          [
           531
          ],
          [
           533
          ],
          [
           537
          ],
          [
           542
          ],
          [
           549
          ],
          [
           580
          ],
          [
           594
          ],
          [
           605
          ],
          [
           606
          ],
          [
           613
          ],
          [
           616
          ],
          [
           618
          ],
          [
           629
          ],
          [
           632
          ],
          [
           644
          ],
          [
           651
          ],
          [
           660
          ],
          [
           663
          ],
          [
           674
          ],
          [
           689
          ],
          [
           691
          ],
          [
           702
          ],
          [
           703
          ],
          [
           729
          ],
          [
           738
          ],
          [
           740
          ],
          [
           742
          ],
          [
           775
          ],
          [
           776
          ],
          [
           780
          ],
          [
           789
          ],
          [
           804
          ],
          [
           813
          ],
          [
           817
          ],
          [
           835
          ],
          [
           840
          ],
          [
           841
          ],
          [
           849
          ],
          [
           850
          ],
          [
           851
          ],
          [
           854
          ],
          [
           861
          ],
          [
           870
          ],
          [
           871
          ],
          [
           877
          ],
          [
           879
          ],
          [
           882
          ],
          [
           884
          ],
          [
           885
          ],
          [
           890
          ],
          [
           891
          ],
          [
           895
          ],
          [
           898
          ],
          [
           902
          ],
          [
           907
          ],
          [
           916
          ],
          [
           917
          ]
         ],
         "hovertemplate": "Borough=Centrum<br>Lat=%{lat}<br>Lon=%{lon}<br>Index=%{customdata[0]}<extra></extra>",
         "lat": [
          52.377442,
          52.366928,
          52.392426,
          52.374742,
          52.385346,
          52.368922,
          52.373016,
          52.363609,
          52.388468,
          52.363383,
          52.367261,
          52.360545,
          52.390376,
          52.382746,
          52.368555,
          52.369202,
          52.366984,
          52.372127,
          52.390874,
          52.377377,
          52.358798,
          52.363158,
          52.365273,
          52.373509,
          52.371484,
          52.369014,
          52.373257,
          52.394832,
          52.374978,
          52.369475,
          52.377742,
          52.373122,
          52.374321,
          52.368556,
          52.360937,
          52.37844,
          52.366621,
          52.362949,
          52.377871,
          52.370706,
          52.373106,
          52.358943,
          52.365078,
          52.367182,
          52.379546,
          52.38514,
          52.378843,
          52.365003,
          52.365524,
          52.375059,
          52.37806,
          52.366395,
          52.363042,
          52.375994,
          52.367418,
          52.379828,
          52.371272,
          52.367946,
          52.376041,
          52.375756,
          52.382635,
          52.371683,
          52.372907,
          52.376281,
          52.380642,
          52.376105,
          52.366729,
          52.367449,
          52.375342,
          52.364132,
          52.374705,
          52.374085,
          52.3686532505277,
          52.366965,
          52.368029,
          52.376191,
          52.374421,
          52.381092,
          52.358943,
          52.373727,
          52.363883,
          52.369804,
          52.393577,
          52.375387,
          52.373343,
          52.371039,
          52.370289,
          52.370289,
          52.364626,
          52.368746,
          52.365084,
          52.361947,
          52.361929,
          52.379524,
          52.375551,
          52.375532,
          52.363292,
          52.384794,
          52.373119,
          52.394101,
          52.394178,
          52.370666,
          52.37278,
          52.382434,
          52.393955,
          52.376658,
          52.389872,
          52.388788,
          52.373751,
          52.376576,
          52.370995,
          52.388529,
          52.369015,
          52.377174,
          52.369659,
          52.371498,
          52.389025,
          52.388005,
          52.366234,
          52.365333,
          52.361956,
          52.367652,
          52.379633,
          52.368343,
          52.384121,
          52.377347,
          52.384356,
          52.384121,
          52.380215,
          52.368943,
          52.364761,
          52.363363,
          52.373492,
          52.376909,
          52.371793,
          52.358917,
          52.361331,
          52.371197,
          52.374739,
          52.369038,
          52.364353,
          52.371077,
          52.377422,
          52.369689,
          52.363042,
          52.373127,
          52.380687,
          52.359176,
          52.361947,
          52.373395,
          52.377783,
          52.392217,
          52.366858,
          52.372907,
          52.372907,
          52.376702,
          52.3679823,
          52.378055,
          52.373268,
          52.363763,
          52.370557,
          52.37338,
          52.376848,
          52.360892,
          52.361418,
          52.368503,
          52.371373,
          52.393538,
          52.376065,
          52.373868,
          52.37572,
          52.377871,
          52.370303,
          52.3679823,
          52.376819,
          52.379863,
          52.368027,
          52.395229,
          52.381025,
          52.370823,
          52.37536,
          52.368961,
          52.374848
         ],
         "legendgroup": "Centrum",
         "lon": [
          4.942972,
          4.897782,
          4.872555,
          4.88583,
          4.887444,
          4.921855,
          4.93704,
          4.907585,
          4.877698,
          4.892374,
          4.89952,
          4.901713,
          4.876149,
          4.882743,
          4.924634,
          4.884982,
          4.920481,
          4.896579,
          4.879081,
          4.886006,
          4.89862,
          4.885902,
          4.882472,
          4.898311,
          4.936101,
          4.931839,
          4.946186,
          4.877406,
          4.90487,
          4.909207,
          4.887412,
          4.924895,
          4.888199,
          4.878779,
          4.896542,
          4.893043,
          4.89965,
          4.904917,
          4.879612,
          4.88987,
          4.89429,
          4.897473,
          4.887378,
          4.891701,
          4.886034,
          4.891955,
          4.891161,
          4.8887,
          4.90885,
          4.90132,
          4.644819,
          4.882122,
          4.886109,
          4.888459,
          4.917931,
          4.893924,
          4.906839,
          4.887596,
          4.877725,
          4.883278,
          4.88447,
          4.890089,
          4.907085,
          4.907627,
          4.890977,
          4.887092,
          4.897432,
          4.892522,
          4.890591,
          4.915246,
          4.903526,
          4.906059,
          4.90981909560303,
          4.896842,
          4.888094,
          4.943456,
          4.879978,
          4.887619,
          4.897473,
          4.905372,
          4.902826,
          4.905853,
          4.886388,
          4.893709,
          4.897256,
          4.887869,
          4.910725,
          4.910725,
          4.884579,
          4.881097,
          4.895233,
          4.895121,
          4.895224,
          4.923315,
          4.877436,
          4.889816,
          4.918831,
          4.892914,
          4.878139,
          4.878356,
          4.878463,
          4.913448,
          4.880816,
          4.881073,
          4.881116,
          4.877315,
          4.891367,
          4.887419,
          4.895989,
          4.881551,
          4.937516,
          4.8814,
          4.927419,
          4.948159,
          4.880279,
          4.890125,
          4.881952,
          4.880745,
          4.921707,
          4.907725,
          4.895062,
          4.884002,
          4.881809,
          4.944414,
          4.884769,
          4.941549,
          4.892282,
          4.884769,
          4.881348,
          4.915967,
          4.908421,
          4.894107,
          4.883377,
          4.947119,
          4.922868,
          4.894964,
          4.889549,
          4.930426,
          4.933939,
          4.931075,
          4.921169,
          4.934082,
          4.947231,
          4.883097,
          4.886109,
          4.942751,
          4.886718,
          4.896605,
          4.89518,
          4.921147,
          4.930926,
          4.87252,
          4.92035,
          4.907085,
          4.907085,
          4.892211,
          4.95437552819149,
          4.884941,
          4.879459,
          4.895174,
          4.884292,
          4.935891,
          4.890594,
          4.896425,
          4.910051,
          4.902566,
          4.908391,
          4.881701,
          4.899032,
          4.938017,
          4.902531,
          4.930455,
          4.898846,
          4.95437552819149,
          4.942112,
          4.893865,
          4.887462,
          4.878134,
          4.888065,
          4.879252,
          4.902359,
          4.880977,
          4.902614
         ],
         "marker": {
          "color": "#19d3f3"
         },
         "mode": "markers",
         "name": "Centrum",
         "showlegend": true,
         "subplot": "mapbox",
         "type": "scattermapbox"
        },
        {
         "customdata": [
          [
           18
          ],
          [
           42
          ],
          [
           47
          ],
          [
           70
          ],
          [
           77
          ],
          [
           104
          ],
          [
           113
          ],
          [
           116
          ],
          [
           122
          ],
          [
           141
          ],
          [
           147
          ],
          [
           164
          ],
          [
           175
          ],
          [
           196
          ],
          [
           268
          ],
          [
           275
          ],
          [
           297
          ],
          [
           323
          ],
          [
           332
          ],
          [
           333
          ],
          [
           335
          ],
          [
           350
          ],
          [
           356
          ],
          [
           360
          ],
          [
           364
          ],
          [
           375
          ],
          [
           383
          ],
          [
           392
          ],
          [
           400
          ],
          [
           403
          ],
          [
           406
          ],
          [
           412
          ],
          [
           416
          ],
          [
           419
          ],
          [
           422
          ],
          [
           427
          ],
          [
           448
          ],
          [
           452
          ],
          [
           454
          ],
          [
           459
          ],
          [
           462
          ],
          [
           463
          ],
          [
           468
          ],
          [
           469
          ],
          [
           493
          ],
          [
           503
          ],
          [
           507
          ],
          [
           523
          ],
          [
           527
          ],
          [
           530
          ],
          [
           539
          ],
          [
           540
          ],
          [
           550
          ],
          [
           551
          ],
          [
           557
          ],
          [
           579
          ],
          [
           586
          ],
          [
           587
          ],
          [
           589
          ],
          [
           590
          ],
          [
           597
          ],
          [
           607
          ],
          [
           636
          ],
          [
           657
          ],
          [
           684
          ],
          [
           694
          ],
          [
           701
          ],
          [
           715
          ],
          [
           716
          ],
          [
           762
          ],
          [
           799
          ],
          [
           800
          ],
          [
           803
          ],
          [
           814
          ],
          [
           831
          ],
          [
           843
          ],
          [
           853
          ],
          [
           880
          ],
          [
           893
          ]
         ],
         "hovertemplate": "Borough=Zuidoost<br>Lat=%{lat}<br>Lon=%{lon}<br>Index=%{customdata[0]}<extra></extra>",
         "lat": [
          52.317294,
          52.300656,
          52.314,
          52.2923239,
          52.292948,
          52.325544,
          52.294198,
          52.301346,
          52.291803,
          52.295032,
          52.309773,
          52.317512,
          52.318782,
          52.308383,
          52.306326,
          52.321174,
          52.309724,
          52.317822,
          52.320409,
          52.296421,
          52.321743,
          52.325081,
          52.293948,
          52.319741,
          52.324231,
          52.292974,
          52.299114,
          52.320364,
          52.323983,
          52.294299,
          52.316165,
          52.324304,
          52.320576,
          52.318673,
          52.29785,
          52.326171,
          52.2976,
          52.326205,
          52.315883,
          52.319485,
          52.317544,
          52.299293,
          52.319589,
          52.320816,
          52.305543,
          52.316742,
          52.294189,
          52.316374,
          52.291519,
          52.29383,
          52.297841,
          52.324953,
          52.316702,
          52.2923239,
          52.325525,
          52.321871,
          52.318698,
          52.313749,
          52.317064,
          52.295757,
          52.325473,
          52.299712,
          52.317292,
          52.294244,
          52.311632,
          52.317674,
          52.296957,
          52.305296,
          52.321871,
          52.316855,
          52.321172,
          52.305075,
          52.325695,
          52.310514,
          52.31741,
          52.309662,
          52.325253,
          52.324322,
          52.291672
         ],
         "legendgroup": "Zuidoost",
         "lon": [
          4.949572,
          4.987296,
          4.981149,
          4.9688878,
          4.993551,
          4.976804,
          4.983191,
          4.970987,
          4.968806,
          4.977496,
          4.957403,
          4.972596,
          4.979002,
          4.976098,
          4.976454,
          4.943931,
          4.95868,
          4.956167,
          4.945909,
          4.976237,
          4.961952,
          4.947171,
          4.991578,
          4.945309,
          4.977675,
          4.990488,
          4.98042,
          4.981355,
          4.945355,
          4.98366,
          4.986145,
          4.974337,
          4.942778,
          4.960086,
          4.976048,
          4.946436,
          4.995049,
          4.975727,
          4.982447,
          4.946485,
          4.943668,
          4.988144,
          4.943523,
          4.944301,
          4.978704,
          4.992035,
          4.983162,
          4.9685,
          4.977631,
          4.983209,
          4.971123,
          4.945155,
          4.969802,
          4.9688878,
          4.976731,
          4.972526,
          4.983057,
          4.981371,
          4.967708,
          4.992412,
          4.974531,
          4.984519,
          4.9684,
          4.970438,
          4.95696,
          4.955054,
          4.975309,
          5.015376,
          4.972526,
          4.952422,
          4.98896,
          5.016522,
          4.945048,
          4.955915,
          4.956816,
          4.958115,
          4.947669,
          4.974395,
          4.968223
         ],
         "marker": {
          "color": "#FF6692"
         },
         "mode": "markers",
         "name": "Zuidoost",
         "showlegend": true,
         "subplot": "mapbox",
         "type": "scattermapbox"
        }
       ],
       "layout": {
        "height": 500,
        "legend": {
         "title": {
          "text": "Borough"
         },
         "tracegroupgap": 0
        },
        "mapbox": {
         "accesstoken": "pk.eyJ1IjoiZGVubmlzd2lua2xlcjY4IiwiYSI6ImNsa3R5YnlsbzBoMTMza3BuY2Y2ZGpmdTYifQ.MNqZ4oP1LXDEIwXLcLX39g",
         "center": {
          "lat": 52.36328534129661,
          "lon": 4.888512954453963
         },
         "domain": {
          "x": [
           0,
           1
          ],
          "y": [
           0,
           1
          ]
         },
         "layers": [
          {
           "below": "traces",
           "sourceattribution": "Amsterdam Property Information",
           "sourcetype": "raster"
          }
         ],
         "style": "light",
         "zoom": 9.8
        },
        "margin": {
         "t": 60
        },
        "template": {
         "data": {
          "bar": [
           {
            "error_x": {
             "color": "#2a3f5f"
            },
            "error_y": {
             "color": "#2a3f5f"
            },
            "marker": {
             "line": {
              "color": "#E5ECF6",
              "width": 0.5
             },
             "pattern": {
              "fillmode": "overlay",
              "size": 10,
              "solidity": 0.2
             }
            },
            "type": "bar"
           }
          ],
          "barpolar": [
           {
            "marker": {
             "line": {
              "color": "#E5ECF6",
              "width": 0.5
             },
             "pattern": {
              "fillmode": "overlay",
              "size": 10,
              "solidity": 0.2
             }
            },
            "type": "barpolar"
           }
          ],
          "carpet": [
           {
            "aaxis": {
             "endlinecolor": "#2a3f5f",
             "gridcolor": "white",
             "linecolor": "white",
             "minorgridcolor": "white",
             "startlinecolor": "#2a3f5f"
            },
            "baxis": {
             "endlinecolor": "#2a3f5f",
             "gridcolor": "white",
             "linecolor": "white",
             "minorgridcolor": "white",
             "startlinecolor": "#2a3f5f"
            },
            "type": "carpet"
           }
          ],
          "choropleth": [
           {
            "colorbar": {
             "outlinewidth": 0,
             "ticks": ""
            },
            "type": "choropleth"
           }
          ],
          "contour": [
           {
            "colorbar": {
             "outlinewidth": 0,
             "ticks": ""
            },
            "colorscale": [
             [
              0,
              "#0d0887"
             ],
             [
              0.1111111111111111,
              "#46039f"
             ],
             [
              0.2222222222222222,
              "#7201a8"
             ],
             [
              0.3333333333333333,
              "#9c179e"
             ],
             [
              0.4444444444444444,
              "#bd3786"
             ],
             [
              0.5555555555555556,
              "#d8576b"
             ],
             [
              0.6666666666666666,
              "#ed7953"
             ],
             [
              0.7777777777777778,
              "#fb9f3a"
             ],
             [
              0.8888888888888888,
              "#fdca26"
             ],
             [
              1,
              "#f0f921"
             ]
            ],
            "type": "contour"
           }
          ],
          "contourcarpet": [
           {
            "colorbar": {
             "outlinewidth": 0,
             "ticks": ""
            },
            "type": "contourcarpet"
           }
          ],
          "heatmap": [
           {
            "colorbar": {
             "outlinewidth": 0,
             "ticks": ""
            },
            "colorscale": [
             [
              0,
              "#0d0887"
             ],
             [
              0.1111111111111111,
              "#46039f"
             ],
             [
              0.2222222222222222,
              "#7201a8"
             ],
             [
              0.3333333333333333,
              "#9c179e"
             ],
             [
              0.4444444444444444,
              "#bd3786"
             ],
             [
              0.5555555555555556,
              "#d8576b"
             ],
             [
              0.6666666666666666,
              "#ed7953"
             ],
             [
              0.7777777777777778,
              "#fb9f3a"
             ],
             [
              0.8888888888888888,
              "#fdca26"
             ],
             [
              1,
              "#f0f921"
             ]
            ],
            "type": "heatmap"
           }
          ],
          "heatmapgl": [
           {
            "colorbar": {
             "outlinewidth": 0,
             "ticks": ""
            },
            "colorscale": [
             [
              0,
              "#0d0887"
             ],
             [
              0.1111111111111111,
              "#46039f"
             ],
             [
              0.2222222222222222,
              "#7201a8"
             ],
             [
              0.3333333333333333,
              "#9c179e"
             ],
             [
              0.4444444444444444,
              "#bd3786"
             ],
             [
              0.5555555555555556,
              "#d8576b"
             ],
             [
              0.6666666666666666,
              "#ed7953"
             ],
             [
              0.7777777777777778,
              "#fb9f3a"
             ],
             [
              0.8888888888888888,
              "#fdca26"
             ],
             [
              1,
              "#f0f921"
             ]
            ],
            "type": "heatmapgl"
           }
          ],
          "histogram": [
           {
            "marker": {
             "pattern": {
              "fillmode": "overlay",
              "size": 10,
              "solidity": 0.2
             }
            },
            "type": "histogram"
           }
          ],
          "histogram2d": [
           {
            "colorbar": {
             "outlinewidth": 0,
             "ticks": ""
            },
            "colorscale": [
             [
              0,
              "#0d0887"
             ],
             [
              0.1111111111111111,
              "#46039f"
             ],
             [
              0.2222222222222222,
              "#7201a8"
             ],
             [
              0.3333333333333333,
              "#9c179e"
             ],
             [
              0.4444444444444444,
              "#bd3786"
             ],
             [
              0.5555555555555556,
              "#d8576b"
             ],
             [
              0.6666666666666666,
              "#ed7953"
             ],
             [
              0.7777777777777778,
              "#fb9f3a"
             ],
             [
              0.8888888888888888,
              "#fdca26"
             ],
             [
              1,
              "#f0f921"
             ]
            ],
            "type": "histogram2d"
           }
          ],
          "histogram2dcontour": [
           {
            "colorbar": {
             "outlinewidth": 0,
             "ticks": ""
            },
            "colorscale": [
             [
              0,
              "#0d0887"
             ],
             [
              0.1111111111111111,
              "#46039f"
             ],
             [
              0.2222222222222222,
              "#7201a8"
             ],
             [
              0.3333333333333333,
              "#9c179e"
             ],
             [
              0.4444444444444444,
              "#bd3786"
             ],
             [
              0.5555555555555556,
              "#d8576b"
             ],
             [
              0.6666666666666666,
              "#ed7953"
             ],
             [
              0.7777777777777778,
              "#fb9f3a"
             ],
             [
              0.8888888888888888,
              "#fdca26"
             ],
             [
              1,
              "#f0f921"
             ]
            ],
            "type": "histogram2dcontour"
           }
          ],
          "mesh3d": [
           {
            "colorbar": {
             "outlinewidth": 0,
             "ticks": ""
            },
            "type": "mesh3d"
           }
          ],
          "parcoords": [
           {
            "line": {
             "colorbar": {
              "outlinewidth": 0,
              "ticks": ""
             }
            },
            "type": "parcoords"
           }
          ],
          "pie": [
           {
            "automargin": true,
            "type": "pie"
           }
          ],
          "scatter": [
           {
            "fillpattern": {
             "fillmode": "overlay",
             "size": 10,
             "solidity": 0.2
            },
            "type": "scatter"
           }
          ],
          "scatter3d": [
           {
            "line": {
             "colorbar": {
              "outlinewidth": 0,
              "ticks": ""
             }
            },
            "marker": {
             "colorbar": {
              "outlinewidth": 0,
              "ticks": ""
             }
            },
            "type": "scatter3d"
           }
          ],
          "scattercarpet": [
           {
            "marker": {
             "colorbar": {
              "outlinewidth": 0,
              "ticks": ""
             }
            },
            "type": "scattercarpet"
           }
          ],
          "scattergeo": [
           {
            "marker": {
             "colorbar": {
              "outlinewidth": 0,
              "ticks": ""
             }
            },
            "type": "scattergeo"
           }
          ],
          "scattergl": [
           {
            "marker": {
             "colorbar": {
              "outlinewidth": 0,
              "ticks": ""
             }
            },
            "type": "scattergl"
           }
          ],
          "scattermapbox": [
           {
            "marker": {
             "colorbar": {
              "outlinewidth": 0,
              "ticks": ""
             }
            },
            "type": "scattermapbox"
           }
          ],
          "scatterpolar": [
           {
            "marker": {
             "colorbar": {
              "outlinewidth": 0,
              "ticks": ""
             }
            },
            "type": "scatterpolar"
           }
          ],
          "scatterpolargl": [
           {
            "marker": {
             "colorbar": {
              "outlinewidth": 0,
              "ticks": ""
             }
            },
            "type": "scatterpolargl"
           }
          ],
          "scatterternary": [
           {
            "marker": {
             "colorbar": {
              "outlinewidth": 0,
              "ticks": ""
             }
            },
            "type": "scatterternary"
           }
          ],
          "surface": [
           {
            "colorbar": {
             "outlinewidth": 0,
             "ticks": ""
            },
            "colorscale": [
             [
              0,
              "#0d0887"
             ],
             [
              0.1111111111111111,
              "#46039f"
             ],
             [
              0.2222222222222222,
              "#7201a8"
             ],
             [
              0.3333333333333333,
              "#9c179e"
             ],
             [
              0.4444444444444444,
              "#bd3786"
             ],
             [
              0.5555555555555556,
              "#d8576b"
             ],
             [
              0.6666666666666666,
              "#ed7953"
             ],
             [
              0.7777777777777778,
              "#fb9f3a"
             ],
             [
              0.8888888888888888,
              "#fdca26"
             ],
             [
              1,
              "#f0f921"
             ]
            ],
            "type": "surface"
           }
          ],
          "table": [
           {
            "cells": {
             "fill": {
              "color": "#EBF0F8"
             },
             "line": {
              "color": "white"
             }
            },
            "header": {
             "fill": {
              "color": "#C8D4E3"
             },
             "line": {
              "color": "white"
             }
            },
            "type": "table"
           }
          ]
         },
         "layout": {
          "annotationdefaults": {
           "arrowcolor": "#2a3f5f",
           "arrowhead": 0,
           "arrowwidth": 1
          },
          "autotypenumbers": "strict",
          "coloraxis": {
           "colorbar": {
            "outlinewidth": 0,
            "ticks": ""
           }
          },
          "colorscale": {
           "diverging": [
            [
             0,
             "#8e0152"
            ],
            [
             0.1,
             "#c51b7d"
            ],
            [
             0.2,
             "#de77ae"
            ],
            [
             0.3,
             "#f1b6da"
            ],
            [
             0.4,
             "#fde0ef"
            ],
            [
             0.5,
             "#f7f7f7"
            ],
            [
             0.6,
             "#e6f5d0"
            ],
            [
             0.7,
             "#b8e186"
            ],
            [
             0.8,
             "#7fbc41"
            ],
            [
             0.9,
             "#4d9221"
            ],
            [
             1,
             "#276419"
            ]
           ],
           "sequential": [
            [
             0,
             "#0d0887"
            ],
            [
             0.1111111111111111,
             "#46039f"
            ],
            [
             0.2222222222222222,
             "#7201a8"
            ],
            [
             0.3333333333333333,
             "#9c179e"
            ],
            [
             0.4444444444444444,
             "#bd3786"
            ],
            [
             0.5555555555555556,
             "#d8576b"
            ],
            [
             0.6666666666666666,
             "#ed7953"
            ],
            [
             0.7777777777777778,
             "#fb9f3a"
            ],
            [
             0.8888888888888888,
             "#fdca26"
            ],
            [
             1,
             "#f0f921"
            ]
           ],
           "sequentialminus": [
            [
             0,
             "#0d0887"
            ],
            [
             0.1111111111111111,
             "#46039f"
            ],
            [
             0.2222222222222222,
             "#7201a8"
            ],
            [
             0.3333333333333333,
             "#9c179e"
            ],
            [
             0.4444444444444444,
             "#bd3786"
            ],
            [
             0.5555555555555556,
             "#d8576b"
            ],
            [
             0.6666666666666666,
             "#ed7953"
            ],
            [
             0.7777777777777778,
             "#fb9f3a"
            ],
            [
             0.8888888888888888,
             "#fdca26"
            ],
            [
             1,
             "#f0f921"
            ]
           ]
          },
          "colorway": [
           "#636efa",
           "#EF553B",
           "#00cc96",
           "#ab63fa",
           "#FFA15A",
           "#19d3f3",
           "#FF6692",
           "#B6E880",
           "#FF97FF",
           "#FECB52"
          ],
          "font": {
           "color": "#2a3f5f"
          },
          "geo": {
           "bgcolor": "white",
           "lakecolor": "white",
           "landcolor": "#E5ECF6",
           "showlakes": true,
           "showland": true,
           "subunitcolor": "white"
          },
          "hoverlabel": {
           "align": "left"
          },
          "hovermode": "closest",
          "mapbox": {
           "style": "light"
          },
          "paper_bgcolor": "white",
          "plot_bgcolor": "#E5ECF6",
          "polar": {
           "angularaxis": {
            "gridcolor": "white",
            "linecolor": "white",
            "ticks": ""
           },
           "bgcolor": "#E5ECF6",
           "radialaxis": {
            "gridcolor": "white",
            "linecolor": "white",
            "ticks": ""
           }
          },
          "scene": {
           "xaxis": {
            "backgroundcolor": "#E5ECF6",
            "gridcolor": "white",
            "gridwidth": 2,
            "linecolor": "white",
            "showbackground": true,
            "ticks": "",
            "zerolinecolor": "white"
           },
           "yaxis": {
            "backgroundcolor": "#E5ECF6",
            "gridcolor": "white",
            "gridwidth": 2,
            "linecolor": "white",
            "showbackground": true,
            "ticks": "",
            "zerolinecolor": "white"
           },
           "zaxis": {
            "backgroundcolor": "#E5ECF6",
            "gridcolor": "white",
            "gridwidth": 2,
            "linecolor": "white",
            "showbackground": true,
            "ticks": "",
            "zerolinecolor": "white"
           }
          },
          "shapedefaults": {
           "line": {
            "color": "#2a3f5f"
           }
          },
          "ternary": {
           "aaxis": {
            "gridcolor": "white",
            "linecolor": "white",
            "ticks": ""
           },
           "baxis": {
            "gridcolor": "white",
            "linecolor": "white",
            "ticks": ""
           },
           "bgcolor": "#E5ECF6",
           "caxis": {
            "gridcolor": "white",
            "linecolor": "white",
            "ticks": ""
           }
          },
          "title": {
           "x": 0.05
          },
          "xaxis": {
           "automargin": true,
           "gridcolor": "white",
           "linecolor": "white",
           "ticks": "",
           "title": {
            "standoff": 15
           },
           "zerolinecolor": "white",
           "zerolinewidth": 2
          },
          "yaxis": {
           "automargin": true,
           "gridcolor": "white",
           "linecolor": "white",
           "ticks": "",
           "title": {
            "standoff": 15
           },
           "zerolinecolor": "white",
           "zerolinewidth": 2
          }
         }
        }
       }
      }
     },
     "metadata": {},
     "output_type": "display_data"
    }
   ],
   "source": [
    "fig = px.scatter_mapbox(df, lat=\"Lat\", lon=\"Lon\",\n",
    "                        color=\"Borough\",\n",
    "                        zoom=9.8, \n",
    "                        height=500,\n",
    "                        hover_data=['Index']\n",
    "                        )\n",
    "\n",
    "\n",
    "# Specifying Map Type\n",
    "fig.update_layout(\n",
    "    mapbox_style=\"light\",\n",
    "    mapbox_layers=[\n",
    "        {\n",
    "            \"below\": 'traces',\n",
    "            \"sourcetype\": \"raster\",\n",
    "            \"sourceattribution\": \"Amsterdam Property Information\",\n",
    "        }\n",
    "      ])"
   ]
  },
  {
   "cell_type": "code",
   "execution_count": 168,
   "metadata": {},
   "outputs": [
    {
     "data": {
      "text/html": [
       "<div>\n",
       "<style scoped>\n",
       "    .dataframe tbody tr th:only-of-type {\n",
       "        vertical-align: middle;\n",
       "    }\n",
       "\n",
       "    .dataframe tbody tr th {\n",
       "        vertical-align: top;\n",
       "    }\n",
       "\n",
       "    .dataframe thead th {\n",
       "        text-align: right;\n",
       "    }\n",
       "</style>\n",
       "<table border=\"1\" class=\"dataframe\">\n",
       "  <thead>\n",
       "    <tr style=\"text-align: right;\">\n",
       "      <th></th>\n",
       "      <th>Address</th>\n",
       "      <th>Zip</th>\n",
       "      <th>Price</th>\n",
       "      <th>Area</th>\n",
       "      <th>Room</th>\n",
       "      <th>Lon</th>\n",
       "      <th>Lat</th>\n",
       "      <th>Area Code</th>\n",
       "      <th>Borough</th>\n",
       "      <th>Price (log)</th>\n",
       "      <th>Area (log)</th>\n",
       "      <th>Index</th>\n",
       "    </tr>\n",
       "  </thead>\n",
       "  <tbody>\n",
       "    <tr>\n",
       "      <th>236</th>\n",
       "      <td>Van der Hoopstraat 33 A2, Amsterdam</td>\n",
       "      <td>1051 VB</td>\n",
       "      <td>425000.0</td>\n",
       "      <td>56</td>\n",
       "      <td>2</td>\n",
       "      <td>4.943696</td>\n",
       "      <td>52.338795</td>\n",
       "      <td>1051</td>\n",
       "      <td>West</td>\n",
       "      <td>12.959844</td>\n",
       "      <td>4.025352</td>\n",
       "      <td>236</td>\n",
       "    </tr>\n",
       "  </tbody>\n",
       "</table>\n",
       "</div>"
      ],
      "text/plain": [
       "                                 Address      Zip     Price  Area  Room  \\\n",
       "236  Van der Hoopstraat 33 A2, Amsterdam  1051 VB  425000.0    56     2   \n",
       "\n",
       "          Lon        Lat  Area Code Borough  Price (log)  Area (log)  Index  \n",
       "236  4.943696  52.338795       1051    West    12.959844    4.025352    236  "
      ]
     },
     "execution_count": 168,
     "metadata": {},
     "output_type": "execute_result"
    }
   ],
   "source": [
    "index_to_drop_lst = [212, 627]\n",
    "index_to_change_lst = [236]\n",
    "\n",
    "# these indexes need to be dropped as the houses are in Haarlem not Amsterdam\n",
    "df = df.drop(index_to_drop_lst, inplace=False)\n",
    "\n",
    "df_slice = df.loc[df['Index'] == 236]\n",
    "df_slice"
   ]
  },
  {
   "cell_type": "code",
   "execution_count": 169,
   "metadata": {},
   "outputs": [
    {
     "data": {
      "text/html": [
       "<div>\n",
       "<style scoped>\n",
       "    .dataframe tbody tr th:only-of-type {\n",
       "        vertical-align: middle;\n",
       "    }\n",
       "\n",
       "    .dataframe tbody tr th {\n",
       "        vertical-align: top;\n",
       "    }\n",
       "\n",
       "    .dataframe thead th {\n",
       "        text-align: right;\n",
       "    }\n",
       "</style>\n",
       "<table border=\"1\" class=\"dataframe\">\n",
       "  <thead>\n",
       "    <tr style=\"text-align: right;\">\n",
       "      <th></th>\n",
       "      <th>Address</th>\n",
       "      <th>Zip</th>\n",
       "      <th>Price</th>\n",
       "      <th>Area</th>\n",
       "      <th>Room</th>\n",
       "      <th>Lon</th>\n",
       "      <th>Lat</th>\n",
       "      <th>Area Code</th>\n",
       "      <th>Borough</th>\n",
       "      <th>Price (log)</th>\n",
       "      <th>Area (log)</th>\n",
       "      <th>Index</th>\n",
       "    </tr>\n",
       "  </thead>\n",
       "  <tbody>\n",
       "    <tr>\n",
       "      <th>0</th>\n",
       "      <td>Blasiusstraat 8 2, Amsterdam</td>\n",
       "      <td>1091 CR</td>\n",
       "      <td>685000.0</td>\n",
       "      <td>64</td>\n",
       "      <td>3</td>\n",
       "      <td>4.907736</td>\n",
       "      <td>52.356157</td>\n",
       "      <td>1091</td>\n",
       "      <td>Oost</td>\n",
       "      <td>13.437174</td>\n",
       "      <td>4.158883</td>\n",
       "      <td>0</td>\n",
       "    </tr>\n",
       "    <tr>\n",
       "      <th>1</th>\n",
       "      <td>Kromme Leimuidenstraat 13 H, Amsterdam</td>\n",
       "      <td>1059 EL</td>\n",
       "      <td>475000.0</td>\n",
       "      <td>60</td>\n",
       "      <td>3</td>\n",
       "      <td>4.850476</td>\n",
       "      <td>52.348586</td>\n",
       "      <td>1059</td>\n",
       "      <td>West</td>\n",
       "      <td>13.071070</td>\n",
       "      <td>4.094345</td>\n",
       "      <td>1</td>\n",
       "    </tr>\n",
       "    <tr>\n",
       "      <th>2</th>\n",
       "      <td>Zaaiersweg 11 A, Amsterdam</td>\n",
       "      <td>1097 SM</td>\n",
       "      <td>850000.0</td>\n",
       "      <td>109</td>\n",
       "      <td>4</td>\n",
       "      <td>4.944774</td>\n",
       "      <td>52.343782</td>\n",
       "      <td>1097</td>\n",
       "      <td>Oost</td>\n",
       "      <td>13.652992</td>\n",
       "      <td>4.691348</td>\n",
       "      <td>2</td>\n",
       "    </tr>\n",
       "    <tr>\n",
       "      <th>3</th>\n",
       "      <td>Tenerifestraat 40, Amsterdam</td>\n",
       "      <td>1060 TH</td>\n",
       "      <td>580000.0</td>\n",
       "      <td>128</td>\n",
       "      <td>6</td>\n",
       "      <td>4.789928</td>\n",
       "      <td>52.343712</td>\n",
       "      <td>1060</td>\n",
       "      <td>Nieuw West</td>\n",
       "      <td>13.270783</td>\n",
       "      <td>4.852030</td>\n",
       "      <td>3</td>\n",
       "    </tr>\n",
       "    <tr>\n",
       "      <th>4</th>\n",
       "      <td>Winterjanpad 21, Amsterdam</td>\n",
       "      <td>1036 KN</td>\n",
       "      <td>720000.0</td>\n",
       "      <td>138</td>\n",
       "      <td>5</td>\n",
       "      <td>4.902503</td>\n",
       "      <td>52.410538</td>\n",
       "      <td>1036</td>\n",
       "      <td>Noord</td>\n",
       "      <td>13.487006</td>\n",
       "      <td>4.927254</td>\n",
       "      <td>4</td>\n",
       "    </tr>\n",
       "    <tr>\n",
       "      <th>...</th>\n",
       "      <td>...</td>\n",
       "      <td>...</td>\n",
       "      <td>...</td>\n",
       "      <td>...</td>\n",
       "      <td>...</td>\n",
       "      <td>...</td>\n",
       "      <td>...</td>\n",
       "      <td>...</td>\n",
       "      <td>...</td>\n",
       "      <td>...</td>\n",
       "      <td>...</td>\n",
       "      <td>...</td>\n",
       "    </tr>\n",
       "    <tr>\n",
       "      <th>919</th>\n",
       "      <td>Ringdijk, Amsterdam</td>\n",
       "      <td>1097 AE</td>\n",
       "      <td>750000.0</td>\n",
       "      <td>117</td>\n",
       "      <td>1</td>\n",
       "      <td>4.927757</td>\n",
       "      <td>52.354173</td>\n",
       "      <td>1097</td>\n",
       "      <td>Oost</td>\n",
       "      <td>13.527828</td>\n",
       "      <td>4.762174</td>\n",
       "      <td>919</td>\n",
       "    </tr>\n",
       "    <tr>\n",
       "      <th>920</th>\n",
       "      <td>Kleine Beerstraat 31, Amsterdam</td>\n",
       "      <td>1033 CP</td>\n",
       "      <td>350000.0</td>\n",
       "      <td>72</td>\n",
       "      <td>3</td>\n",
       "      <td>4.890612</td>\n",
       "      <td>52.414587</td>\n",
       "      <td>1033</td>\n",
       "      <td>Noord</td>\n",
       "      <td>12.765688</td>\n",
       "      <td>4.276666</td>\n",
       "      <td>920</td>\n",
       "    </tr>\n",
       "    <tr>\n",
       "      <th>921</th>\n",
       "      <td>Stuyvesantstraat 33 II, Amsterdam</td>\n",
       "      <td>1058 AK</td>\n",
       "      <td>350000.0</td>\n",
       "      <td>51</td>\n",
       "      <td>3</td>\n",
       "      <td>4.856935</td>\n",
       "      <td>52.363256</td>\n",
       "      <td>1058</td>\n",
       "      <td>West</td>\n",
       "      <td>12.765688</td>\n",
       "      <td>3.931826</td>\n",
       "      <td>921</td>\n",
       "    </tr>\n",
       "    <tr>\n",
       "      <th>922</th>\n",
       "      <td>John Blankensteinstraat 51, Amsterdam</td>\n",
       "      <td>1095 MB</td>\n",
       "      <td>599000.0</td>\n",
       "      <td>113</td>\n",
       "      <td>4</td>\n",
       "      <td>4.965731</td>\n",
       "      <td>52.375268</td>\n",
       "      <td>1095</td>\n",
       "      <td>Oost</td>\n",
       "      <td>13.303017</td>\n",
       "      <td>4.727388</td>\n",
       "      <td>922</td>\n",
       "    </tr>\n",
       "    <tr>\n",
       "      <th>923</th>\n",
       "      <td>S. F. van Ossstraat 334, Amsterdam</td>\n",
       "      <td>1068 JS</td>\n",
       "      <td>300000.0</td>\n",
       "      <td>79</td>\n",
       "      <td>4</td>\n",
       "      <td>4.810678</td>\n",
       "      <td>52.355493</td>\n",
       "      <td>1068</td>\n",
       "      <td>Nieuw West</td>\n",
       "      <td>12.611538</td>\n",
       "      <td>4.369448</td>\n",
       "      <td>923</td>\n",
       "    </tr>\n",
       "  </tbody>\n",
       "</table>\n",
       "<p>917 rows × 12 columns</p>\n",
       "</div>"
      ],
      "text/plain": [
       "                                    Address      Zip     Price  Area  Room  \\\n",
       "0              Blasiusstraat 8 2, Amsterdam  1091 CR  685000.0    64     3   \n",
       "1    Kromme Leimuidenstraat 13 H, Amsterdam  1059 EL  475000.0    60     3   \n",
       "2                Zaaiersweg 11 A, Amsterdam  1097 SM  850000.0   109     4   \n",
       "3              Tenerifestraat 40, Amsterdam  1060 TH  580000.0   128     6   \n",
       "4                Winterjanpad 21, Amsterdam  1036 KN  720000.0   138     5   \n",
       "..                                      ...      ...       ...   ...   ...   \n",
       "919                     Ringdijk, Amsterdam  1097 AE  750000.0   117     1   \n",
       "920         Kleine Beerstraat 31, Amsterdam  1033 CP  350000.0    72     3   \n",
       "921       Stuyvesantstraat 33 II, Amsterdam  1058 AK  350000.0    51     3   \n",
       "922   John Blankensteinstraat 51, Amsterdam  1095 MB  599000.0   113     4   \n",
       "923      S. F. van Ossstraat 334, Amsterdam  1068 JS  300000.0    79     4   \n",
       "\n",
       "          Lon        Lat  Area Code     Borough  Price (log)  Area (log)  \\\n",
       "0    4.907736  52.356157       1091        Oost    13.437174    4.158883   \n",
       "1    4.850476  52.348586       1059        West    13.071070    4.094345   \n",
       "2    4.944774  52.343782       1097        Oost    13.652992    4.691348   \n",
       "3    4.789928  52.343712       1060  Nieuw West    13.270783    4.852030   \n",
       "4    4.902503  52.410538       1036       Noord    13.487006    4.927254   \n",
       "..        ...        ...        ...         ...          ...         ...   \n",
       "919  4.927757  52.354173       1097        Oost    13.527828    4.762174   \n",
       "920  4.890612  52.414587       1033       Noord    12.765688    4.276666   \n",
       "921  4.856935  52.363256       1058        West    12.765688    3.931826   \n",
       "922  4.965731  52.375268       1095        Oost    13.303017    4.727388   \n",
       "923  4.810678  52.355493       1068  Nieuw West    12.611538    4.369448   \n",
       "\n",
       "     Index  \n",
       "0        0  \n",
       "1        1  \n",
       "2        2  \n",
       "3        3  \n",
       "4        4  \n",
       "..     ...  \n",
       "919    919  \n",
       "920    920  \n",
       "921    921  \n",
       "922    922  \n",
       "923    923  \n",
       "\n",
       "[917 rows x 12 columns]"
      ]
     },
     "execution_count": 169,
     "metadata": {},
     "output_type": "execute_result"
    }
   ],
   "source": [
    "# after investigation seems to be a mistake for the longitude and lattiude\n",
    "# new longitude and lattitude found on https://www.latlong.net/\n",
    "new_lat = 52.384330\n",
    "new_lon = 4.874410\n",
    "\n",
    "# Updating coordinates\n",
    "df.loc[df['Index'] == 236, 'Lat'] = new_lat\n",
    "df.loc[df['Index'] == 236, 'Lon'] = new_lon\n",
    "\n",
    "df"
   ]
  },
  {
   "cell_type": "markdown",
   "metadata": {},
   "source": [
    "### Saving DataFrame"
   ]
  },
  {
   "cell_type": "code",
   "execution_count": 170,
   "metadata": {},
   "outputs": [],
   "source": [
    "df.to_csv(\"datasets/amsterdam-house-prices-clean.csv\", index=False)"
   ]
  }
 ],
 "metadata": {
  "kernelspec": {
   "display_name": "base",
   "language": "python",
   "name": "python3"
  },
  "language_info": {
   "codemirror_mode": {
    "name": "ipython",
    "version": 3
   },
   "file_extension": ".py",
   "mimetype": "text/x-python",
   "name": "python",
   "nbconvert_exporter": "python",
   "pygments_lexer": "ipython3",
   "version": "3.11.5"
  }
 },
 "nbformat": 4,
 "nbformat_minor": 2
}
